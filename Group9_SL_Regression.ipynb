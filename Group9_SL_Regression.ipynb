{
  "nbformat": 4,
  "nbformat_minor": 0,
  "metadata": {
    "colab": {
      "provenance": [],
      "collapsed_sections": [],
      "authorship_tag": "ABX9TyOKmEynqHr+SE2MTPZS/7uK",
      "include_colab_link": true
    },
    "kernelspec": {
      "name": "python3",
      "display_name": "Python 3"
    },
    "language_info": {
      "name": "python"
    }
  },
  "cells": [
    {
      "cell_type": "markdown",
      "metadata": {
        "id": "view-in-github",
        "colab_type": "text"
      },
      "source": [
        "<a href=\"https://colab.research.google.com/github/Nagaraj-gt/sl1-quarterly-results-stock-predictor/blob/main/Group9_SL_Regression.ipynb\" target=\"_parent\"><img src=\"https://colab.research.google.com/assets/colab-badge.svg\" alt=\"Open In Colab\"/></a>"
      ]
    },
    {
      "cell_type": "markdown",
      "source": [
        "#Building Regression Model for predicting next quarter stock price deviations\n",
        "\n"
      ],
      "metadata": {
        "id": "q815Eo_9-fSB"
      }
    },
    {
      "cell_type": "markdown",
      "source": [
        "## Preparing Code"
      ],
      "metadata": {
        "id": "C-n11nYf-1Gn"
      }
    },
    {
      "cell_type": "code",
      "execution_count": 13,
      "metadata": {
        "id": "b3w2ZziK6b2q"
      },
      "outputs": [],
      "source": [
        "# Importing necessary libraries\n",
        "\n",
        "import pandas as pd\n",
        "import statsmodels.api as sm\n",
        "import numpy as np\n",
        "from scipy.stats import zscore\n",
        "from sklearn.preprocessing import StandardScaler\n",
        "from sklearn import metrics\n",
        "from sklearn.linear_model import Lasso\n",
        "from sklearn.model_selection import train_test_split\n",
        "from sklearn.metrics import r2_score, mean_squared_error\n",
        "from statsmodels.stats.outliers_influence import variance_inflation_factor\n",
        "import matplotlib.pyplot as plt\n",
        "import seaborn as sn\n",
        "%matplotlib inline\n"
      ]
    },
    {
      "cell_type": "markdown",
      "source": [
        "##STEP 1: Collect/Extract Data"
      ],
      "metadata": {
        "id": "nerq-0vO_EA_"
      }
    },
    {
      "cell_type": "code",
      "source": [
        "\n",
        "# The data is prepared alreadt in excel.\n",
        "fmcg_companies_df = pd.read_csv(\"20companies_Dataset_v8.csv\")\n",
        "\n"
      ],
      "metadata": {
        "id": "oe0i9P--63Ko"
      },
      "execution_count": 3,
      "outputs": []
    },
    {
      "cell_type": "markdown",
      "source": [
        "## STEP 2: Pre-Process the Data\n",
        "The missing values are taken care of prior. The data prepared is handmade referencing data from moneycontrol.com"
      ],
      "metadata": {
        "id": "heEXbHFh_bRP"
      }
    },
    {
      "cell_type": "markdown",
      "source": [
        "## Outlier Analysis"
      ],
      "metadata": {
        "id": "t4JBxFPVw71Z"
      }
    },
    {
      "cell_type": "code",
      "source": [
        "fmcg_companies_z_df = fmcg_companies_df.copy()\n",
        "\n",
        "fmcg_companies_z_df['Z_Net Sales/Income from operations'] = zscore(fmcg_companies_z_df['Net Sales/Income from operations'])\n",
        "fmcg_companies_z_df[ (fmcg_companies_z_df['Z_Net Sales/Income from operations'] > 3.0) | (fmcg_companies_z_df['Z_Net Sales/Income from operations'] < -3.0) ]"
      ],
      "metadata": {
        "colab": {
          "base_uri": "https://localhost:8080/",
          "height": 759
        },
        "id": "KilSmEPWw-bB",
        "outputId": "b854af03-da85-4702-a5a5-9d67fc4377ea"
      },
      "execution_count": 14,
      "outputs": [
        {
          "output_type": "execute_result",
          "data": {
            "text/plain": [
              "    Company quarter  Net Sales/Income from operations  \\\n",
              "172     ITC  Mar-16                           9756.70   \n",
              "192     ITC  Jun-16                           9957.66   \n",
              "252     ITC  Mar-17                          11125.54   \n",
              "272     ITC  Jun-17                           9876.45   \n",
              "292     ITC  Sep-17                           9676.20   \n",
              "312     ITC  Dec-17                           9672.57   \n",
              "332     ITC  Mar-18                          10479.24   \n",
              "352     ITC  Jun-18                          10554.66   \n",
              "372     ITC  Sep-18                          10891.23   \n",
              "392     ITC  Dec-18                          11136.55   \n",
              "410     HUL  Mar-19                           9809.00   \n",
              "412     ITC  Mar-19                          11850.23   \n",
              "430     HUL  Jun-19                           9984.00   \n",
              "432     ITC  Jun-19                          11361.35   \n",
              "450     HUL  Sep-19                           9708.00   \n",
              "452     ITC  Sep-19                          11750.16   \n",
              "470     HUL  Dec-19                           9696.00   \n",
              "472     ITC  Dec-19                          12013.01   \n",
              "\n",
              "     Total Income From Operations  Consumption of Raw Materials  \\\n",
              "172                       9756.70                       3033.84   \n",
              "192                      10054.04                       2880.04   \n",
              "252                      11125.54                       2972.84   \n",
              "272                       9954.66                       2894.90   \n",
              "292                       9763.92                       2858.00   \n",
              "312                       9772.02                       2941.91   \n",
              "332                      10586.73                       3061.40   \n",
              "352                      10707.03                       3052.92   \n",
              "372                      11068.85                       3381.90   \n",
              "392                      11227.66                       3414.82   \n",
              "410                       9945.00                       3319.00   \n",
              "412                      11992.11                       3335.33   \n",
              "430                      10114.00                       3161.00   \n",
              "432                      11502.82                       3098.29   \n",
              "450                       9852.00                       3229.00   \n",
              "452                      11871.47                       3408.42   \n",
              "470                       9808.00                       2793.00   \n",
              "472                      12013.01                       3360.82   \n",
              "\n",
              "     Purchase of Traded Goods  Increase/Decrease in Stocks  Employees Cost  \\\n",
              "172                    819.37                      -286.05          554.71   \n",
              "192                   1004.84                       360.70          700.31   \n",
              "252                   1195.73                       514.23          571.36   \n",
              "272                    990.89                       -49.79          674.63   \n",
              "292                    558.82                       939.55          606.54   \n",
              "312                    498.90                       140.22          595.02   \n",
              "332                    927.93                        11.87          611.27   \n",
              "352                   1254.38                      -197.92          742.97   \n",
              "372                    876.09                        21.68          596.31   \n",
              "392                    838.57                        47.12          629.17   \n",
              "410                   1284.00                       140.00          402.00   \n",
              "412                   1331.28                       -51.02          759.99   \n",
              "430                   1333.00                       154.00          452.00   \n",
              "432                   1816.23                      -774.66          690.31   \n",
              "450                   1447.00                      -191.00          430.00   \n",
              "452                    742.32                       330.98          632.26   \n",
              "470                   1561.00                       136.00          454.00   \n",
              "472                    743.90                       441.77          669.11   \n",
              "\n",
              "     Depreciation  Other Expenses  ...  Equity Share Capital  Basic EPS  \\\n",
              "172        246.48         2029.78  ...                804.72       1.97   \n",
              "192        261.25         1581.92  ...                805.33       1.97   \n",
              "252        241.81         1995.99  ...               1214.74       2.20   \n",
              "272        268.21         1697.63  ...               1215.22       2.11   \n",
              "292        282.42         1589.71  ...               1218.36       2.17   \n",
              "312        290.75         1691.47  ...               1219.05       2.54   \n",
              "332        303.99         1830.25  ...               1220.43       2.41   \n",
              "352        298.69         1652.56  ...               1220.74       2.31   \n",
              "372        327.47         1986.90  ...               1224.19       2.42   \n",
              "392        335.36         1972.21  ...               1224.69       2.62   \n",
              "410        134.00         1372.00  ...                216.00       7.11   \n",
              "412        350.18         2044.88  ...               1225.86       2.84   \n",
              "430        214.00         1206.00  ...                216.00       8.11   \n",
              "432        358.89         2106.97  ...               1225.86       2.59   \n",
              "450        237.00         1296.00  ...                216.00       8.54   \n",
              "452        395.67         2195.12  ...               1228.65       3.28   \n",
              "470        232.00         1256.00  ...                216.00       7.47   \n",
              "472        416.21         2184.74  ...               1229.11       3.37   \n",
              "\n",
              "     QtrOpenPrice  QtrClosePrice  GDP  Gold Price (USD)  ExchangeRate     CPI  \\\n",
              "172        218.38         218.68  7.1            153.86     68.218002  102.52   \n",
              "192        217.94         245.38  7.3            164.12     67.193001  104.94   \n",
              "252        241.95         280.45  5.7            153.40     66.705002  104.94   \n",
              "272        281.10         323.85  6.3            151.87     64.500504  106.47   \n",
              "292        345.25         258.25  7.0            156.15     63.925499  109.02   \n",
              "312        259.25         263.10  6.1            158.60     64.499603  109.79   \n",
              "332        263.30         255.90  8.2            159.48     65.239998  109.91   \n",
              "352        258.50         266.05  7.1            150.02     67.420502  110.68   \n",
              "372        268.00         296.70  7.2            141.78     70.735001  115.14   \n",
              "392        300.65         281.65  7.7            151.12     69.770500  115.40   \n",
              "410       1821.00        1707.80  5.0            151.60     70.816002  117.69   \n",
              "412        283.75         296.70  5.0            151.60     70.816002  117.69   \n",
              "430       1710.00        1787.30  4.5            164.29     69.804001  120.11   \n",
              "432        297.25         273.95  4.5            164.29     69.804001  120.11   \n",
              "450       1795.00        1982.45  6.6            169.67     71.680298  122.54   \n",
              "452        274.90         259.70  6.6            169.67     71.680298  122.54   \n",
              "470       1985.35        1923.25  5.8            174.63     71.723000  125.34   \n",
              "472        259.70         237.65  5.8            174.63     71.723000  125.34   \n",
              "\n",
              "     Next Stock Deviation  Z_Net Sales/Income from operations  \n",
              "172             -0.086435                            3.084321  \n",
              "192              0.058601                            3.161304  \n",
              "252              0.065105                            3.608690  \n",
              "272              0.008957                            3.130194  \n",
              "292              0.142090                            3.053483  \n",
              "312             -0.050222                            3.052093  \n",
              "332              0.017708                            3.361108  \n",
              "352              0.208929                            3.390000  \n",
              "372             -0.170447                            3.518931  \n",
              "392              0.082532                            3.612907  \n",
              "410             -0.212520                            3.104356  \n",
              "412             -0.149184                            3.886300  \n",
              "430             -0.282207                            3.171394  \n",
              "432             -0.126648                            3.699023  \n",
              "450              0.125762                            3.065665  \n",
              "452              0.063009                            3.847966  \n",
              "470             -0.057448                            3.061068  \n",
              "472             -0.127300                            3.948657  \n",
              "\n",
              "[18 rows x 23 columns]"
            ],
            "text/html": [
              "\n",
              "  <div id=\"df-408f522f-5085-4ed7-9593-4411b1284d56\">\n",
              "    <div class=\"colab-df-container\">\n",
              "      <div>\n",
              "<style scoped>\n",
              "    .dataframe tbody tr th:only-of-type {\n",
              "        vertical-align: middle;\n",
              "    }\n",
              "\n",
              "    .dataframe tbody tr th {\n",
              "        vertical-align: top;\n",
              "    }\n",
              "\n",
              "    .dataframe thead th {\n",
              "        text-align: right;\n",
              "    }\n",
              "</style>\n",
              "<table border=\"1\" class=\"dataframe\">\n",
              "  <thead>\n",
              "    <tr style=\"text-align: right;\">\n",
              "      <th></th>\n",
              "      <th>Company</th>\n",
              "      <th>quarter</th>\n",
              "      <th>Net Sales/Income from operations</th>\n",
              "      <th>Total Income From Operations</th>\n",
              "      <th>Consumption of Raw Materials</th>\n",
              "      <th>Purchase of Traded Goods</th>\n",
              "      <th>Increase/Decrease in Stocks</th>\n",
              "      <th>Employees Cost</th>\n",
              "      <th>Depreciation</th>\n",
              "      <th>Other Expenses</th>\n",
              "      <th>...</th>\n",
              "      <th>Equity Share Capital</th>\n",
              "      <th>Basic EPS</th>\n",
              "      <th>QtrOpenPrice</th>\n",
              "      <th>QtrClosePrice</th>\n",
              "      <th>GDP</th>\n",
              "      <th>Gold Price (USD)</th>\n",
              "      <th>ExchangeRate</th>\n",
              "      <th>CPI</th>\n",
              "      <th>Next Stock Deviation</th>\n",
              "      <th>Z_Net Sales/Income from operations</th>\n",
              "    </tr>\n",
              "  </thead>\n",
              "  <tbody>\n",
              "    <tr>\n",
              "      <th>172</th>\n",
              "      <td>ITC</td>\n",
              "      <td>Mar-16</td>\n",
              "      <td>9756.70</td>\n",
              "      <td>9756.70</td>\n",
              "      <td>3033.84</td>\n",
              "      <td>819.37</td>\n",
              "      <td>-286.05</td>\n",
              "      <td>554.71</td>\n",
              "      <td>246.48</td>\n",
              "      <td>2029.78</td>\n",
              "      <td>...</td>\n",
              "      <td>804.72</td>\n",
              "      <td>1.97</td>\n",
              "      <td>218.38</td>\n",
              "      <td>218.68</td>\n",
              "      <td>7.1</td>\n",
              "      <td>153.86</td>\n",
              "      <td>68.218002</td>\n",
              "      <td>102.52</td>\n",
              "      <td>-0.086435</td>\n",
              "      <td>3.084321</td>\n",
              "    </tr>\n",
              "    <tr>\n",
              "      <th>192</th>\n",
              "      <td>ITC</td>\n",
              "      <td>Jun-16</td>\n",
              "      <td>9957.66</td>\n",
              "      <td>10054.04</td>\n",
              "      <td>2880.04</td>\n",
              "      <td>1004.84</td>\n",
              "      <td>360.70</td>\n",
              "      <td>700.31</td>\n",
              "      <td>261.25</td>\n",
              "      <td>1581.92</td>\n",
              "      <td>...</td>\n",
              "      <td>805.33</td>\n",
              "      <td>1.97</td>\n",
              "      <td>217.94</td>\n",
              "      <td>245.38</td>\n",
              "      <td>7.3</td>\n",
              "      <td>164.12</td>\n",
              "      <td>67.193001</td>\n",
              "      <td>104.94</td>\n",
              "      <td>0.058601</td>\n",
              "      <td>3.161304</td>\n",
              "    </tr>\n",
              "    <tr>\n",
              "      <th>252</th>\n",
              "      <td>ITC</td>\n",
              "      <td>Mar-17</td>\n",
              "      <td>11125.54</td>\n",
              "      <td>11125.54</td>\n",
              "      <td>2972.84</td>\n",
              "      <td>1195.73</td>\n",
              "      <td>514.23</td>\n",
              "      <td>571.36</td>\n",
              "      <td>241.81</td>\n",
              "      <td>1995.99</td>\n",
              "      <td>...</td>\n",
              "      <td>1214.74</td>\n",
              "      <td>2.20</td>\n",
              "      <td>241.95</td>\n",
              "      <td>280.45</td>\n",
              "      <td>5.7</td>\n",
              "      <td>153.40</td>\n",
              "      <td>66.705002</td>\n",
              "      <td>104.94</td>\n",
              "      <td>0.065105</td>\n",
              "      <td>3.608690</td>\n",
              "    </tr>\n",
              "    <tr>\n",
              "      <th>272</th>\n",
              "      <td>ITC</td>\n",
              "      <td>Jun-17</td>\n",
              "      <td>9876.45</td>\n",
              "      <td>9954.66</td>\n",
              "      <td>2894.90</td>\n",
              "      <td>990.89</td>\n",
              "      <td>-49.79</td>\n",
              "      <td>674.63</td>\n",
              "      <td>268.21</td>\n",
              "      <td>1697.63</td>\n",
              "      <td>...</td>\n",
              "      <td>1215.22</td>\n",
              "      <td>2.11</td>\n",
              "      <td>281.10</td>\n",
              "      <td>323.85</td>\n",
              "      <td>6.3</td>\n",
              "      <td>151.87</td>\n",
              "      <td>64.500504</td>\n",
              "      <td>106.47</td>\n",
              "      <td>0.008957</td>\n",
              "      <td>3.130194</td>\n",
              "    </tr>\n",
              "    <tr>\n",
              "      <th>292</th>\n",
              "      <td>ITC</td>\n",
              "      <td>Sep-17</td>\n",
              "      <td>9676.20</td>\n",
              "      <td>9763.92</td>\n",
              "      <td>2858.00</td>\n",
              "      <td>558.82</td>\n",
              "      <td>939.55</td>\n",
              "      <td>606.54</td>\n",
              "      <td>282.42</td>\n",
              "      <td>1589.71</td>\n",
              "      <td>...</td>\n",
              "      <td>1218.36</td>\n",
              "      <td>2.17</td>\n",
              "      <td>345.25</td>\n",
              "      <td>258.25</td>\n",
              "      <td>7.0</td>\n",
              "      <td>156.15</td>\n",
              "      <td>63.925499</td>\n",
              "      <td>109.02</td>\n",
              "      <td>0.142090</td>\n",
              "      <td>3.053483</td>\n",
              "    </tr>\n",
              "    <tr>\n",
              "      <th>312</th>\n",
              "      <td>ITC</td>\n",
              "      <td>Dec-17</td>\n",
              "      <td>9672.57</td>\n",
              "      <td>9772.02</td>\n",
              "      <td>2941.91</td>\n",
              "      <td>498.90</td>\n",
              "      <td>140.22</td>\n",
              "      <td>595.02</td>\n",
              "      <td>290.75</td>\n",
              "      <td>1691.47</td>\n",
              "      <td>...</td>\n",
              "      <td>1219.05</td>\n",
              "      <td>2.54</td>\n",
              "      <td>259.25</td>\n",
              "      <td>263.10</td>\n",
              "      <td>6.1</td>\n",
              "      <td>158.60</td>\n",
              "      <td>64.499603</td>\n",
              "      <td>109.79</td>\n",
              "      <td>-0.050222</td>\n",
              "      <td>3.052093</td>\n",
              "    </tr>\n",
              "    <tr>\n",
              "      <th>332</th>\n",
              "      <td>ITC</td>\n",
              "      <td>Mar-18</td>\n",
              "      <td>10479.24</td>\n",
              "      <td>10586.73</td>\n",
              "      <td>3061.40</td>\n",
              "      <td>927.93</td>\n",
              "      <td>11.87</td>\n",
              "      <td>611.27</td>\n",
              "      <td>303.99</td>\n",
              "      <td>1830.25</td>\n",
              "      <td>...</td>\n",
              "      <td>1220.43</td>\n",
              "      <td>2.41</td>\n",
              "      <td>263.30</td>\n",
              "      <td>255.90</td>\n",
              "      <td>8.2</td>\n",
              "      <td>159.48</td>\n",
              "      <td>65.239998</td>\n",
              "      <td>109.91</td>\n",
              "      <td>0.017708</td>\n",
              "      <td>3.361108</td>\n",
              "    </tr>\n",
              "    <tr>\n",
              "      <th>352</th>\n",
              "      <td>ITC</td>\n",
              "      <td>Jun-18</td>\n",
              "      <td>10554.66</td>\n",
              "      <td>10707.03</td>\n",
              "      <td>3052.92</td>\n",
              "      <td>1254.38</td>\n",
              "      <td>-197.92</td>\n",
              "      <td>742.97</td>\n",
              "      <td>298.69</td>\n",
              "      <td>1652.56</td>\n",
              "      <td>...</td>\n",
              "      <td>1220.74</td>\n",
              "      <td>2.31</td>\n",
              "      <td>258.50</td>\n",
              "      <td>266.05</td>\n",
              "      <td>7.1</td>\n",
              "      <td>150.02</td>\n",
              "      <td>67.420502</td>\n",
              "      <td>110.68</td>\n",
              "      <td>0.208929</td>\n",
              "      <td>3.390000</td>\n",
              "    </tr>\n",
              "    <tr>\n",
              "      <th>372</th>\n",
              "      <td>ITC</td>\n",
              "      <td>Sep-18</td>\n",
              "      <td>10891.23</td>\n",
              "      <td>11068.85</td>\n",
              "      <td>3381.90</td>\n",
              "      <td>876.09</td>\n",
              "      <td>21.68</td>\n",
              "      <td>596.31</td>\n",
              "      <td>327.47</td>\n",
              "      <td>1986.90</td>\n",
              "      <td>...</td>\n",
              "      <td>1224.19</td>\n",
              "      <td>2.42</td>\n",
              "      <td>268.00</td>\n",
              "      <td>296.70</td>\n",
              "      <td>7.2</td>\n",
              "      <td>141.78</td>\n",
              "      <td>70.735001</td>\n",
              "      <td>115.14</td>\n",
              "      <td>-0.170447</td>\n",
              "      <td>3.518931</td>\n",
              "    </tr>\n",
              "    <tr>\n",
              "      <th>392</th>\n",
              "      <td>ITC</td>\n",
              "      <td>Dec-18</td>\n",
              "      <td>11136.55</td>\n",
              "      <td>11227.66</td>\n",
              "      <td>3414.82</td>\n",
              "      <td>838.57</td>\n",
              "      <td>47.12</td>\n",
              "      <td>629.17</td>\n",
              "      <td>335.36</td>\n",
              "      <td>1972.21</td>\n",
              "      <td>...</td>\n",
              "      <td>1224.69</td>\n",
              "      <td>2.62</td>\n",
              "      <td>300.65</td>\n",
              "      <td>281.65</td>\n",
              "      <td>7.7</td>\n",
              "      <td>151.12</td>\n",
              "      <td>69.770500</td>\n",
              "      <td>115.40</td>\n",
              "      <td>0.082532</td>\n",
              "      <td>3.612907</td>\n",
              "    </tr>\n",
              "    <tr>\n",
              "      <th>410</th>\n",
              "      <td>HUL</td>\n",
              "      <td>Mar-19</td>\n",
              "      <td>9809.00</td>\n",
              "      <td>9945.00</td>\n",
              "      <td>3319.00</td>\n",
              "      <td>1284.00</td>\n",
              "      <td>140.00</td>\n",
              "      <td>402.00</td>\n",
              "      <td>134.00</td>\n",
              "      <td>1372.00</td>\n",
              "      <td>...</td>\n",
              "      <td>216.00</td>\n",
              "      <td>7.11</td>\n",
              "      <td>1821.00</td>\n",
              "      <td>1707.80</td>\n",
              "      <td>5.0</td>\n",
              "      <td>151.60</td>\n",
              "      <td>70.816002</td>\n",
              "      <td>117.69</td>\n",
              "      <td>-0.212520</td>\n",
              "      <td>3.104356</td>\n",
              "    </tr>\n",
              "    <tr>\n",
              "      <th>412</th>\n",
              "      <td>ITC</td>\n",
              "      <td>Mar-19</td>\n",
              "      <td>11850.23</td>\n",
              "      <td>11992.11</td>\n",
              "      <td>3335.33</td>\n",
              "      <td>1331.28</td>\n",
              "      <td>-51.02</td>\n",
              "      <td>759.99</td>\n",
              "      <td>350.18</td>\n",
              "      <td>2044.88</td>\n",
              "      <td>...</td>\n",
              "      <td>1225.86</td>\n",
              "      <td>2.84</td>\n",
              "      <td>283.75</td>\n",
              "      <td>296.70</td>\n",
              "      <td>5.0</td>\n",
              "      <td>151.60</td>\n",
              "      <td>70.816002</td>\n",
              "      <td>117.69</td>\n",
              "      <td>-0.149184</td>\n",
              "      <td>3.886300</td>\n",
              "    </tr>\n",
              "    <tr>\n",
              "      <th>430</th>\n",
              "      <td>HUL</td>\n",
              "      <td>Jun-19</td>\n",
              "      <td>9984.00</td>\n",
              "      <td>10114.00</td>\n",
              "      <td>3161.00</td>\n",
              "      <td>1333.00</td>\n",
              "      <td>154.00</td>\n",
              "      <td>452.00</td>\n",
              "      <td>214.00</td>\n",
              "      <td>1206.00</td>\n",
              "      <td>...</td>\n",
              "      <td>216.00</td>\n",
              "      <td>8.11</td>\n",
              "      <td>1710.00</td>\n",
              "      <td>1787.30</td>\n",
              "      <td>4.5</td>\n",
              "      <td>164.29</td>\n",
              "      <td>69.804001</td>\n",
              "      <td>120.11</td>\n",
              "      <td>-0.282207</td>\n",
              "      <td>3.171394</td>\n",
              "    </tr>\n",
              "    <tr>\n",
              "      <th>432</th>\n",
              "      <td>ITC</td>\n",
              "      <td>Jun-19</td>\n",
              "      <td>11361.35</td>\n",
              "      <td>11502.82</td>\n",
              "      <td>3098.29</td>\n",
              "      <td>1816.23</td>\n",
              "      <td>-774.66</td>\n",
              "      <td>690.31</td>\n",
              "      <td>358.89</td>\n",
              "      <td>2106.97</td>\n",
              "      <td>...</td>\n",
              "      <td>1225.86</td>\n",
              "      <td>2.59</td>\n",
              "      <td>297.25</td>\n",
              "      <td>273.95</td>\n",
              "      <td>4.5</td>\n",
              "      <td>164.29</td>\n",
              "      <td>69.804001</td>\n",
              "      <td>120.11</td>\n",
              "      <td>-0.126648</td>\n",
              "      <td>3.699023</td>\n",
              "    </tr>\n",
              "    <tr>\n",
              "      <th>450</th>\n",
              "      <td>HUL</td>\n",
              "      <td>Sep-19</td>\n",
              "      <td>9708.00</td>\n",
              "      <td>9852.00</td>\n",
              "      <td>3229.00</td>\n",
              "      <td>1447.00</td>\n",
              "      <td>-191.00</td>\n",
              "      <td>430.00</td>\n",
              "      <td>237.00</td>\n",
              "      <td>1296.00</td>\n",
              "      <td>...</td>\n",
              "      <td>216.00</td>\n",
              "      <td>8.54</td>\n",
              "      <td>1795.00</td>\n",
              "      <td>1982.45</td>\n",
              "      <td>6.6</td>\n",
              "      <td>169.67</td>\n",
              "      <td>71.680298</td>\n",
              "      <td>122.54</td>\n",
              "      <td>0.125762</td>\n",
              "      <td>3.065665</td>\n",
              "    </tr>\n",
              "    <tr>\n",
              "      <th>452</th>\n",
              "      <td>ITC</td>\n",
              "      <td>Sep-19</td>\n",
              "      <td>11750.16</td>\n",
              "      <td>11871.47</td>\n",
              "      <td>3408.42</td>\n",
              "      <td>742.32</td>\n",
              "      <td>330.98</td>\n",
              "      <td>632.26</td>\n",
              "      <td>395.67</td>\n",
              "      <td>2195.12</td>\n",
              "      <td>...</td>\n",
              "      <td>1228.65</td>\n",
              "      <td>3.28</td>\n",
              "      <td>274.90</td>\n",
              "      <td>259.70</td>\n",
              "      <td>6.6</td>\n",
              "      <td>169.67</td>\n",
              "      <td>71.680298</td>\n",
              "      <td>122.54</td>\n",
              "      <td>0.063009</td>\n",
              "      <td>3.847966</td>\n",
              "    </tr>\n",
              "    <tr>\n",
              "      <th>470</th>\n",
              "      <td>HUL</td>\n",
              "      <td>Dec-19</td>\n",
              "      <td>9696.00</td>\n",
              "      <td>9808.00</td>\n",
              "      <td>2793.00</td>\n",
              "      <td>1561.00</td>\n",
              "      <td>136.00</td>\n",
              "      <td>454.00</td>\n",
              "      <td>232.00</td>\n",
              "      <td>1256.00</td>\n",
              "      <td>...</td>\n",
              "      <td>216.00</td>\n",
              "      <td>7.47</td>\n",
              "      <td>1985.35</td>\n",
              "      <td>1923.25</td>\n",
              "      <td>5.8</td>\n",
              "      <td>174.63</td>\n",
              "      <td>71.723000</td>\n",
              "      <td>125.34</td>\n",
              "      <td>-0.057448</td>\n",
              "      <td>3.061068</td>\n",
              "    </tr>\n",
              "    <tr>\n",
              "      <th>472</th>\n",
              "      <td>ITC</td>\n",
              "      <td>Dec-19</td>\n",
              "      <td>12013.01</td>\n",
              "      <td>12013.01</td>\n",
              "      <td>3360.82</td>\n",
              "      <td>743.90</td>\n",
              "      <td>441.77</td>\n",
              "      <td>669.11</td>\n",
              "      <td>416.21</td>\n",
              "      <td>2184.74</td>\n",
              "      <td>...</td>\n",
              "      <td>1229.11</td>\n",
              "      <td>3.37</td>\n",
              "      <td>259.70</td>\n",
              "      <td>237.65</td>\n",
              "      <td>5.8</td>\n",
              "      <td>174.63</td>\n",
              "      <td>71.723000</td>\n",
              "      <td>125.34</td>\n",
              "      <td>-0.127300</td>\n",
              "      <td>3.948657</td>\n",
              "    </tr>\n",
              "  </tbody>\n",
              "</table>\n",
              "<p>18 rows × 23 columns</p>\n",
              "</div>\n",
              "      <button class=\"colab-df-convert\" onclick=\"convertToInteractive('df-408f522f-5085-4ed7-9593-4411b1284d56')\"\n",
              "              title=\"Convert this dataframe to an interactive table.\"\n",
              "              style=\"display:none;\">\n",
              "        \n",
              "  <svg xmlns=\"http://www.w3.org/2000/svg\" height=\"24px\"viewBox=\"0 0 24 24\"\n",
              "       width=\"24px\">\n",
              "    <path d=\"M0 0h24v24H0V0z\" fill=\"none\"/>\n",
              "    <path d=\"M18.56 5.44l.94 2.06.94-2.06 2.06-.94-2.06-.94-.94-2.06-.94 2.06-2.06.94zm-11 1L8.5 8.5l.94-2.06 2.06-.94-2.06-.94L8.5 2.5l-.94 2.06-2.06.94zm10 10l.94 2.06.94-2.06 2.06-.94-2.06-.94-.94-2.06-.94 2.06-2.06.94z\"/><path d=\"M17.41 7.96l-1.37-1.37c-.4-.4-.92-.59-1.43-.59-.52 0-1.04.2-1.43.59L10.3 9.45l-7.72 7.72c-.78.78-.78 2.05 0 2.83L4 21.41c.39.39.9.59 1.41.59.51 0 1.02-.2 1.41-.59l7.78-7.78 2.81-2.81c.8-.78.8-2.07 0-2.86zM5.41 20L4 18.59l7.72-7.72 1.47 1.35L5.41 20z\"/>\n",
              "  </svg>\n",
              "      </button>\n",
              "      \n",
              "  <style>\n",
              "    .colab-df-container {\n",
              "      display:flex;\n",
              "      flex-wrap:wrap;\n",
              "      gap: 12px;\n",
              "    }\n",
              "\n",
              "    .colab-df-convert {\n",
              "      background-color: #E8F0FE;\n",
              "      border: none;\n",
              "      border-radius: 50%;\n",
              "      cursor: pointer;\n",
              "      display: none;\n",
              "      fill: #1967D2;\n",
              "      height: 32px;\n",
              "      padding: 0 0 0 0;\n",
              "      width: 32px;\n",
              "    }\n",
              "\n",
              "    .colab-df-convert:hover {\n",
              "      background-color: #E2EBFA;\n",
              "      box-shadow: 0px 1px 2px rgba(60, 64, 67, 0.3), 0px 1px 3px 1px rgba(60, 64, 67, 0.15);\n",
              "      fill: #174EA6;\n",
              "    }\n",
              "\n",
              "    [theme=dark] .colab-df-convert {\n",
              "      background-color: #3B4455;\n",
              "      fill: #D2E3FC;\n",
              "    }\n",
              "\n",
              "    [theme=dark] .colab-df-convert:hover {\n",
              "      background-color: #434B5C;\n",
              "      box-shadow: 0px 1px 3px 1px rgba(0, 0, 0, 0.15);\n",
              "      filter: drop-shadow(0px 1px 2px rgba(0, 0, 0, 0.3));\n",
              "      fill: #FFFFFF;\n",
              "    }\n",
              "  </style>\n",
              "\n",
              "      <script>\n",
              "        const buttonEl =\n",
              "          document.querySelector('#df-408f522f-5085-4ed7-9593-4411b1284d56 button.colab-df-convert');\n",
              "        buttonEl.style.display =\n",
              "          google.colab.kernel.accessAllowed ? 'block' : 'none';\n",
              "\n",
              "        async function convertToInteractive(key) {\n",
              "          const element = document.querySelector('#df-408f522f-5085-4ed7-9593-4411b1284d56');\n",
              "          const dataTable =\n",
              "            await google.colab.kernel.invokeFunction('convertToInteractive',\n",
              "                                                     [key], {});\n",
              "          if (!dataTable) return;\n",
              "\n",
              "          const docLinkHtml = 'Like what you see? Visit the ' +\n",
              "            '<a target=\"_blank\" href=https://colab.research.google.com/notebooks/data_table.ipynb>data table notebook</a>'\n",
              "            + ' to learn more about interactive tables.';\n",
              "          element.innerHTML = '';\n",
              "          dataTable['output_type'] = 'display_data';\n",
              "          await google.colab.output.renderOutput(dataTable, element);\n",
              "          const docLink = document.createElement('div');\n",
              "          docLink.innerHTML = docLinkHtml;\n",
              "          element.appendChild(docLink);\n",
              "        }\n",
              "      </script>\n",
              "    </div>\n",
              "  </div>\n",
              "  "
            ]
          },
          "metadata": {},
          "execution_count": 14
        }
      ]
    },
    {
      "cell_type": "markdown",
      "source": [
        "From above there are around 18 outliers with all right skewed. Plotting boxpot for better intuity."
      ],
      "metadata": {
        "id": "qqKqGIMZ1Et1"
      }
    },
    {
      "cell_type": "code",
      "source": [
        "box = sn.boxplot(fmcg_companies_df['Net Sales/Income from operations'])"
      ],
      "metadata": {
        "colab": {
          "base_uri": "https://localhost:8080/",
          "height": 334
        },
        "id": "M548d3nf1WWe",
        "outputId": "d1b39ef7-97d5-4d83-94fc-a057047e9e56"
      },
      "execution_count": 15,
      "outputs": [
        {
          "output_type": "stream",
          "name": "stderr",
          "text": [
            "/usr/local/lib/python3.7/dist-packages/seaborn/_decorators.py:43: FutureWarning: Pass the following variable as a keyword arg: x. From version 0.12, the only valid positional argument will be `data`, and passing other arguments without an explicit keyword will result in an error or misinterpretation.\n",
            "  FutureWarning\n"
          ]
        },
        {
          "output_type": "display_data",
          "data": {
            "text/plain": [
              "<Figure size 432x288 with 1 Axes>"
            ],
            "image/png": "[encoded data removed]"
          },
          "metadata": {
            "needs_background": "light"
          }
        }
      ]
    },
    {
      "cell_type": "markdown",
      "source": [
        "### Labelling Data with stock deviation in next quarter"
      ],
      "metadata": {
        "id": "Tfg6kwE4ACF1"
      }
    },
    {
      "cell_type": "code",
      "source": [
        "# Create an empty list\n",
        "stock_list =[]\n",
        "  \n",
        "# Iterate over each row\n",
        "for index, rows in fmcg_companies_df.iterrows():\n",
        "    # Create list for the current row\n",
        "\n",
        "    stock_deviation = (rows.get('QtrClosePrice') - rows.get('QtrOpenPrice'))/rows.get('QtrOpenPrice')\n",
        "    stock_list.append(stock_deviation) \n",
        "\n",
        "stock_list.append(0)\n",
        "## Assigning stock deviation for next quarter to current quater financial results\n",
        "fmcg_companies_df['Next Stock Deviation'] = stock_list[1:len(stock_list)]\n",
        "\n"
      ],
      "metadata": {
        "id": "VLFAjRj-7MaQ"
      },
      "execution_count": 16,
      "outputs": []
    },
    {
      "cell_type": "code",
      "source": [
        "## Normalizing Data as scales differs \n",
        "\n",
        "X_features = ['Net Sales/Income from operations',\n",
        "              'Total Income From Operations',\n",
        "              'Consumption of Raw Materials',\n",
        "              'Employees Cost',\n",
        "              'Depreciation',\n",
        "              'Other Expenses',\n",
        "              'P/L Before Tax',\n",
        "              'Tax',\n",
        "              'Net Profit/(Loss) For the Period',\n",
        "              'Equity Share Capital',\n",
        "              'Basic EPS',\n",
        "              'GDP',\n",
        "              'Gold Price (USD)']\n",
        "\n",
        "scaler = StandardScaler()\n"
      ],
      "metadata": {
        "id": "sIt0WdUf72w-"
      },
      "execution_count": 17,
      "outputs": []
    },
    {
      "cell_type": "markdown",
      "source": [
        "## STEP 3: Dividing Data into Training and Validation Datasets\n",
        "\n",
        "### X values are ,\n",
        "\n",
        "1. Net Sales/Income from operations\n",
        "2. Total Income From Operations\n",
        "3. Consumption of Raw Materials\n",
        "4. Employees Cost\n",
        "5. Depreciation\n",
        "6. Other Expenses\n",
        "7. P/L Before Tax\n",
        "8. Tax\n",
        "9. Net Profit/(Loss) For the Period\n",
        "10. Equity Share Capital\n",
        "11. Basic EPS\n",
        "12. GDP Growth Rate\n",
        "13. Gold Price (USD) ( TBD to be converted)\n",
        "14. CPI ( TBD)\n",
        "\n",
        "### Y to be predicted is **Next Stock Deviation**"
      ],
      "metadata": {
        "id": "4PCLap4fAh7v"
      }
    },
    {
      "cell_type": "code",
      "source": [
        "X = sm.add_constant(fmcg_companies_df[X_features] )\n",
        "X_Scaled = scaler.fit_transform(X)\n",
        "X_features.insert(1,'const')\n",
        "X_scaled_df = df = pd.DataFrame(data=X_Scaled, index=None, columns=X_features)\n",
        "Y = fmcg_companies_df['Next Stock Deviation']\n",
        "Y = (Y - Y.mean()) / Y.std()"
      ],
      "metadata": {
        "colab": {
          "base_uri": "https://localhost:8080/"
        },
        "id": "S25bmjCkCHgO",
        "outputId": "9adef3b9-08ea-48e8-fbea-79a46a7d9c31"
      },
      "execution_count": 18,
      "outputs": [
        {
          "output_type": "stream",
          "name": "stderr",
          "text": [
            "/usr/local/lib/python3.7/dist-packages/statsmodels/tsa/tsatools.py:142: FutureWarning: In a future version of pandas all arguments of concat except for the argument 'objs' will be keyword-only\n",
            "  x = pd.concat(x[::order], 1)\n"
          ]
        }
      ]
    },
    {
      "cell_type": "code",
      "source": [
        "train_X, test_X, train_y, test_y = train_test_split( X_scaled_df, \n",
        " Y, test_size=1/6, shuffle=False )"
      ],
      "metadata": {
        "id": "eKkg50ex-WXX"
      },
      "execution_count": 35,
      "outputs": []
    },
    {
      "cell_type": "markdown",
      "source": [
        "## STEP 5: Build the Model"
      ],
      "metadata": {
        "id": "VOsqPpQIAseN"
      }
    },
    {
      "cell_type": "code",
      "source": [
        "next_stock_deviation_lm = sm.OLS( train_y, train_X ).fit()"
      ],
      "metadata": {
        "id": "j2KKwo3_Avm_"
      },
      "execution_count": 20,
      "outputs": []
    },
    {
      "cell_type": "markdown",
      "source": [
        "### Intepretation of estimated parameters"
      ],
      "metadata": {
        "id": "DM7Ed5FGGnzY"
      }
    },
    {
      "cell_type": "code",
      "source": [
        "print( next_stock_deviation_lm.params )"
      ],
      "metadata": {
        "colab": {
          "base_uri": "https://localhost:8080/"
        },
        "id": "0_f4_AuQG2qp",
        "outputId": "f81503da-7ab1-4f57-9ba5-0813c8b8a3bc"
      },
      "execution_count": 9,
      "outputs": [
        {
          "output_type": "stream",
          "name": "stdout",
          "text": [
            "Net Sales/Income from operations    0.000000\n",
            "const                              -7.858201\n",
            "Total Income From Operations        7.673530\n",
            "Consumption of Raw Materials       -0.013500\n",
            "Employees Cost                      0.278174\n",
            "Depreciation                       -0.176467\n",
            "Other Expenses                      0.083291\n",
            "P/L Before Tax                     -1.023740\n",
            "Tax                                -0.021282\n",
            "Net Profit/(Loss) For the Period    0.842844\n",
            "Equity Share Capital                0.245431\n",
            "Basic EPS                          -0.026800\n",
            "GDP                                -0.228359\n",
            "Gold Price (USD)                    0.014203\n",
            "dtype: float64\n"
          ]
        }
      ]
    },
    {
      "cell_type": "markdown",
      "source": [
        "***Total Income From Operations*** contributes majorly for the slope of regression line. Next comes,***P/L Before Tax*** and ***Net Profit/(Loss) For the Period*** However these are with much lesser contributions."
      ],
      "metadata": {
        "id": "UYSC7jVQHP7z"
      }
    },
    {
      "cell_type": "markdown",
      "source": [
        "## STEP 6: Perform Model Diagnostics\n",
        "\n",
        "1. Co-efficient of determination (R-squared).\n",
        "2. Hypothesis test for the regression coefficient.\n",
        "3. Analysis of variance for overall model validity (important for multiple linear regression).\n",
        "4. Residual analysis to validate the regression model assumptions.\n",
        "5. Outlier analysis, since the presence of outliers can significantly impact the regression parameters."
      ],
      "metadata": {
        "id": "6kO-R_EBAxxA"
      }
    },
    {
      "cell_type": "markdown",
      "source": [
        "### Regression model summary"
      ],
      "metadata": {
        "id": "ZEYA_4TFIpmk"
      }
    },
    {
      "cell_type": "code",
      "source": [
        "next_stock_deviation_lm.summary2()"
      ],
      "metadata": {
        "colab": {
          "base_uri": "https://localhost:8080/",
          "height": 601
        },
        "id": "0FoeMoC3A2Dn",
        "outputId": "a14a5cf5-d796-4b49-f794-e56026e37b5a"
      },
      "execution_count": 10,
      "outputs": [
        {
          "output_type": "stream",
          "name": "stderr",
          "text": [
            "/usr/local/lib/python3.7/dist-packages/statsmodels/regression/linear_model.py:1860: RuntimeWarning: divide by zero encountered in double_scalars\n",
            "  return np.sqrt(eigvals[0]/eigvals[-1])\n"
          ]
        },
        {
          "output_type": "execute_result",
          "data": {
            "text/plain": [
              "<class 'statsmodels.iolib.summary2.Summary'>\n",
              "\"\"\"\n",
              "                          Results: Ordinary least squares\n",
              "===================================================================================\n",
              "Model:                  OLS                  Adj. R-squared (uncentered): 0.041    \n",
              "Dependent Variable:     Next Stock Deviation AIC:                         1150.8554\n",
              "Date:                   2022-09-03 19:03     BIC:                         1202.7444\n",
              "No. Observations:       400                  Log-Likelihood:              -562.43  \n",
              "Df Model:               13                   F-statistic:                 2.329    \n",
              "Df Residuals:           387                  Prob (F-statistic):          0.00545  \n",
              "R-squared (uncentered): 0.073                Scale:                       1.0073   \n",
              "-----------------------------------------------------------------------------------\n",
              "                                    Coef.  Std.Err.    t    P>|t|   [0.025   0.975]\n",
              "-----------------------------------------------------------------------------------\n",
              "Net Sales/Income from operations    0.0000   0.0000     nan    nan   0.0000  0.0000\n",
              "const                              -7.8582   4.8293 -1.6272 0.1045 -17.3531  1.6367\n",
              "Total Income From Operations        7.6735   4.8555  1.5804 0.1148  -1.8730 17.2201\n",
              "Consumption of Raw Materials       -0.0135   0.3356 -0.0402 0.9679  -0.6733  0.6463\n",
              "Employees Cost                      0.2782   0.2648  1.0507 0.2941  -0.2424  0.7987\n",
              "Depreciation                       -0.1765   0.2163 -0.8157 0.4152  -0.6018  0.2489\n",
              "Other Expenses                      0.0833   0.3453  0.2412 0.8095  -0.5956  0.7622\n",
              "P/L Before Tax                     -1.0237   1.6054 -0.6377 0.5241  -4.1801  2.1326\n",
              "Tax                                -0.0213   0.1575 -0.1351 0.8926  -0.3309  0.2884\n",
              "Net Profit/(Loss) For the Period    0.8428   1.5647  0.5387 0.5904  -2.2335  3.9192\n",
              "Equity Share Capital                0.2454   0.2531  0.9696 0.3328  -0.2522  0.7431\n",
              "Basic EPS                          -0.0268   0.0641 -0.4183 0.6760  -0.1528  0.0992\n",
              "GDP                                -0.2284   0.0597 -3.8282 0.0002  -0.3456 -0.1111\n",
              "Gold Price (USD)                    0.0142   0.0626  0.2269 0.8206  -0.1088  0.1372\n",
              "-----------------------------------------------------------------------------------\n",
              "Omnibus:                   222.783            Durbin-Watson:               1.846   \n",
              "Prob(Omnibus):             0.000              Jarque-Bera (JB):            2711.400\n",
              "Skew:                      2.095              Prob(JB):                    0.000   \n",
              "Kurtosis:                  15.047             Condition No.:               inf     \n",
              "===================================================================================\n",
              "* The condition number is large (inf). This might indicate             strong\n",
              "multicollinearity or other numerical problems.\n",
              "\"\"\""
            ],
            "text/html": [
              "<table class=\"simpletable\">\n",
              "<tr>\n",
              "          <td>Model:</td>                   <td>OLS</td>         <td>Adj. R-squared (uncentered):</td>   <td>0.041</td>  \n",
              "</tr>\n",
              "<tr>\n",
              "    <td>Dependent Variable:</td>   <td>Next Stock Deviation</td>             <td>AIC:</td>             <td>1150.8554</td>\n",
              "</tr>\n",
              "<tr>\n",
              "           <td>Date:</td>            <td>2022-09-03 19:03</td>               <td>BIC:</td>             <td>1202.7444</td>\n",
              "</tr>\n",
              "<tr>\n",
              "     <td>No. Observations:</td>             <td>400</td>                <td>Log-Likelihood:</td>        <td>-562.43</td> \n",
              "</tr>\n",
              "<tr>\n",
              "         <td>Df Model:</td>                 <td>13</td>                  <td>F-statistic:</td>           <td>2.329</td>  \n",
              "</tr>\n",
              "<tr>\n",
              "       <td>Df Residuals:</td>               <td>387</td>              <td>Prob (F-statistic):</td>      <td>0.00545</td> \n",
              "</tr>\n",
              "<tr>\n",
              "  <td>R-squared (uncentered):</td>         <td>0.073</td>                   <td>Scale:</td>             <td>1.0073</td>  \n",
              "</tr>\n",
              "</table>\n",
              "<table class=\"simpletable\">\n",
              "<tr>\n",
              "                  <td></td>                  <th>Coef.</th>  <th>Std.Err.</th>    <th>t</th>     <th>P>|t|</th>  <th>[0.025</th>  <th>0.975]</th> \n",
              "</tr>\n",
              "<tr>\n",
              "  <th>Net Sales/Income from operations</th> <td>0.0000</td>   <td>0.0000</td>    <td>nan</td>     <td>nan</td>   <td>0.0000</td>  <td>0.0000</td> \n",
              "</tr>\n",
              "<tr>\n",
              "  <th>const</th>                            <td>-7.8582</td>  <td>4.8293</td>  <td>-1.6272</td> <td>0.1045</td> <td>-17.3531</td> <td>1.6367</td> \n",
              "</tr>\n",
              "<tr>\n",
              "  <th>Total Income From Operations</th>     <td>7.6735</td>   <td>4.8555</td>  <td>1.5804</td>  <td>0.1148</td>  <td>-1.8730</td> <td>17.2201</td>\n",
              "</tr>\n",
              "<tr>\n",
              "  <th>Consumption of Raw Materials</th>     <td>-0.0135</td>  <td>0.3356</td>  <td>-0.0402</td> <td>0.9679</td>  <td>-0.6733</td> <td>0.6463</td> \n",
              "</tr>\n",
              "<tr>\n",
              "  <th>Employees Cost</th>                   <td>0.2782</td>   <td>0.2648</td>  <td>1.0507</td>  <td>0.2941</td>  <td>-0.2424</td> <td>0.7987</td> \n",
              "</tr>\n",
              "<tr>\n",
              "  <th>Depreciation</th>                     <td>-0.1765</td>  <td>0.2163</td>  <td>-0.8157</td> <td>0.4152</td>  <td>-0.6018</td> <td>0.2489</td> \n",
              "</tr>\n",
              "<tr>\n",
              "  <th>Other Expenses</th>                   <td>0.0833</td>   <td>0.3453</td>  <td>0.2412</td>  <td>0.8095</td>  <td>-0.5956</td> <td>0.7622</td> \n",
              "</tr>\n",
              "<tr>\n",
              "  <th>P/L Before Tax</th>                   <td>-1.0237</td>  <td>1.6054</td>  <td>-0.6377</td> <td>0.5241</td>  <td>-4.1801</td> <td>2.1326</td> \n",
              "</tr>\n",
              "<tr>\n",
              "  <th>Tax</th>                              <td>-0.0213</td>  <td>0.1575</td>  <td>-0.1351</td> <td>0.8926</td>  <td>-0.3309</td> <td>0.2884</td> \n",
              "</tr>\n",
              "<tr>\n",
              "  <th>Net Profit/(Loss) For the Period</th> <td>0.8428</td>   <td>1.5647</td>  <td>0.5387</td>  <td>0.5904</td>  <td>-2.2335</td> <td>3.9192</td> \n",
              "</tr>\n",
              "<tr>\n",
              "  <th>Equity Share Capital</th>             <td>0.2454</td>   <td>0.2531</td>  <td>0.9696</td>  <td>0.3328</td>  <td>-0.2522</td> <td>0.7431</td> \n",
              "</tr>\n",
              "<tr>\n",
              "  <th>Basic EPS</th>                        <td>-0.0268</td>  <td>0.0641</td>  <td>-0.4183</td> <td>0.6760</td>  <td>-0.1528</td> <td>0.0992</td> \n",
              "</tr>\n",
              "<tr>\n",
              "  <th>GDP</th>                              <td>-0.2284</td>  <td>0.0597</td>  <td>-3.8282</td> <td>0.0002</td>  <td>-0.3456</td> <td>-0.1111</td>\n",
              "</tr>\n",
              "<tr>\n",
              "  <th>Gold Price (USD)</th>                 <td>0.0142</td>   <td>0.0626</td>  <td>0.2269</td>  <td>0.8206</td>  <td>-0.1088</td> <td>0.1372</td> \n",
              "</tr>\n",
              "</table>\n",
              "<table class=\"simpletable\">\n",
              "<tr>\n",
              "     <td>Omnibus:</td>    <td>222.783</td>  <td>Durbin-Watson:</td>     <td>1.846</td> \n",
              "</tr>\n",
              "<tr>\n",
              "  <td>Prob(Omnibus):</td>  <td>0.000</td>  <td>Jarque-Bera (JB):</td> <td>2711.400</td>\n",
              "</tr>\n",
              "<tr>\n",
              "       <td>Skew:</td>      <td>2.095</td>      <td>Prob(JB):</td>       <td>0.000</td> \n",
              "</tr>\n",
              "<tr>\n",
              "     <td>Kurtosis:</td>   <td>15.047</td>   <td>Condition No.:</td>      <td>inf</td>  \n",
              "</tr>\n",
              "</table>"
            ]
          },
          "metadata": {},
          "execution_count": 10
        }
      ]
    },
    {
      "cell_type": "markdown",
      "source": [
        "The summary output could be inferred as below :\n",
        "\n",
        "1. R-squared value is 0.073. This means the model is able to **explain 7% **of variations in stock price deviation.\n",
        "\n",
        "2. The p-value for most are high apart from **GDP** and '**Total Income From Operations**'. For GDP Growth rate its close to 0 indicating significance statistically. 'Total Income From Operations' is about 0.11 which has significance relatively. Also **Total Income From Operations** contributes majorly to the regression line slope.\n",
        "\n",
        "3. **P/L Before Tax** and **Net Profit/(Loss) For the Period** does influence slope relatively. However its statistically insignificant with higher p-value.\n",
        "\n",
        "4. The probability F-statistics is 0.00545. **This indicates thar overall model is statistically significant.**\n",
        "\n",
        "### So from this model summary and co-efficients, GDP and 'Total Income From Operations' are statistically significant with later explaining largely for the stock variations.\n"
      ],
      "metadata": {
        "id": "A2o77NozIuQe"
      }
    },
    {
      "cell_type": "markdown",
      "source": [
        "### Residual Analysis"
      ],
      "metadata": {
        "id": "9KFmMhsiL66R"
      }
    },
    {
      "cell_type": "code",
      "source": [
        "next_stock_deviation_resid = next_stock_deviation_lm.resid \n",
        "probplot = sm.ProbPlot(next_stock_deviation_resid) \n",
        "plt.figure( figsize = (8, 6)) \n",
        "probplot.ppplot( line='45' )\n",
        "plt.title( \"Fig - Normal P-P Plot of Regression Standardized Residuals\" )\n",
        "plt.show()"
      ],
      "metadata": {
        "colab": {
          "base_uri": "https://localhost:8080/",
          "height": 312
        },
        "id": "Qsi3UY_uL9o9",
        "outputId": "a968ee9b-9889-44b1-99c6-c507cd857b54"
      },
      "execution_count": 11,
      "outputs": [
        {
          "output_type": "display_data",
          "data": {
            "text/plain": [
              "<Figure size 576x432 with 0 Axes>"
            ]
          },
          "metadata": {}
        },
        {
          "output_type": "display_data",
          "data": {
            "text/plain": [
              "<Figure size 432x288 with 1 Axes>"
            ],
            "image/png": "[encoded data removed]"
          },
          "metadata": {
            "needs_background": "light"
          }
        }
      ]
    },
    {
      "cell_type": "markdown",
      "source": [
        "\n",
        "## The model is significant and above residual plot approximately follows normal distribution. So the assumption of regression for residuals to follow normal distribution hold good.\n",
        "\n",
        "##However the reason 12 out of 14 factors are insignificant indicates multi-collinearity."
      ],
      "metadata": {
        "id": "r2HsNa_vO3_z"
      }
    },
    {
      "cell_type": "markdown",
      "source": [
        "### Removal of Multi-collinearity\n",
        "\n",
        "Multi-collinearity might inflate standard error of estimates. It also results in large p-values making statistically significant variable insignificant. \n",
        "\n",
        "With multi-collinearity, the model would be highly senstivite to adding or removing of factors. Worst case ,even the negative and positive sign of co-efficients might get flipped. "
      ],
      "metadata": {
        "id": "7SB4n8E8XxSE"
      }
    },
    {
      "cell_type": "code",
      "source": [
        "## Calculation of Variation Inflation Factor (VIF) to understand high multi correlation. Feartures with VIF > 4 need ot be assessed.\n",
        "\n",
        "def get_vif_factors( X ): \n",
        "  X_matrix = X.values\n",
        "  vif = [ variance_inflation_factor( X_matrix, i ) for i in range ( X_matrix.shape[1] ) ]\n",
        "  vif_factors = pd.DataFrame() \n",
        "  vif_factors['column'] = X.columns \n",
        "  vif_factors['VIF'] = vif\n",
        "  return vif_factors\n"
      ],
      "metadata": {
        "id": "-pFb1rW0X6Gp"
      },
      "execution_count": 21,
      "outputs": []
    },
    {
      "cell_type": "code",
      "source": [
        "vif_factors = get_vif_factors( X_scaled_df ) \n",
        "vif_factors"
      ],
      "metadata": {
        "colab": {
          "base_uri": "https://localhost:8080/",
          "height": 523
        },
        "id": "3KK9-6WYbXz-",
        "outputId": "c2561d7e-fdef-4d77-e520-825079557274"
      },
      "execution_count": 22,
      "outputs": [
        {
          "output_type": "stream",
          "name": "stderr",
          "text": [
            "/usr/local/lib/python3.7/dist-packages/statsmodels/regression/linear_model.py:1717: RuntimeWarning: invalid value encountered in double_scalars\n",
            "  return 1 - self.ssr/self.uncentered_tss\n"
          ]
        },
        {
          "output_type": "execute_result",
          "data": {
            "text/plain": [
              "                              column           VIF\n",
              "0   Net Sales/Income from operations           NaN\n",
              "1                              const  10087.250384\n",
              "2       Total Income From Operations  10097.045979\n",
              "3       Consumption of Raw Materials     43.069374\n",
              "4                     Employees Cost     24.134087\n",
              "5                       Depreciation     15.131166\n",
              "6                     Other Expenses     41.500495\n",
              "7                     P/L Before Tax    329.613366\n",
              "8                                Tax     11.206608\n",
              "9   Net Profit/(Loss) For the Period    175.700382\n",
              "10              Equity Share Capital     25.955493\n",
              "11                         Basic EPS      1.447292\n",
              "12                               GDP      1.244136\n",
              "13                  Gold Price (USD)      1.262309"
            ],
            "text/html": [
              "\n",
              "  <div id=\"df-327d488b-8932-4f6a-b925-a2009914299f\">\n",
              "    <div class=\"colab-df-container\">\n",
              "      <div>\n",
              "<style scoped>\n",
              "    .dataframe tbody tr th:only-of-type {\n",
              "        vertical-align: middle;\n",
              "    }\n",
              "\n",
              "    .dataframe tbody tr th {\n",
              "        vertical-align: top;\n",
              "    }\n",
              "\n",
              "    .dataframe thead th {\n",
              "        text-align: right;\n",
              "    }\n",
              "</style>\n",
              "<table border=\"1\" class=\"dataframe\">\n",
              "  <thead>\n",
              "    <tr style=\"text-align: right;\">\n",
              "      <th></th>\n",
              "      <th>column</th>\n",
              "      <th>VIF</th>\n",
              "    </tr>\n",
              "  </thead>\n",
              "  <tbody>\n",
              "    <tr>\n",
              "      <th>0</th>\n",
              "      <td>Net Sales/Income from operations</td>\n",
              "      <td>NaN</td>\n",
              "    </tr>\n",
              "    <tr>\n",
              "      <th>1</th>\n",
              "      <td>const</td>\n",
              "      <td>10087.250384</td>\n",
              "    </tr>\n",
              "    <tr>\n",
              "      <th>2</th>\n",
              "      <td>Total Income From Operations</td>\n",
              "      <td>10097.045979</td>\n",
              "    </tr>\n",
              "    <tr>\n",
              "      <th>3</th>\n",
              "      <td>Consumption of Raw Materials</td>\n",
              "      <td>43.069374</td>\n",
              "    </tr>\n",
              "    <tr>\n",
              "      <th>4</th>\n",
              "      <td>Employees Cost</td>\n",
              "      <td>24.134087</td>\n",
              "    </tr>\n",
              "    <tr>\n",
              "      <th>5</th>\n",
              "      <td>Depreciation</td>\n",
              "      <td>15.131166</td>\n",
              "    </tr>\n",
              "    <tr>\n",
              "      <th>6</th>\n",
              "      <td>Other Expenses</td>\n",
              "      <td>41.500495</td>\n",
              "    </tr>\n",
              "    <tr>\n",
              "      <th>7</th>\n",
              "      <td>P/L Before Tax</td>\n",
              "      <td>329.613366</td>\n",
              "    </tr>\n",
              "    <tr>\n",
              "      <th>8</th>\n",
              "      <td>Tax</td>\n",
              "      <td>11.206608</td>\n",
              "    </tr>\n",
              "    <tr>\n",
              "      <th>9</th>\n",
              "      <td>Net Profit/(Loss) For the Period</td>\n",
              "      <td>175.700382</td>\n",
              "    </tr>\n",
              "    <tr>\n",
              "      <th>10</th>\n",
              "      <td>Equity Share Capital</td>\n",
              "      <td>25.955493</td>\n",
              "    </tr>\n",
              "    <tr>\n",
              "      <th>11</th>\n",
              "      <td>Basic EPS</td>\n",
              "      <td>1.447292</td>\n",
              "    </tr>\n",
              "    <tr>\n",
              "      <th>12</th>\n",
              "      <td>GDP</td>\n",
              "      <td>1.244136</td>\n",
              "    </tr>\n",
              "    <tr>\n",
              "      <th>13</th>\n",
              "      <td>Gold Price (USD)</td>\n",
              "      <td>1.262309</td>\n",
              "    </tr>\n",
              "  </tbody>\n",
              "</table>\n",
              "</div>\n",
              "      <button class=\"colab-df-convert\" onclick=\"convertToInteractive('df-327d488b-8932-4f6a-b925-a2009914299f')\"\n",
              "              title=\"Convert this dataframe to an interactive table.\"\n",
              "              style=\"display:none;\">\n",
              "        \n",
              "  <svg xmlns=\"http://www.w3.org/2000/svg\" height=\"24px\"viewBox=\"0 0 24 24\"\n",
              "       width=\"24px\">\n",
              "    <path d=\"M0 0h24v24H0V0z\" fill=\"none\"/>\n",
              "    <path d=\"M18.56 5.44l.94 2.06.94-2.06 2.06-.94-2.06-.94-.94-2.06-.94 2.06-2.06.94zm-11 1L8.5 8.5l.94-2.06 2.06-.94-2.06-.94L8.5 2.5l-.94 2.06-2.06.94zm10 10l.94 2.06.94-2.06 2.06-.94-2.06-.94-.94-2.06-.94 2.06-2.06.94z\"/><path d=\"M17.41 7.96l-1.37-1.37c-.4-.4-.92-.59-1.43-.59-.52 0-1.04.2-1.43.59L10.3 9.45l-7.72 7.72c-.78.78-.78 2.05 0 2.83L4 21.41c.39.39.9.59 1.41.59.51 0 1.02-.2 1.41-.59l7.78-7.78 2.81-2.81c.8-.78.8-2.07 0-2.86zM5.41 20L4 18.59l7.72-7.72 1.47 1.35L5.41 20z\"/>\n",
              "  </svg>\n",
              "      </button>\n",
              "      \n",
              "  <style>\n",
              "    .colab-df-container {\n",
              "      display:flex;\n",
              "      flex-wrap:wrap;\n",
              "      gap: 12px;\n",
              "    }\n",
              "\n",
              "    .colab-df-convert {\n",
              "      background-color: #E8F0FE;\n",
              "      border: none;\n",
              "      border-radius: 50%;\n",
              "      cursor: pointer;\n",
              "      display: none;\n",
              "      fill: #1967D2;\n",
              "      height: 32px;\n",
              "      padding: 0 0 0 0;\n",
              "      width: 32px;\n",
              "    }\n",
              "\n",
              "    .colab-df-convert:hover {\n",
              "      background-color: #E2EBFA;\n",
              "      box-shadow: 0px 1px 2px rgba(60, 64, 67, 0.3), 0px 1px 3px 1px rgba(60, 64, 67, 0.15);\n",
              "      fill: #174EA6;\n",
              "    }\n",
              "\n",
              "    [theme=dark] .colab-df-convert {\n",
              "      background-color: #3B4455;\n",
              "      fill: #D2E3FC;\n",
              "    }\n",
              "\n",
              "    [theme=dark] .colab-df-convert:hover {\n",
              "      background-color: #434B5C;\n",
              "      box-shadow: 0px 1px 3px 1px rgba(0, 0, 0, 0.15);\n",
              "      filter: drop-shadow(0px 1px 2px rgba(0, 0, 0, 0.3));\n",
              "      fill: #FFFFFF;\n",
              "    }\n",
              "  </style>\n",
              "\n",
              "      <script>\n",
              "        const buttonEl =\n",
              "          document.querySelector('#df-327d488b-8932-4f6a-b925-a2009914299f button.colab-df-convert');\n",
              "        buttonEl.style.display =\n",
              "          google.colab.kernel.accessAllowed ? 'block' : 'none';\n",
              "\n",
              "        async function convertToInteractive(key) {\n",
              "          const element = document.querySelector('#df-327d488b-8932-4f6a-b925-a2009914299f');\n",
              "          const dataTable =\n",
              "            await google.colab.kernel.invokeFunction('convertToInteractive',\n",
              "                                                     [key], {});\n",
              "          if (!dataTable) return;\n",
              "\n",
              "          const docLinkHtml = 'Like what you see? Visit the ' +\n",
              "            '<a target=\"_blank\" href=https://colab.research.google.com/notebooks/data_table.ipynb>data table notebook</a>'\n",
              "            + ' to learn more about interactive tables.';\n",
              "          element.innerHTML = '';\n",
              "          dataTable['output_type'] = 'display_data';\n",
              "          await google.colab.output.renderOutput(dataTable, element);\n",
              "          const docLink = document.createElement('div');\n",
              "          docLink.innerHTML = docLinkHtml;\n",
              "          element.appendChild(docLink);\n",
              "        }\n",
              "      </script>\n",
              "    </div>\n",
              "  </div>\n",
              "  "
            ]
          },
          "metadata": {},
          "execution_count": 22
        }
      ]
    },
    {
      "cell_type": "markdown",
      "source": [
        "### Correlation of factors with large VIF > 4"
      ],
      "metadata": {
        "id": "86NfUtyfeCEZ"
      }
    },
    {
      "cell_type": "code",
      "source": [
        "columns_with_large_vif = vif_factors[vif_factors.VIF > 4].column\n",
        "\n",
        "## Plotting correlation matrix with VIF > 4\n",
        "\n",
        "plt.figure( figsize = (12,10) )\n",
        "sn.heatmap( X[columns_with_large_vif].corr(), annot = True );\n",
        "plt.title(\"Figure - Heatmap depicting correlation between features\")"
      ],
      "metadata": {
        "colab": {
          "base_uri": "https://localhost:8080/",
          "height": 767
        },
        "id": "Pc0tNsFleGdl",
        "outputId": "58393780-6551-4196-89d9-24f88d7ba0eb"
      },
      "execution_count": 23,
      "outputs": [
        {
          "output_type": "execute_result",
          "data": {
            "text/plain": [
              "Text(0.5, 1.0, 'Figure - Heatmap depicting correlation between features')"
            ]
          },
          "metadata": {},
          "execution_count": 23
        },
        {
          "output_type": "display_data",
          "data": {
            "text/plain": [
              "<Figure size 864x720 with 2 Axes>"
            ],
            "image/png": "[encoded data removed]"
          },
          "metadata": {
            "needs_background": "light"
          }
        }
      ]
    },
    {
      "cell_type": "markdown",
      "source": [
        "Based on above heatmap, following could be inferred. Lets consider 0.95  above as highly correlated.\n",
        "\n",
        "1. Consumption of Raw Materials, Employee Cost, Other Expenses, Total Income from Operations, P/L Before Tax are highly correlated.\n",
        "\n",
        "2. Depreciation , P/L Before Tax,Net Profit/(Loss) For the Period and Equity Share Capital are highly correlated\n",
        "\n",
        "### Based one above observations lets consider one of factors for model run. Selected factors are ,\n",
        "\n",
        "1. Total Income from Operations\n",
        "2. Equity Share Capital\n",
        "\n",
        "**And remove other factors.**"
      ],
      "metadata": {
        "id": "7H7IoWEUfQ7_"
      }
    },
    {
      "cell_type": "code",
      "source": [
        "columns_to_remove = ['Net Sales/Income from operations','Employees Cost','Other Expenses','P/L Before Tax','Net Profit/(Loss) For the Period','Consumption of Raw Materials','Depreciation']\n",
        "\n",
        "X_new_features = list( set(X_features) - set(columns_to_remove))\n",
        "\n",
        "get_vif_factors( X[X_new_features] )\n"
      ],
      "metadata": {
        "colab": {
          "base_uri": "https://localhost:8080/",
          "height": 269
        },
        "id": "nR3bZ4y8iyDN",
        "outputId": "02fbf72c-ec0c-4033-e24e-668483bd10f6"
      },
      "execution_count": 28,
      "outputs": [
        {
          "output_type": "execute_result",
          "data": {
            "text/plain": [
              "                         column         VIF\n",
              "0              Gold Price (USD)    1.228527\n",
              "1  Total Income From Operations    4.218491\n",
              "2                           GDP    1.223776\n",
              "3          Equity Share Capital    4.953650\n",
              "4                           Tax    5.668109\n",
              "5                     Basic EPS    1.050325\n",
              "6                         const  435.784404"
            ],
            "text/html": [
              "\n",
              "  <div id=\"df-25c66103-5c6d-4899-b8a5-b25828e3c9fa\">\n",
              "    <div class=\"colab-df-container\">\n",
              "      <div>\n",
              "<style scoped>\n",
              "    .dataframe tbody tr th:only-of-type {\n",
              "        vertical-align: middle;\n",
              "    }\n",
              "\n",
              "    .dataframe tbody tr th {\n",
              "        vertical-align: top;\n",
              "    }\n",
              "\n",
              "    .dataframe thead th {\n",
              "        text-align: right;\n",
              "    }\n",
              "</style>\n",
              "<table border=\"1\" class=\"dataframe\">\n",
              "  <thead>\n",
              "    <tr style=\"text-align: right;\">\n",
              "      <th></th>\n",
              "      <th>column</th>\n",
              "      <th>VIF</th>\n",
              "    </tr>\n",
              "  </thead>\n",
              "  <tbody>\n",
              "    <tr>\n",
              "      <th>0</th>\n",
              "      <td>Gold Price (USD)</td>\n",
              "      <td>1.228527</td>\n",
              "    </tr>\n",
              "    <tr>\n",
              "      <th>1</th>\n",
              "      <td>Total Income From Operations</td>\n",
              "      <td>4.218491</td>\n",
              "    </tr>\n",
              "    <tr>\n",
              "      <th>2</th>\n",
              "      <td>GDP</td>\n",
              "      <td>1.223776</td>\n",
              "    </tr>\n",
              "    <tr>\n",
              "      <th>3</th>\n",
              "      <td>Equity Share Capital</td>\n",
              "      <td>4.953650</td>\n",
              "    </tr>\n",
              "    <tr>\n",
              "      <th>4</th>\n",
              "      <td>Tax</td>\n",
              "      <td>5.668109</td>\n",
              "    </tr>\n",
              "    <tr>\n",
              "      <th>5</th>\n",
              "      <td>Basic EPS</td>\n",
              "      <td>1.050325</td>\n",
              "    </tr>\n",
              "    <tr>\n",
              "      <th>6</th>\n",
              "      <td>const</td>\n",
              "      <td>435.784404</td>\n",
              "    </tr>\n",
              "  </tbody>\n",
              "</table>\n",
              "</div>\n",
              "      <button class=\"colab-df-convert\" onclick=\"convertToInteractive('df-25c66103-5c6d-4899-b8a5-b25828e3c9fa')\"\n",
              "              title=\"Convert this dataframe to an interactive table.\"\n",
              "              style=\"display:none;\">\n",
              "        \n",
              "  <svg xmlns=\"http://www.w3.org/2000/svg\" height=\"24px\"viewBox=\"0 0 24 24\"\n",
              "       width=\"24px\">\n",
              "    <path d=\"M0 0h24v24H0V0z\" fill=\"none\"/>\n",
              "    <path d=\"M18.56 5.44l.94 2.06.94-2.06 2.06-.94-2.06-.94-.94-2.06-.94 2.06-2.06.94zm-11 1L8.5 8.5l.94-2.06 2.06-.94-2.06-.94L8.5 2.5l-.94 2.06-2.06.94zm10 10l.94 2.06.94-2.06 2.06-.94-2.06-.94-.94-2.06-.94 2.06-2.06.94z\"/><path d=\"M17.41 7.96l-1.37-1.37c-.4-.4-.92-.59-1.43-.59-.52 0-1.04.2-1.43.59L10.3 9.45l-7.72 7.72c-.78.78-.78 2.05 0 2.83L4 21.41c.39.39.9.59 1.41.59.51 0 1.02-.2 1.41-.59l7.78-7.78 2.81-2.81c.8-.78.8-2.07 0-2.86zM5.41 20L4 18.59l7.72-7.72 1.47 1.35L5.41 20z\"/>\n",
              "  </svg>\n",
              "      </button>\n",
              "      \n",
              "  <style>\n",
              "    .colab-df-container {\n",
              "      display:flex;\n",
              "      flex-wrap:wrap;\n",
              "      gap: 12px;\n",
              "    }\n",
              "\n",
              "    .colab-df-convert {\n",
              "      background-color: #E8F0FE;\n",
              "      border: none;\n",
              "      border-radius: 50%;\n",
              "      cursor: pointer;\n",
              "      display: none;\n",
              "      fill: #1967D2;\n",
              "      height: 32px;\n",
              "      padding: 0 0 0 0;\n",
              "      width: 32px;\n",
              "    }\n",
              "\n",
              "    .colab-df-convert:hover {\n",
              "      background-color: #E2EBFA;\n",
              "      box-shadow: 0px 1px 2px rgba(60, 64, 67, 0.3), 0px 1px 3px 1px rgba(60, 64, 67, 0.15);\n",
              "      fill: #174EA6;\n",
              "    }\n",
              "\n",
              "    [theme=dark] .colab-df-convert {\n",
              "      background-color: #3B4455;\n",
              "      fill: #D2E3FC;\n",
              "    }\n",
              "\n",
              "    [theme=dark] .colab-df-convert:hover {\n",
              "      background-color: #434B5C;\n",
              "      box-shadow: 0px 1px 3px 1px rgba(0, 0, 0, 0.15);\n",
              "      filter: drop-shadow(0px 1px 2px rgba(0, 0, 0, 0.3));\n",
              "      fill: #FFFFFF;\n",
              "    }\n",
              "  </style>\n",
              "\n",
              "      <script>\n",
              "        const buttonEl =\n",
              "          document.querySelector('#df-25c66103-5c6d-4899-b8a5-b25828e3c9fa button.colab-df-convert');\n",
              "        buttonEl.style.display =\n",
              "          google.colab.kernel.accessAllowed ? 'block' : 'none';\n",
              "\n",
              "        async function convertToInteractive(key) {\n",
              "          const element = document.querySelector('#df-25c66103-5c6d-4899-b8a5-b25828e3c9fa');\n",
              "          const dataTable =\n",
              "            await google.colab.kernel.invokeFunction('convertToInteractive',\n",
              "                                                     [key], {});\n",
              "          if (!dataTable) return;\n",
              "\n",
              "          const docLinkHtml = 'Like what you see? Visit the ' +\n",
              "            '<a target=\"_blank\" href=https://colab.research.google.com/notebooks/data_table.ipynb>data table notebook</a>'\n",
              "            + ' to learn more about interactive tables.';\n",
              "          element.innerHTML = '';\n",
              "          dataTable['output_type'] = 'display_data';\n",
              "          await google.colab.output.renderOutput(dataTable, element);\n",
              "          const docLink = document.createElement('div');\n",
              "          docLink.innerHTML = docLinkHtml;\n",
              "          element.appendChild(docLink);\n",
              "        }\n",
              "      </script>\n",
              "    </div>\n",
              "  </div>\n",
              "  "
            ]
          },
          "metadata": {},
          "execution_count": 28
        }
      ]
    },
    {
      "cell_type": "markdown",
      "source": [
        "The observations made out of above is as follows,\n",
        "\n",
        "1. The 6 factors above are relatively much independent  \n",
        "\n",
        "2. 'Total Income From Operations', 'Equity Share Capital' and 'Tax' with marginal correlation."
      ],
      "metadata": {
        "id": "4H9taJK9kf5K"
      }
    },
    {
      "cell_type": "code",
      "source": [
        "### Building new model\n",
        "\n",
        "train_X_new = train_X[X_new_features]\n",
        "model_2 = sm.OLS(train_y, train_X_new).fit()\n",
        "model_2.summary2()"
      ],
      "metadata": {
        "colab": {
          "base_uri": "https://localhost:8080/",
          "height": 420
        },
        "id": "xREY97CkminU",
        "outputId": "a19c886f-a85c-40d4-ce4c-0594967200ad"
      },
      "execution_count": 29,
      "outputs": [
        {
          "output_type": "execute_result",
          "data": {
            "text/plain": [
              "<class 'statsmodels.iolib.summary2.Summary'>\n",
              "\"\"\"\n",
              "                          Results: Ordinary least squares\n",
              "===================================================================================\n",
              "Model:                  OLS                  Adj. R-squared (uncentered): 0.050    \n",
              "Dependent Variable:     Next Stock Deviation AIC:                         1141.3561\n",
              "Date:                   2022-09-03 19:54     BIC:                         1169.2963\n",
              "No. Observations:       400                  Log-Likelihood:              -563.68  \n",
              "Df Model:               7                    F-statistic:                 4.014    \n",
              "Df Residuals:           393                  Prob (F-statistic):          0.000293 \n",
              "R-squared (uncentered): 0.067                Scale:                       0.99817  \n",
              "------------------------------------------------------------------------------------\n",
              "                                Coef.   Std.Err.     t     P>|t|    [0.025    0.975]\n",
              "------------------------------------------------------------------------------------\n",
              "Gold Price (USD)                0.0160    0.0617   0.2600  0.7950   -0.1053   0.1374\n",
              "Total Income From Operations    8.3907    4.6493   1.8047  0.0719   -0.7499  17.5313\n",
              "GDP                            -0.2262    0.0585  -3.8641  0.0001   -0.3413  -0.1111\n",
              "Equity Share Capital            0.1119    0.1234   0.9071  0.3649   -0.1307   0.3546\n",
              "Tax                            -0.0971    0.1238  -0.7840  0.4335   -0.3405   0.1464\n",
              "Basic EPS                      -0.0301    0.0561  -0.5363  0.5921   -0.1403   0.0802\n",
              "const                          -8.3932    4.7042  -1.7842  0.0752  -17.6417   0.8553\n",
              "-----------------------------------------------------------------------------------\n",
              "Omnibus:                   231.808            Durbin-Watson:               1.852   \n",
              "Prob(Omnibus):             0.000              Jarque-Bera (JB):            2876.693\n",
              "Skew:                      2.205              Prob(JB):                    0.000   \n",
              "Kurtosis:                  15.375             Condition No.:               247     \n",
              "===================================================================================\n",
              "\n",
              "\"\"\""
            ],
            "text/html": [
              "<table class=\"simpletable\">\n",
              "<tr>\n",
              "          <td>Model:</td>                   <td>OLS</td>         <td>Adj. R-squared (uncentered):</td>   <td>0.050</td>  \n",
              "</tr>\n",
              "<tr>\n",
              "    <td>Dependent Variable:</td>   <td>Next Stock Deviation</td>             <td>AIC:</td>             <td>1141.3561</td>\n",
              "</tr>\n",
              "<tr>\n",
              "           <td>Date:</td>            <td>2022-09-03 19:54</td>               <td>BIC:</td>             <td>1169.2963</td>\n",
              "</tr>\n",
              "<tr>\n",
              "     <td>No. Observations:</td>             <td>400</td>                <td>Log-Likelihood:</td>        <td>-563.68</td> \n",
              "</tr>\n",
              "<tr>\n",
              "         <td>Df Model:</td>                  <td>7</td>                  <td>F-statistic:</td>           <td>4.014</td>  \n",
              "</tr>\n",
              "<tr>\n",
              "       <td>Df Residuals:</td>               <td>393</td>              <td>Prob (F-statistic):</td>     <td>0.000293</td> \n",
              "</tr>\n",
              "<tr>\n",
              "  <td>R-squared (uncentered):</td>         <td>0.067</td>                   <td>Scale:</td>             <td>0.99817</td> \n",
              "</tr>\n",
              "</table>\n",
              "<table class=\"simpletable\">\n",
              "<tr>\n",
              "                <td></td>                <th>Coef.</th>  <th>Std.Err.</th>    <th>t</th>     <th>P>|t|</th>  <th>[0.025</th>  <th>0.975]</th> \n",
              "</tr>\n",
              "<tr>\n",
              "  <th>Gold Price (USD)</th>             <td>0.0160</td>   <td>0.0617</td>  <td>0.2600</td>  <td>0.7950</td>  <td>-0.1053</td> <td>0.1374</td> \n",
              "</tr>\n",
              "<tr>\n",
              "  <th>Total Income From Operations</th> <td>8.3907</td>   <td>4.6493</td>  <td>1.8047</td>  <td>0.0719</td>  <td>-0.7499</td> <td>17.5313</td>\n",
              "</tr>\n",
              "<tr>\n",
              "  <th>GDP</th>                          <td>-0.2262</td>  <td>0.0585</td>  <td>-3.8641</td> <td>0.0001</td>  <td>-0.3413</td> <td>-0.1111</td>\n",
              "</tr>\n",
              "<tr>\n",
              "  <th>Equity Share Capital</th>         <td>0.1119</td>   <td>0.1234</td>  <td>0.9071</td>  <td>0.3649</td>  <td>-0.1307</td> <td>0.3546</td> \n",
              "</tr>\n",
              "<tr>\n",
              "  <th>Tax</th>                          <td>-0.0971</td>  <td>0.1238</td>  <td>-0.7840</td> <td>0.4335</td>  <td>-0.3405</td> <td>0.1464</td> \n",
              "</tr>\n",
              "<tr>\n",
              "  <th>Basic EPS</th>                    <td>-0.0301</td>  <td>0.0561</td>  <td>-0.5363</td> <td>0.5921</td>  <td>-0.1403</td> <td>0.0802</td> \n",
              "</tr>\n",
              "<tr>\n",
              "  <th>const</th>                        <td>-8.3932</td>  <td>4.7042</td>  <td>-1.7842</td> <td>0.0752</td> <td>-17.6417</td> <td>0.8553</td> \n",
              "</tr>\n",
              "</table>\n",
              "<table class=\"simpletable\">\n",
              "<tr>\n",
              "     <td>Omnibus:</td>    <td>231.808</td>  <td>Durbin-Watson:</td>     <td>1.852</td> \n",
              "</tr>\n",
              "<tr>\n",
              "  <td>Prob(Omnibus):</td>  <td>0.000</td>  <td>Jarque-Bera (JB):</td> <td>2876.693</td>\n",
              "</tr>\n",
              "<tr>\n",
              "       <td>Skew:</td>      <td>2.205</td>      <td>Prob(JB):</td>       <td>0.000</td> \n",
              "</tr>\n",
              "<tr>\n",
              "     <td>Kurtosis:</td>   <td>15.375</td>   <td>Condition No.:</td>      <td>247</td>  \n",
              "</tr>\n",
              "</table>"
            ]
          },
          "metadata": {},
          "execution_count": 29
        }
      ]
    },
    {
      "cell_type": "markdown",
      "source": [
        "The above model summary following could be inferred,\n",
        "\n",
        "1. Model explaination is same. With R-squared value as 0.067 model is able to explain 6.7% variability.\n",
        "\n",
        "2. The Prob F statistics is closer to 0. Hence model is statistically significant.\n",
        "\n",
        "3. At 10% significance level, one internal factor 'Total Income From Operations' and one external factor GDP is statistically significant.\n"
      ],
      "metadata": {
        "id": "urJ0NJUGnGpf"
      }
    },
    {
      "cell_type": "markdown",
      "source": [
        "### Building the model with only statistically significant factors"
      ],
      "metadata": {
        "id": "Ew-rGFxUnxFN"
      }
    },
    {
      "cell_type": "code",
      "source": [
        "significant_vars = ['Total Income From Operations', 'GDP']\n",
        "train_X_sig = train_X[significant_vars]\n",
        "model_3 = sm.OLS(train_y, train_X_sig).fit() \n",
        "model_3.summary2()"
      ],
      "metadata": {
        "colab": {
          "base_uri": "https://localhost:8080/",
          "height": 315
        },
        "id": "1-fDZTaeoNfX",
        "outputId": "336de63b-59d4-472e-92ee-4c91945f3b5b"
      },
      "execution_count": 30,
      "outputs": [
        {
          "output_type": "execute_result",
          "data": {
            "text/plain": [
              "<class 'statsmodels.iolib.summary2.Summary'>\n",
              "\"\"\"\n",
              "                          Results: Ordinary least squares\n",
              "===================================================================================\n",
              "Model:                  OLS                  Adj. R-squared (uncentered): 0.048    \n",
              "Dependent Variable:     Next Stock Deviation AIC:                         1137.0906\n",
              "Date:                   2022-09-03 19:58     BIC:                         1145.0735\n",
              "No. Observations:       400                  Log-Likelihood:              -566.55  \n",
              "Df Model:               2                    F-statistic:                 11.19    \n",
              "Df Residuals:           398                  Prob (F-statistic):          1.86e-05 \n",
              "R-squared (uncentered): 0.053                Scale:                       0.99986  \n",
              "------------------------------------------------------------------------------------\n",
              "                                 Coef.   Std.Err.     t     P>|t|    [0.025   0.975]\n",
              "------------------------------------------------------------------------------------\n",
              "Total Income From Operations     0.0119    0.0520   0.2291  0.8189  -0.0902   0.1140\n",
              "GDP                             -0.2479    0.0524  -4.7288  0.0000  -0.3510  -0.1449\n",
              "-----------------------------------------------------------------------------------\n",
              "Omnibus:                   244.719            Durbin-Watson:               1.883   \n",
              "Prob(Omnibus):             0.000              Jarque-Bera (JB):            3168.503\n",
              "Skew:                      2.360              Prob(JB):                    0.000   \n",
              "Kurtosis:                  15.955             Condition No.:               1       \n",
              "===================================================================================\n",
              "\n",
              "\"\"\""
            ],
            "text/html": [
              "<table class=\"simpletable\">\n",
              "<tr>\n",
              "          <td>Model:</td>                   <td>OLS</td>         <td>Adj. R-squared (uncentered):</td>   <td>0.048</td>  \n",
              "</tr>\n",
              "<tr>\n",
              "    <td>Dependent Variable:</td>   <td>Next Stock Deviation</td>             <td>AIC:</td>             <td>1137.0906</td>\n",
              "</tr>\n",
              "<tr>\n",
              "           <td>Date:</td>            <td>2022-09-03 19:58</td>               <td>BIC:</td>             <td>1145.0735</td>\n",
              "</tr>\n",
              "<tr>\n",
              "     <td>No. Observations:</td>             <td>400</td>                <td>Log-Likelihood:</td>        <td>-566.55</td> \n",
              "</tr>\n",
              "<tr>\n",
              "         <td>Df Model:</td>                  <td>2</td>                  <td>F-statistic:</td>           <td>11.19</td>  \n",
              "</tr>\n",
              "<tr>\n",
              "       <td>Df Residuals:</td>               <td>398</td>              <td>Prob (F-statistic):</td>     <td>1.86e-05</td> \n",
              "</tr>\n",
              "<tr>\n",
              "  <td>R-squared (uncentered):</td>         <td>0.053</td>                   <td>Scale:</td>             <td>0.99986</td> \n",
              "</tr>\n",
              "</table>\n",
              "<table class=\"simpletable\">\n",
              "<tr>\n",
              "                <td></td>                <th>Coef.</th>  <th>Std.Err.</th>    <th>t</th>     <th>P>|t|</th> <th>[0.025</th>  <th>0.975]</th> \n",
              "</tr>\n",
              "<tr>\n",
              "  <th>Total Income From Operations</th> <td>0.0119</td>   <td>0.0520</td>  <td>0.2291</td>  <td>0.8189</td> <td>-0.0902</td> <td>0.1140</td> \n",
              "</tr>\n",
              "<tr>\n",
              "  <th>GDP</th>                          <td>-0.2479</td>  <td>0.0524</td>  <td>-4.7288</td> <td>0.0000</td> <td>-0.3510</td> <td>-0.1449</td>\n",
              "</tr>\n",
              "</table>\n",
              "<table class=\"simpletable\">\n",
              "<tr>\n",
              "     <td>Omnibus:</td>    <td>244.719</td>  <td>Durbin-Watson:</td>     <td>1.883</td> \n",
              "</tr>\n",
              "<tr>\n",
              "  <td>Prob(Omnibus):</td>  <td>0.000</td>  <td>Jarque-Bera (JB):</td> <td>3168.503</td>\n",
              "</tr>\n",
              "<tr>\n",
              "       <td>Skew:</td>      <td>2.360</td>      <td>Prob(JB):</td>       <td>0.000</td> \n",
              "</tr>\n",
              "<tr>\n",
              "     <td>Kurtosis:</td>   <td>15.955</td>   <td>Condition No.:</td>       <td>1</td>   \n",
              "</tr>\n",
              "</table>"
            ]
          },
          "metadata": {},
          "execution_count": 30
        }
      ]
    },
    {
      "cell_type": "code",
      "source": [
        "model_3_resid = model_3.resid \n",
        "probplot = sm.ProbPlot(model_3_resid) \n",
        "plt.figure( figsize = (8, 6)) \n",
        "probplot.ppplot( line='45' )\n",
        "plt.title( \"Fig - Normal P-P Plot of Regression Standardized Residuals\" )\n",
        "plt.show()"
      ],
      "metadata": {
        "colab": {
          "base_uri": "https://localhost:8080/",
          "height": 312
        },
        "id": "rvh3YrQvp_8G",
        "outputId": "ced681a2-f632-4141-a433-4251f1519e3d"
      },
      "execution_count": 31,
      "outputs": [
        {
          "output_type": "display_data",
          "data": {
            "text/plain": [
              "<Figure size 576x432 with 0 Axes>"
            ]
          },
          "metadata": {}
        },
        {
          "output_type": "display_data",
          "data": {
            "text/plain": [
              "<Figure size 432x288 with 1 Axes>"
            ],
            "image/png": "[encoded data removed]"
          },
          "metadata": {
            "needs_background": "light"
          }
        }
      ]
    },
    {
      "cell_type": "markdown",
      "source": [
        "Now 'Total Income From Operations' became statistically insignificant with GDP as highly significant. However the residuals continue to remain normal."
      ],
      "metadata": {
        "id": "2Uu7zJYH8BDd"
      }
    },
    {
      "cell_type": "markdown",
      "source": [
        "## CONCLUSION on MODEL SELECTION : \n",
        "\n",
        "No further improvement with statistically significant factors. The model f-statistics indicae that the model is significant yet its is able to explain only around 10%\n",
        "\n",
        "Also very slight improvements in residual regression.\n",
        "\n",
        "We might need to check now with **lasso optimization** to eliminate true factors.\n",
        "\n"
      ],
      "metadata": {
        "id": "JIUHhr6wouI_"
      }
    },
    {
      "cell_type": "markdown",
      "source": [
        "## Elimination by LASSO"
      ],
      "metadata": {
        "id": "As0fl2ZUpcBu"
      }
    },
    {
      "cell_type": "code",
      "source": [
        "\n",
        "# Takes a model as a parameter\n",
        "# Prints the RMSE on train and test set \n",
        "def get_train_test_rmse( model ):\n",
        "  # Predicting on training dataset\n",
        "  y_train_pred = model.predict( train_X )\n",
        "  # Compare the actual y with predicted y in the training dataset\n",
        "  rmse_train = round(np.sqrt(metrics.mean_squared_error( train_y,y_train_pred)),3)\n",
        "  # Predicting on test dataset\n",
        "  y_test_pred = model.predict( test_X )\n",
        "  # Compare the actual y with predicted y in the test dataset\n",
        "  rmse_test = round(np.sqrt(metrics.mean_squared_error(test_y,y_test_pred)),3)\n",
        "  print(\"train: \", rmse_train,\" test:\", rmse_test)"
      ],
      "metadata": {
        "id": "92ZH1IGNvPhk"
      },
      "execution_count": 36,
      "outputs": []
    },
    {
      "cell_type": "code",
      "source": [
        " # Applying alpha = 1 and running the algorithms for maximum of 500 iterations\n",
        "lasso = Lasso(alpha = 0.01, max_iter = 500) \n",
        "lasso.fit( train_X, train_y )"
      ],
      "metadata": {
        "colab": {
          "base_uri": "https://localhost:8080/"
        },
        "id": "1FjGccIOunZ8",
        "outputId": "c3d4ecb1-9547-4b9c-abe1-46773402f10e"
      },
      "execution_count": 37,
      "outputs": [
        {
          "output_type": "execute_result",
          "data": {
            "text/plain": [
              "Lasso(alpha=0.01, max_iter=500)"
            ]
          },
          "metadata": {},
          "execution_count": 37
        }
      ]
    },
    {
      "cell_type": "code",
      "source": [
        "get_train_test_rmse( lasso )"
      ],
      "metadata": {
        "colab": {
          "base_uri": "https://localhost:8080/"
        },
        "id": "hlbngFABvDif",
        "outputId": "6a59fa29-c6e9-4785-bdb8-389eb60c5f91"
      },
      "execution_count": 38,
      "outputs": [
        {
          "output_type": "stream",
          "name": "stdout",
          "text": [
            "train:  0.987  test: 1.113\n"
          ]
        }
      ]
    },
    {
      "cell_type": "markdown",
      "source": [
        "The differene between train and test is small. The model is is not overfitting. Surprisingly the test accuracy is higher. However both train and test accuracies are collectively underfitting.\n"
      ],
      "metadata": {
        "id": "ddnj545nxLzU"
      }
    },
    {
      "cell_type": "code",
      "source": [
        "## Storing the feature names and coefficient values in the DataFrame\n",
        "\n",
        "lasso_coef_df = pd.DataFrame( { 'columns': train_X.columns ,'coef': lasso.coef_ } )\n",
        "\n",
        "## Filtering out coefficients with zeros\n",
        "lasso_coef_df[lasso_coef_df.coef == 0]"
      ],
      "metadata": {
        "colab": {
          "base_uri": "https://localhost:8080/",
          "height": 332
        },
        "id": "oLvob480xqmr",
        "outputId": "2274b3ff-53a2-4577-84cf-08917220af80"
      },
      "execution_count": 39,
      "outputs": [
        {
          "output_type": "execute_result",
          "data": {
            "text/plain": [
              "                             columns  coef\n",
              "0   Net Sales/Income from operations   0.0\n",
              "1                              const   0.0\n",
              "2       Total Income From Operations   0.0\n",
              "3       Consumption of Raw Materials   0.0\n",
              "5                       Depreciation  -0.0\n",
              "6                     Other Expenses   0.0\n",
              "7                     P/L Before Tax  -0.0\n",
              "9   Net Profit/(Loss) For the Period   0.0\n",
              "10              Equity Share Capital   0.0"
            ],
            "text/html": [
              "\n",
              "  <div id=\"df-f8f316b8-a5e3-4725-9b7d-3e9d2cb28ffd\">\n",
              "    <div class=\"colab-df-container\">\n",
              "      <div>\n",
              "<style scoped>\n",
              "    .dataframe tbody tr th:only-of-type {\n",
              "        vertical-align: middle;\n",
              "    }\n",
              "\n",
              "    .dataframe tbody tr th {\n",
              "        vertical-align: top;\n",
              "    }\n",
              "\n",
              "    .dataframe thead th {\n",
              "        text-align: right;\n",
              "    }\n",
              "</style>\n",
              "<table border=\"1\" class=\"dataframe\">\n",
              "  <thead>\n",
              "    <tr style=\"text-align: right;\">\n",
              "      <th></th>\n",
              "      <th>columns</th>\n",
              "      <th>coef</th>\n",
              "    </tr>\n",
              "  </thead>\n",
              "  <tbody>\n",
              "    <tr>\n",
              "      <th>0</th>\n",
              "      <td>Net Sales/Income from operations</td>\n",
              "      <td>0.0</td>\n",
              "    </tr>\n",
              "    <tr>\n",
              "      <th>1</th>\n",
              "      <td>const</td>\n",
              "      <td>0.0</td>\n",
              "    </tr>\n",
              "    <tr>\n",
              "      <th>2</th>\n",
              "      <td>Total Income From Operations</td>\n",
              "      <td>0.0</td>\n",
              "    </tr>\n",
              "    <tr>\n",
              "      <th>3</th>\n",
              "      <td>Consumption of Raw Materials</td>\n",
              "      <td>0.0</td>\n",
              "    </tr>\n",
              "    <tr>\n",
              "      <th>5</th>\n",
              "      <td>Depreciation</td>\n",
              "      <td>-0.0</td>\n",
              "    </tr>\n",
              "    <tr>\n",
              "      <th>6</th>\n",
              "      <td>Other Expenses</td>\n",
              "      <td>0.0</td>\n",
              "    </tr>\n",
              "    <tr>\n",
              "      <th>7</th>\n",
              "      <td>P/L Before Tax</td>\n",
              "      <td>-0.0</td>\n",
              "    </tr>\n",
              "    <tr>\n",
              "      <th>9</th>\n",
              "      <td>Net Profit/(Loss) For the Period</td>\n",
              "      <td>0.0</td>\n",
              "    </tr>\n",
              "    <tr>\n",
              "      <th>10</th>\n",
              "      <td>Equity Share Capital</td>\n",
              "      <td>0.0</td>\n",
              "    </tr>\n",
              "  </tbody>\n",
              "</table>\n",
              "</div>\n",
              "      <button class=\"colab-df-convert\" onclick=\"convertToInteractive('df-f8f316b8-a5e3-4725-9b7d-3e9d2cb28ffd')\"\n",
              "              title=\"Convert this dataframe to an interactive table.\"\n",
              "              style=\"display:none;\">\n",
              "        \n",
              "  <svg xmlns=\"http://www.w3.org/2000/svg\" height=\"24px\"viewBox=\"0 0 24 24\"\n",
              "       width=\"24px\">\n",
              "    <path d=\"M0 0h24v24H0V0z\" fill=\"none\"/>\n",
              "    <path d=\"M18.56 5.44l.94 2.06.94-2.06 2.06-.94-2.06-.94-.94-2.06-.94 2.06-2.06.94zm-11 1L8.5 8.5l.94-2.06 2.06-.94-2.06-.94L8.5 2.5l-.94 2.06-2.06.94zm10 10l.94 2.06.94-2.06 2.06-.94-2.06-.94-.94-2.06-.94 2.06-2.06.94z\"/><path d=\"M17.41 7.96l-1.37-1.37c-.4-.4-.92-.59-1.43-.59-.52 0-1.04.2-1.43.59L10.3 9.45l-7.72 7.72c-.78.78-.78 2.05 0 2.83L4 21.41c.39.39.9.59 1.41.59.51 0 1.02-.2 1.41-.59l7.78-7.78 2.81-2.81c.8-.78.8-2.07 0-2.86zM5.41 20L4 18.59l7.72-7.72 1.47 1.35L5.41 20z\"/>\n",
              "  </svg>\n",
              "      </button>\n",
              "      \n",
              "  <style>\n",
              "    .colab-df-container {\n",
              "      display:flex;\n",
              "      flex-wrap:wrap;\n",
              "      gap: 12px;\n",
              "    }\n",
              "\n",
              "    .colab-df-convert {\n",
              "      background-color: #E8F0FE;\n",
              "      border: none;\n",
              "      border-radius: 50%;\n",
              "      cursor: pointer;\n",
              "      display: none;\n",
              "      fill: #1967D2;\n",
              "      height: 32px;\n",
              "      padding: 0 0 0 0;\n",
              "      width: 32px;\n",
              "    }\n",
              "\n",
              "    .colab-df-convert:hover {\n",
              "      background-color: #E2EBFA;\n",
              "      box-shadow: 0px 1px 2px rgba(60, 64, 67, 0.3), 0px 1px 3px 1px rgba(60, 64, 67, 0.15);\n",
              "      fill: #174EA6;\n",
              "    }\n",
              "\n",
              "    [theme=dark] .colab-df-convert {\n",
              "      background-color: #3B4455;\n",
              "      fill: #D2E3FC;\n",
              "    }\n",
              "\n",
              "    [theme=dark] .colab-df-convert:hover {\n",
              "      background-color: #434B5C;\n",
              "      box-shadow: 0px 1px 3px 1px rgba(0, 0, 0, 0.15);\n",
              "      filter: drop-shadow(0px 1px 2px rgba(0, 0, 0, 0.3));\n",
              "      fill: #FFFFFF;\n",
              "    }\n",
              "  </style>\n",
              "\n",
              "      <script>\n",
              "        const buttonEl =\n",
              "          document.querySelector('#df-f8f316b8-a5e3-4725-9b7d-3e9d2cb28ffd button.colab-df-convert');\n",
              "        buttonEl.style.display =\n",
              "          google.colab.kernel.accessAllowed ? 'block' : 'none';\n",
              "\n",
              "        async function convertToInteractive(key) {\n",
              "          const element = document.querySelector('#df-f8f316b8-a5e3-4725-9b7d-3e9d2cb28ffd');\n",
              "          const dataTable =\n",
              "            await google.colab.kernel.invokeFunction('convertToInteractive',\n",
              "                                                     [key], {});\n",
              "          if (!dataTable) return;\n",
              "\n",
              "          const docLinkHtml = 'Like what you see? Visit the ' +\n",
              "            '<a target=\"_blank\" href=https://colab.research.google.com/notebooks/data_table.ipynb>data table notebook</a>'\n",
              "            + ' to learn more about interactive tables.';\n",
              "          element.innerHTML = '';\n",
              "          dataTable['output_type'] = 'display_data';\n",
              "          await google.colab.output.renderOutput(dataTable, element);\n",
              "          const docLink = document.createElement('div');\n",
              "          docLink.innerHTML = docLinkHtml;\n",
              "          element.appendChild(docLink);\n",
              "        }\n",
              "      </script>\n",
              "    </div>\n",
              "  </div>\n",
              "  "
            ]
          },
          "metadata": {},
          "execution_count": 39
        }
      ]
    },
    {
      "cell_type": "markdown",
      "source": [
        "### Generating Model basel on lasso elimination"
      ],
      "metadata": {
        "id": "IC0hWpssy9R0"
      }
    },
    {
      "cell_type": "code",
      "source": [
        "X_lasso_features = list( set(X_features) - set(lasso_coef_df[lasso_coef_df.coef == 0]['columns'].to_list()))\n",
        "\n",
        "lasso_model = sm.OLS(train_y, train_X[X_lasso_features]).fit()\n",
        "lasso_model.summary2()"
      ],
      "metadata": {
        "colab": {
          "base_uri": "https://localhost:8080/",
          "height": 378
        },
        "id": "W9_7nQrYzA_b",
        "outputId": "6e3f1aa9-742b-4863-e820-9cca4ec06fc7"
      },
      "execution_count": 40,
      "outputs": [
        {
          "output_type": "execute_result",
          "data": {
            "text/plain": [
              "<class 'statsmodels.iolib.summary2.Summary'>\n",
              "\"\"\"\n",
              "                          Results: Ordinary least squares\n",
              "===================================================================================\n",
              "Model:                  OLS                  Adj. R-squared (uncentered): 0.049    \n",
              "Dependent Variable:     Next Stock Deviation AIC:                         1140.0241\n",
              "Date:                   2022-09-03 20:03     BIC:                         1159.9814\n",
              "No. Observations:       400                  Log-Likelihood:              -565.01  \n",
              "Df Model:               5                    F-statistic:                 5.086    \n",
              "Df Residuals:           395                  Prob (F-statistic):          0.000157 \n",
              "R-squared (uncentered): 0.060                Scale:                       0.99976  \n",
              "--------------------------------------------------------------------------------------\n",
              "                         Coef.     Std.Err.       t       P>|t|      [0.025     0.975]\n",
              "--------------------------------------------------------------------------------------\n",
              "Gold Price (USD)         0.0141      0.0618     0.2288    0.8191    -0.1073     0.1356\n",
              "GDP                     -0.2416      0.0583    -4.1461    0.0000    -0.3561    -0.1270\n",
              "Employees Cost           0.1397      0.0983     1.4215    0.1560    -0.0535     0.3329\n",
              "Tax                     -0.1368      0.0942    -1.4513    0.1475    -0.3220     0.0485\n",
              "Basic EPS               -0.0571      0.0544    -1.0506    0.2941    -0.1641     0.0498\n",
              "-----------------------------------------------------------------------------------\n",
              "Omnibus:                   236.539            Durbin-Watson:               1.875   \n",
              "Prob(Omnibus):             0.000              Jarque-Bera (JB):            2978.618\n",
              "Skew:                      2.262              Prob(JB):                    0.000   \n",
              "Kurtosis:                  15.580             Condition No.:               4       \n",
              "===================================================================================\n",
              "\n",
              "\"\"\""
            ],
            "text/html": [
              "<table class=\"simpletable\">\n",
              "<tr>\n",
              "          <td>Model:</td>                   <td>OLS</td>         <td>Adj. R-squared (uncentered):</td>   <td>0.049</td>  \n",
              "</tr>\n",
              "<tr>\n",
              "    <td>Dependent Variable:</td>   <td>Next Stock Deviation</td>             <td>AIC:</td>             <td>1140.0241</td>\n",
              "</tr>\n",
              "<tr>\n",
              "           <td>Date:</td>            <td>2022-09-03 20:03</td>               <td>BIC:</td>             <td>1159.9814</td>\n",
              "</tr>\n",
              "<tr>\n",
              "     <td>No. Observations:</td>             <td>400</td>                <td>Log-Likelihood:</td>        <td>-565.01</td> \n",
              "</tr>\n",
              "<tr>\n",
              "         <td>Df Model:</td>                  <td>5</td>                  <td>F-statistic:</td>           <td>5.086</td>  \n",
              "</tr>\n",
              "<tr>\n",
              "       <td>Df Residuals:</td>               <td>395</td>              <td>Prob (F-statistic):</td>     <td>0.000157</td> \n",
              "</tr>\n",
              "<tr>\n",
              "  <td>R-squared (uncentered):</td>         <td>0.060</td>                   <td>Scale:</td>             <td>0.99976</td> \n",
              "</tr>\n",
              "</table>\n",
              "<table class=\"simpletable\">\n",
              "<tr>\n",
              "          <td></td>          <th>Coef.</th>  <th>Std.Err.</th>    <th>t</th>     <th>P>|t|</th> <th>[0.025</th>  <th>0.975]</th> \n",
              "</tr>\n",
              "<tr>\n",
              "  <th>Gold Price (USD)</th> <td>0.0141</td>   <td>0.0618</td>  <td>0.2288</td>  <td>0.8191</td> <td>-0.1073</td> <td>0.1356</td> \n",
              "</tr>\n",
              "<tr>\n",
              "  <th>GDP</th>              <td>-0.2416</td>  <td>0.0583</td>  <td>-4.1461</td> <td>0.0000</td> <td>-0.3561</td> <td>-0.1270</td>\n",
              "</tr>\n",
              "<tr>\n",
              "  <th>Employees Cost</th>   <td>0.1397</td>   <td>0.0983</td>  <td>1.4215</td>  <td>0.1560</td> <td>-0.0535</td> <td>0.3329</td> \n",
              "</tr>\n",
              "<tr>\n",
              "  <th>Tax</th>              <td>-0.1368</td>  <td>0.0942</td>  <td>-1.4513</td> <td>0.1475</td> <td>-0.3220</td> <td>0.0485</td> \n",
              "</tr>\n",
              "<tr>\n",
              "  <th>Basic EPS</th>        <td>-0.0571</td>  <td>0.0544</td>  <td>-1.0506</td> <td>0.2941</td> <td>-0.1641</td> <td>0.0498</td> \n",
              "</tr>\n",
              "</table>\n",
              "<table class=\"simpletable\">\n",
              "<tr>\n",
              "     <td>Omnibus:</td>    <td>236.539</td>  <td>Durbin-Watson:</td>     <td>1.875</td> \n",
              "</tr>\n",
              "<tr>\n",
              "  <td>Prob(Omnibus):</td>  <td>0.000</td>  <td>Jarque-Bera (JB):</td> <td>2978.618</td>\n",
              "</tr>\n",
              "<tr>\n",
              "       <td>Skew:</td>      <td>2.262</td>      <td>Prob(JB):</td>       <td>0.000</td> \n",
              "</tr>\n",
              "<tr>\n",
              "     <td>Kurtosis:</td>   <td>15.580</td>   <td>Condition No.:</td>       <td>4</td>   \n",
              "</tr>\n",
              "</table>"
            ]
          },
          "metadata": {},
          "execution_count": 40
        }
      ]
    },
    {
      "cell_type": "markdown",
      "source": [
        "### Model based on lasso only GDP is signficant. However it is able to explain same that is 6%. The factor influencing most now is Employee Cost and Tax  with 15% significance level."
      ],
      "metadata": {
        "id": "SLKw-vLo2IOA"
      }
    },
    {
      "cell_type": "markdown",
      "source": [
        "## STEP 7: Validate the Model and Measure Model Accuracy"
      ],
      "metadata": {
        "id": "UI8pNq5iA2qh"
      }
    },
    {
      "cell_type": "code",
      "source": [
        "pred_y = next_stock_deviation_lm.predict( test_X )\n",
        "\n",
        "np.abs(r2_score(test_y, pred_y))"
      ],
      "metadata": {
        "colab": {
          "base_uri": "https://localhost:8080/"
        },
        "id": "ybwD65KVBJ0_",
        "outputId": "9490c96d-35fe-49b8-ce1c-721eb563e39f"
      },
      "execution_count": 41,
      "outputs": [
        {
          "output_type": "execute_result",
          "data": {
            "text/plain": [
              "0.60614901556249"
            ]
          },
          "metadata": {},
          "execution_count": 41
        }
      ]
    },
    {
      "cell_type": "code",
      "source": [
        "lasso_pred_y = lasso.predict( test_X )\n",
        "\n",
        "np.abs(r2_score(test_y, lasso_pred_y))"
      ],
      "metadata": {
        "colab": {
          "base_uri": "https://localhost:8080/"
        },
        "id": "CQTHWPiW3efA",
        "outputId": "baa7ecef-664b-4151-cde2-2a494910b9ef"
      },
      "execution_count": 42,
      "outputs": [
        {
          "output_type": "execute_result",
          "data": {
            "text/plain": [
              "0.9466479457863819"
            ]
          },
          "metadata": {},
          "execution_count": 42
        }
      ]
    },
    {
      "cell_type": "markdown",
      "source": [
        "The R2 score of lasso is high. This indicates that the lasso model cannot be rejected."
      ],
      "metadata": {
        "id": "Knkh1k6W9zsl"
      }
    },
    {
      "cell_type": "markdown",
      "source": [
        "## STEP 8: Decide on Model Deployment"
      ],
      "metadata": {
        "id": "TSOVYdVbBKpI"
      }
    },
    {
      "cell_type": "markdown",
      "source": [
        "As we consider lasso model to be deployed , following inferences could be made:\n",
        "\n",
        "1. At 15-16% level, GDP , Tax and Employee cost are significant.\n",
        "2. GDP and Tax has negative impact o share deviations. However Emplyee cost has positive impact."
      ],
      "metadata": {
        "id": "IGQkTIt7-Pfs"
      }
    },
    {
      "cell_type": "code",
      "source": [],
      "metadata": {
        "id": "HtOuOLuGBR5H"
      },
      "execution_count": null,
      "outputs": []
    }
  ]
}