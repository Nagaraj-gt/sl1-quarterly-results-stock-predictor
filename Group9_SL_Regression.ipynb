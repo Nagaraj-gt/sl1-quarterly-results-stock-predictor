{
  "nbformat": 4,
  "nbformat_minor": 0,
  "metadata": {
    "colab": {
      "provenance": [],
      "collapsed_sections": [],
      "authorship_tag": "ABX9TyMuSmUDeH1fG6kp+8m6e+cf",
      "include_colab_link": true
    },
    "kernelspec": {
      "name": "python3",
      "display_name": "Python 3"
    },
    "language_info": {
      "name": "python"
    }
  },
  "cells": [
    {
      "cell_type": "markdown",
      "metadata": {
        "id": "view-in-github",
        "colab_type": "text"
      },
      "source": [
        "<a href=\"https://colab.research.google.com/github/Nagaraj-gt/sl1-quarterly-results-stock-predictor/blob/main/Group9_SL_Regression.ipynb\" target=\"_parent\"><img src=\"https://colab.research.google.com/assets/colab-badge.svg\" alt=\"Open In Colab\"/></a>"
      ]
    },
    {
      "cell_type": "markdown",
      "source": [
        "#Building Regression Model for predicting next quarter stock price deviations\n",
        "\n"
      ],
      "metadata": {
        "id": "q815Eo_9-fSB"
      }
    },
    {
      "cell_type": "markdown",
      "source": [
        "## Preparing Code"
      ],
      "metadata": {
        "id": "C-n11nYf-1Gn"
      }
    },
    {
      "cell_type": "code",
      "execution_count": 49,
      "metadata": {
        "id": "b3w2ZziK6b2q"
      },
      "outputs": [],
      "source": [
        "# Importing necessary libraries\n",
        "\n",
        "import pandas as pd\n",
        "import statsmodels.api as sm\n",
        "import numpy as np\n",
        "from sklearn import metrics\n",
        "from sklearn.linear_model import Lasso\n",
        "from sklearn.model_selection import train_test_split\n",
        "from sklearn.metrics import r2_score, mean_squared_error\n",
        "from statsmodels.stats.outliers_influence import variance_inflation_factor\n",
        "import matplotlib.pyplot as plt\n",
        "import seaborn as sn\n",
        "%matplotlib inline\n"
      ]
    },
    {
      "cell_type": "markdown",
      "source": [
        "##STEP 1: Collect/Extract Data"
      ],
      "metadata": {
        "id": "nerq-0vO_EA_"
      }
    },
    {
      "cell_type": "code",
      "source": [
        "\n",
        "# The data is prepared alreadt in excel.\n",
        "fmcg_companies_df = pd.read_csv(\"20companies_Dataset_v7.csv\")\n",
        "\n"
      ],
      "metadata": {
        "id": "oe0i9P--63Ko"
      },
      "execution_count": 3,
      "outputs": []
    },
    {
      "cell_type": "markdown",
      "source": [
        "## STEP 2: Pre-Process the Data\n",
        "The missing values are taken care of prior. The data prepared is handmade referencing data from moneycontrol.com"
      ],
      "metadata": {
        "id": "heEXbHFh_bRP"
      }
    },
    {
      "cell_type": "markdown",
      "source": [
        "### Labelling Data with stock deviation in next quarter"
      ],
      "metadata": {
        "id": "Tfg6kwE4ACF1"
      }
    },
    {
      "cell_type": "code",
      "source": [
        "# Create an empty list\n",
        "stock_list =[]\n",
        "  \n",
        "# Iterate over each row\n",
        "for index, rows in fmcg_companies_df.iterrows():\n",
        "    # Create list for the current row\n",
        "\n",
        "    stock_deviation = (rows.get('QtrClosePrice') - rows.get('QtrOpenPrice'))/rows.get('QtrOpenPrice')\n",
        "    stock_list.append(stock_deviation) \n",
        "\n",
        "stock_list.append(0)\n",
        "## Assigning stock deviation for next quarter to current quater financial results\n",
        "fmcg_companies_df['Next Stock Deviation'] = stock_list[1:len(stock_list)]\n",
        "\n"
      ],
      "metadata": {
        "id": "VLFAjRj-7MaQ"
      },
      "execution_count": 5,
      "outputs": []
    },
    {
      "cell_type": "markdown",
      "source": [
        "## STEP 3: Dividing Data into Training and Validation Datasets\n",
        "\n",
        "### X values are ,\n",
        "\n",
        "1. Net Sales/Income from operations\n",
        "2. Total Income From Operations\n",
        "3. Consumption of Raw Materials\n",
        "4. Employees Cost\n",
        "5. Depreciation\n",
        "6. Other Expenses\n",
        "7. P/L Before Tax\n",
        "8. Tax\n",
        "9. Net Profit/(Loss) For the Period\n",
        "10. Equity Share Capital\n",
        "11. Basic EPS\n",
        "12. GDP Growth Rate\n",
        "13. Gold Price (USD)\n",
        "\n",
        "### Y to be predicted is **Next Stock Deviation**"
      ],
      "metadata": {
        "id": "4PCLap4fAh7v"
      }
    },
    {
      "cell_type": "code",
      "source": [
        "X_features = ['Net Sales/Income from operations',\n",
        "                                       'Total Income From Operations',\n",
        "                                       'Consumption of Raw Materials',\n",
        "                                       'Employees Cost',\n",
        "                                       'Depreciation',\n",
        "                                       'Other Expenses',\n",
        "                                       'P/L Before Tax',\n",
        "                                       'Tax',\n",
        "                                       'Net Profit/(Loss) For the Period',\n",
        "                                       'Equity Share Capital',\n",
        "                                       'Basic EPS',\n",
        "                                       'GDP Growth Rate',\n",
        "                                       'Gold Price (USD)']\n",
        "X = sm.add_constant(fmcg_companies_df[X_features] )\n",
        "\n",
        "Y = fmcg_companies_df['Next Stock Deviation']"
      ],
      "metadata": {
        "colab": {
          "base_uri": "https://localhost:8080/"
        },
        "id": "S25bmjCkCHgO",
        "outputId": "6b6e24f9-9bed-47ad-e393-e1bda7846b60"
      },
      "execution_count": 27,
      "outputs": [
        {
          "output_type": "stream",
          "name": "stderr",
          "text": [
            "/usr/local/lib/python3.7/dist-packages/statsmodels/tsa/tsatools.py:142: FutureWarning: In a future version of pandas all arguments of concat except for the argument 'objs' will be keyword-only\n",
            "  x = pd.concat(x[::order], 1)\n"
          ]
        }
      ]
    },
    {
      "cell_type": "code",
      "source": [
        "train_X, test_X, train_y, test_y = train_test_split( X, \n",
        " Y, \n",
        " train_size = 0.8, \n",
        " random_state = 100 )"
      ],
      "metadata": {
        "id": "eKkg50ex-WXX"
      },
      "execution_count": 54,
      "outputs": []
    },
    {
      "cell_type": "markdown",
      "source": [
        "## STEP 5: Build the Model"
      ],
      "metadata": {
        "id": "VOsqPpQIAseN"
      }
    },
    {
      "cell_type": "code",
      "source": [
        "next_stock_deviation_lm = sm.OLS( train_y, train_X ).fit()"
      ],
      "metadata": {
        "id": "j2KKwo3_Avm_"
      },
      "execution_count": 29,
      "outputs": []
    },
    {
      "cell_type": "markdown",
      "source": [
        "### Intepretation of estimated parameters"
      ],
      "metadata": {
        "id": "DM7Ed5FGGnzY"
      }
    },
    {
      "cell_type": "code",
      "source": [
        "print( next_stock_deviation_lm.params )"
      ],
      "metadata": {
        "colab": {
          "base_uri": "https://localhost:8080/"
        },
        "id": "0_f4_AuQG2qp",
        "outputId": "46f5519f-a4cf-45c0-dcb1-6a528cef17da"
      },
      "execution_count": 30,
      "outputs": [
        {
          "output_type": "stream",
          "name": "stdout",
          "text": [
            "const                               0.265812\n",
            "Net Sales/Income from operations   -0.000224\n",
            "Total Income From Operations        0.000229\n",
            "Consumption of Raw Materials        0.000010\n",
            "Employees Cost                     -0.000028\n",
            "Depreciation                       -0.000668\n",
            "Other Expenses                      0.000001\n",
            "P/L Before Tax                      0.000094\n",
            "Tax                                -0.000037\n",
            "Net Profit/(Loss) For the Period   -0.000183\n",
            "Equity Share Capital                0.000232\n",
            "Basic EPS                           0.000535\n",
            "GDP Growth Rate                    -0.018707\n",
            "Gold Price (USD)                   -0.000591\n",
            "dtype: float64\n"
          ]
        }
      ]
    },
    {
      "cell_type": "markdown",
      "source": [
        "The external factor of GDP growth rate has significant impact relative to other parameters. Its around 1.8%.\n",
        "\n",
        "With respect to internal factors, Basic EPS ( operational eeficiency) has larger impact. That is around 0.05%"
      ],
      "metadata": {
        "id": "UYSC7jVQHP7z"
      }
    },
    {
      "cell_type": "markdown",
      "source": [
        "## STEP 6: Perform Model Diagnostics\n",
        "\n",
        "1. Co-efficient of determination (R-squared).\n",
        "2. Hypothesis test for the regression coefficient.\n",
        "3. Analysis of variance for overall model validity (important for multiple linear regression).\n",
        "4. Residual analysis to validate the regression model assumptions.\n",
        "5. Outlier analysis, since the presence of outliers can significantly impact the regression parameters."
      ],
      "metadata": {
        "id": "6kO-R_EBAxxA"
      }
    },
    {
      "cell_type": "markdown",
      "source": [
        "### Regression model summary"
      ],
      "metadata": {
        "id": "ZEYA_4TFIpmk"
      }
    },
    {
      "cell_type": "code",
      "source": [
        "next_stock_deviation_lm.summary2()"
      ],
      "metadata": {
        "colab": {
          "base_uri": "https://localhost:8080/",
          "height": 567
        },
        "id": "0FoeMoC3A2Dn",
        "outputId": "2bd1bcde-c24c-447d-e5e0-fda3d689f9a0"
      },
      "execution_count": 31,
      "outputs": [
        {
          "output_type": "execute_result",
          "data": {
            "text/plain": [
              "<class 'statsmodels.iolib.summary2.Summary'>\n",
              "\"\"\"\n",
              "                        Results: Ordinary least squares\n",
              "================================================================================\n",
              "Model:                  OLS                     Adj. R-squared:        -0.004   \n",
              "Dependent Variable:     Next Stock Deviation    AIC:                   -234.2728\n",
              "Date:                   2022-09-03 08:28        BIC:                   -178.9638\n",
              "No. Observations:       384                     Log-Likelihood:        131.14   \n",
              "Df Model:               13                      F-statistic:           0.8805   \n",
              "Df Residuals:           370                     Prob (F-statistic):    0.574    \n",
              "R-squared:              0.030                   Scale:                 0.030692 \n",
              "--------------------------------------------------------------------------------\n",
              "                                  Coef.  Std.Err.    t    P>|t|   [0.025  0.975]\n",
              "--------------------------------------------------------------------------------\n",
              "const                             0.2658   0.1937  1.3720 0.1709 -0.1152  0.6468\n",
              "Net Sales/Income from operations -0.0002   0.0003 -0.6483 0.5172 -0.0009  0.0005\n",
              "Total Income From Operations      0.0002   0.0003  0.6750 0.5001 -0.0004  0.0009\n",
              "Consumption of Raw Materials      0.0000   0.0001  0.1405 0.8883 -0.0001  0.0001\n",
              "Employees Cost                   -0.0000   0.0003 -0.0891 0.9290 -0.0006  0.0006\n",
              "Depreciation                     -0.0007   0.0006 -1.1977 0.2318 -0.0018  0.0004\n",
              "Other Expenses                    0.0000   0.0001  0.0085 0.9932 -0.0003  0.0003\n",
              "P/L Before Tax                    0.0001   0.0002  0.4612 0.6449 -0.0003  0.0005\n",
              "Tax                              -0.0000   0.0001 -0.4392 0.6608 -0.0002  0.0001\n",
              "Net Profit/(Loss) For the Period -0.0002   0.0002 -0.7724 0.4404 -0.0006  0.0003\n",
              "Equity Share Capital              0.0002   0.0002  1.0782 0.2817 -0.0002  0.0007\n",
              "Basic EPS                         0.0005   0.0010  0.5241 0.6005 -0.0015  0.0025\n",
              "GDP Growth Rate                  -0.0187   0.0093 -2.0132 0.0448 -0.0370 -0.0004\n",
              "Gold Price (USD)                 -0.0006   0.0010 -0.5677 0.5706 -0.0026  0.0015\n",
              "--------------------------------------------------------------------------------\n",
              "Omnibus:                  198.261           Durbin-Watson:              1.696   \n",
              "Prob(Omnibus):            0.000             Jarque-Bera (JB):           2209.905\n",
              "Skew:                     1.910             Prob(JB):                   0.000   \n",
              "Kurtosis:                 14.114            Condition No.:              99139   \n",
              "================================================================================\n",
              "* The condition number is large (1e+05). This might indicate             strong\n",
              "multicollinearity or other numerical problems.\n",
              "\"\"\""
            ],
            "text/html": [
              "<table class=\"simpletable\">\n",
              "<tr>\n",
              "        <td>Model:</td>                 <td>OLS</td>           <td>Adj. R-squared:</td>    <td>-0.004</td>  \n",
              "</tr>\n",
              "<tr>\n",
              "  <td>Dependent Variable:</td> <td>Next Stock Deviation</td>        <td>AIC:</td>         <td>-234.2728</td>\n",
              "</tr>\n",
              "<tr>\n",
              "         <td>Date:</td>          <td>2022-09-03 08:28</td>          <td>BIC:</td>         <td>-178.9638</td>\n",
              "</tr>\n",
              "<tr>\n",
              "   <td>No. Observations:</td>           <td>384</td>           <td>Log-Likelihood:</td>    <td>131.14</td>  \n",
              "</tr>\n",
              "<tr>\n",
              "       <td>Df Model:</td>               <td>13</td>             <td>F-statistic:</td>      <td>0.8805</td>  \n",
              "</tr>\n",
              "<tr>\n",
              "     <td>Df Residuals:</td>             <td>370</td>         <td>Prob (F-statistic):</td>   <td>0.574</td>  \n",
              "</tr>\n",
              "<tr>\n",
              "      <td>R-squared:</td>              <td>0.030</td>              <td>Scale:</td>        <td>0.030692</td> \n",
              "</tr>\n",
              "</table>\n",
              "<table class=\"simpletable\">\n",
              "<tr>\n",
              "                  <td></td>                  <th>Coef.</th>  <th>Std.Err.</th>    <th>t</th>     <th>P>|t|</th> <th>[0.025</th>  <th>0.975]</th> \n",
              "</tr>\n",
              "<tr>\n",
              "  <th>const</th>                            <td>0.2658</td>   <td>0.1937</td>  <td>1.3720</td>  <td>0.1709</td> <td>-0.1152</td> <td>0.6468</td> \n",
              "</tr>\n",
              "<tr>\n",
              "  <th>Net Sales/Income from operations</th> <td>-0.0002</td>  <td>0.0003</td>  <td>-0.6483</td> <td>0.5172</td> <td>-0.0009</td> <td>0.0005</td> \n",
              "</tr>\n",
              "<tr>\n",
              "  <th>Total Income From Operations</th>     <td>0.0002</td>   <td>0.0003</td>  <td>0.6750</td>  <td>0.5001</td> <td>-0.0004</td> <td>0.0009</td> \n",
              "</tr>\n",
              "<tr>\n",
              "  <th>Consumption of Raw Materials</th>     <td>0.0000</td>   <td>0.0001</td>  <td>0.1405</td>  <td>0.8883</td> <td>-0.0001</td> <td>0.0001</td> \n",
              "</tr>\n",
              "<tr>\n",
              "  <th>Employees Cost</th>                   <td>-0.0000</td>  <td>0.0003</td>  <td>-0.0891</td> <td>0.9290</td> <td>-0.0006</td> <td>0.0006</td> \n",
              "</tr>\n",
              "<tr>\n",
              "  <th>Depreciation</th>                     <td>-0.0007</td>  <td>0.0006</td>  <td>-1.1977</td> <td>0.2318</td> <td>-0.0018</td> <td>0.0004</td> \n",
              "</tr>\n",
              "<tr>\n",
              "  <th>Other Expenses</th>                   <td>0.0000</td>   <td>0.0001</td>  <td>0.0085</td>  <td>0.9932</td> <td>-0.0003</td> <td>0.0003</td> \n",
              "</tr>\n",
              "<tr>\n",
              "  <th>P/L Before Tax</th>                   <td>0.0001</td>   <td>0.0002</td>  <td>0.4612</td>  <td>0.6449</td> <td>-0.0003</td> <td>0.0005</td> \n",
              "</tr>\n",
              "<tr>\n",
              "  <th>Tax</th>                              <td>-0.0000</td>  <td>0.0001</td>  <td>-0.4392</td> <td>0.6608</td> <td>-0.0002</td> <td>0.0001</td> \n",
              "</tr>\n",
              "<tr>\n",
              "  <th>Net Profit/(Loss) For the Period</th> <td>-0.0002</td>  <td>0.0002</td>  <td>-0.7724</td> <td>0.4404</td> <td>-0.0006</td> <td>0.0003</td> \n",
              "</tr>\n",
              "<tr>\n",
              "  <th>Equity Share Capital</th>             <td>0.0002</td>   <td>0.0002</td>  <td>1.0782</td>  <td>0.2817</td> <td>-0.0002</td> <td>0.0007</td> \n",
              "</tr>\n",
              "<tr>\n",
              "  <th>Basic EPS</th>                        <td>0.0005</td>   <td>0.0010</td>  <td>0.5241</td>  <td>0.6005</td> <td>-0.0015</td> <td>0.0025</td> \n",
              "</tr>\n",
              "<tr>\n",
              "  <th>GDP Growth Rate</th>                  <td>-0.0187</td>  <td>0.0093</td>  <td>-2.0132</td> <td>0.0448</td> <td>-0.0370</td> <td>-0.0004</td>\n",
              "</tr>\n",
              "<tr>\n",
              "  <th>Gold Price (USD)</th>                 <td>-0.0006</td>  <td>0.0010</td>  <td>-0.5677</td> <td>0.5706</td> <td>-0.0026</td> <td>0.0015</td> \n",
              "</tr>\n",
              "</table>\n",
              "<table class=\"simpletable\">\n",
              "<tr>\n",
              "     <td>Omnibus:</td>    <td>198.261</td>  <td>Durbin-Watson:</td>     <td>1.696</td> \n",
              "</tr>\n",
              "<tr>\n",
              "  <td>Prob(Omnibus):</td>  <td>0.000</td>  <td>Jarque-Bera (JB):</td> <td>2209.905</td>\n",
              "</tr>\n",
              "<tr>\n",
              "       <td>Skew:</td>      <td>1.910</td>      <td>Prob(JB):</td>       <td>0.000</td> \n",
              "</tr>\n",
              "<tr>\n",
              "     <td>Kurtosis:</td>   <td>14.114</td>   <td>Condition No.:</td>     <td>99139</td> \n",
              "</tr>\n",
              "</table>"
            ]
          },
          "metadata": {},
          "execution_count": 31
        }
      ]
    },
    {
      "cell_type": "markdown",
      "source": [
        "The summary output could be inferred as below :\n",
        "\n",
        "1. R-squared value is 0.03. This means the model is able to **explain 3% **of variations in stock price deviation.\n",
        "\n",
        "2. The p-value for most are high apart from GDP Growth rate. For GDP Growth rate its 0.0448. This implies that GDP growth rate is only statistically significant at significance value of 5%.\n",
        "\n",
        "3. At significance level of 5% , apart from GDP growth rate , all other factors have no significant impact on stock price deviation.\n",
        "\n",
        "4. The probability F-statistics is 0.574. **This indicates thar overall model is statistically insignificant.**\n",
        "\n",
        "\n",
        "\n"
      ],
      "metadata": {
        "id": "A2o77NozIuQe"
      }
    },
    {
      "cell_type": "markdown",
      "source": [
        "### Residual Analysis"
      ],
      "metadata": {
        "id": "9KFmMhsiL66R"
      }
    },
    {
      "cell_type": "code",
      "source": [
        "next_stock_deviation_resid = next_stock_deviation_lm.resid \n",
        "probplot = sm.ProbPlot(next_stock_deviation_resid) \n",
        "plt.figure( figsize = (8, 6)) \n",
        "probplot.ppplot( line='45' )\n",
        "plt.title( \"Fig - Normal P-P Plot of Regression Standardized Residuals\" )\n",
        "plt.show()"
      ],
      "metadata": {
        "colab": {
          "base_uri": "https://localhost:8080/",
          "height": 312
        },
        "id": "Qsi3UY_uL9o9",
        "outputId": "8d78b31b-de0f-4f08-825a-193a717ff24d"
      },
      "execution_count": 14,
      "outputs": [
        {
          "output_type": "display_data",
          "data": {
            "text/plain": [
              "<Figure size 576x432 with 0 Axes>"
            ]
          },
          "metadata": {}
        },
        {
          "output_type": "display_data",
          "data": {
            "text/plain": [
              "<Figure size 432x288 with 1 Axes>"
            ],
            "image/png": "[encoded data removed]"
          },
          "metadata": {
            "needs_background": "light"
          }
        }
      ]
    },
    {
      "cell_type": "markdown",
      "source": [
        "\n",
        "## The model insignificance and above residual plot is not very intitutive. This might be the result of high collinearity."
      ],
      "metadata": {
        "id": "r2HsNa_vO3_z"
      }
    },
    {
      "cell_type": "markdown",
      "source": [
        "### Removal of Multi-collinearity\n",
        "\n",
        "Multi-collinearity might inflate tandard error of estimates. It also results in large p-values making statistically significant variable insignificant. \n",
        "\n",
        "With multi-collinearity, the model would be highly senstivite to adding or removing of factors. Worst case ,even the negative and positive sign of co-efficients might get flipped. "
      ],
      "metadata": {
        "id": "7SB4n8E8XxSE"
      }
    },
    {
      "cell_type": "code",
      "source": [
        "## Calculation of Variation Inflation Factor (VIF) to understand high multi correlation. Feartures with VIF > 4 need ot be assessed.\n",
        "\n",
        "def get_vif_factors( X ): \n",
        "  X_matrix = X.values\n",
        "  vif = [ variance_inflation_factor( X_matrix, i ) for i in range ( X_matrix.shape[1] ) ]\n",
        "  vif_factors = pd.DataFrame() \n",
        "  vif_factors['column'] = X.columns \n",
        "  vif_factors['VIF'] = vif\n",
        "  return vif_factors\n"
      ],
      "metadata": {
        "id": "-pFb1rW0X6Gp"
      },
      "execution_count": 32,
      "outputs": []
    },
    {
      "cell_type": "code",
      "source": [
        "vif_factors = get_vif_factors( X[X.columns] ) \n",
        "vif_factors"
      ],
      "metadata": {
        "colab": {
          "base_uri": "https://localhost:8080/",
          "height": 488
        },
        "id": "3KK9-6WYbXz-",
        "outputId": "6c6ee54a-b808-4f9e-9fb4-0df75f5eb41d"
      },
      "execution_count": 33,
      "outputs": [
        {
          "output_type": "execute_result",
          "data": {
            "text/plain": [
              "                              column           VIF\n",
              "0                              const    444.927065\n",
              "1   Net Sales/Income from operations  10087.250384\n",
              "2       Total Income From Operations  10097.045979\n",
              "3       Consumption of Raw Materials     43.069374\n",
              "4                     Employees Cost     24.134087\n",
              "5                       Depreciation     15.131166\n",
              "6                     Other Expenses     41.500495\n",
              "7                     P/L Before Tax    329.613366\n",
              "8                                Tax     11.206608\n",
              "9   Net Profit/(Loss) For the Period    175.700382\n",
              "10              Equity Share Capital     25.955493\n",
              "11                         Basic EPS      1.447292\n",
              "12                   GDP Growth Rate      1.244136\n",
              "13                  Gold Price (USD)      1.262309"
            ],
            "text/html": [
              "\n",
              "  <div id=\"df-2a13317a-6dbe-48de-8d73-1950d5fb416c\">\n",
              "    <div class=\"colab-df-container\">\n",
              "      <div>\n",
              "<style scoped>\n",
              "    .dataframe tbody tr th:only-of-type {\n",
              "        vertical-align: middle;\n",
              "    }\n",
              "\n",
              "    .dataframe tbody tr th {\n",
              "        vertical-align: top;\n",
              "    }\n",
              "\n",
              "    .dataframe thead th {\n",
              "        text-align: right;\n",
              "    }\n",
              "</style>\n",
              "<table border=\"1\" class=\"dataframe\">\n",
              "  <thead>\n",
              "    <tr style=\"text-align: right;\">\n",
              "      <th></th>\n",
              "      <th>column</th>\n",
              "      <th>VIF</th>\n",
              "    </tr>\n",
              "  </thead>\n",
              "  <tbody>\n",
              "    <tr>\n",
              "      <th>0</th>\n",
              "      <td>const</td>\n",
              "      <td>444.927065</td>\n",
              "    </tr>\n",
              "    <tr>\n",
              "      <th>1</th>\n",
              "      <td>Net Sales/Income from operations</td>\n",
              "      <td>10087.250384</td>\n",
              "    </tr>\n",
              "    <tr>\n",
              "      <th>2</th>\n",
              "      <td>Total Income From Operations</td>\n",
              "      <td>10097.045979</td>\n",
              "    </tr>\n",
              "    <tr>\n",
              "      <th>3</th>\n",
              "      <td>Consumption of Raw Materials</td>\n",
              "      <td>43.069374</td>\n",
              "    </tr>\n",
              "    <tr>\n",
              "      <th>4</th>\n",
              "      <td>Employees Cost</td>\n",
              "      <td>24.134087</td>\n",
              "    </tr>\n",
              "    <tr>\n",
              "      <th>5</th>\n",
              "      <td>Depreciation</td>\n",
              "      <td>15.131166</td>\n",
              "    </tr>\n",
              "    <tr>\n",
              "      <th>6</th>\n",
              "      <td>Other Expenses</td>\n",
              "      <td>41.500495</td>\n",
              "    </tr>\n",
              "    <tr>\n",
              "      <th>7</th>\n",
              "      <td>P/L Before Tax</td>\n",
              "      <td>329.613366</td>\n",
              "    </tr>\n",
              "    <tr>\n",
              "      <th>8</th>\n",
              "      <td>Tax</td>\n",
              "      <td>11.206608</td>\n",
              "    </tr>\n",
              "    <tr>\n",
              "      <th>9</th>\n",
              "      <td>Net Profit/(Loss) For the Period</td>\n",
              "      <td>175.700382</td>\n",
              "    </tr>\n",
              "    <tr>\n",
              "      <th>10</th>\n",
              "      <td>Equity Share Capital</td>\n",
              "      <td>25.955493</td>\n",
              "    </tr>\n",
              "    <tr>\n",
              "      <th>11</th>\n",
              "      <td>Basic EPS</td>\n",
              "      <td>1.447292</td>\n",
              "    </tr>\n",
              "    <tr>\n",
              "      <th>12</th>\n",
              "      <td>GDP Growth Rate</td>\n",
              "      <td>1.244136</td>\n",
              "    </tr>\n",
              "    <tr>\n",
              "      <th>13</th>\n",
              "      <td>Gold Price (USD)</td>\n",
              "      <td>1.262309</td>\n",
              "    </tr>\n",
              "  </tbody>\n",
              "</table>\n",
              "</div>\n",
              "      <button class=\"colab-df-convert\" onclick=\"convertToInteractive('df-2a13317a-6dbe-48de-8d73-1950d5fb416c')\"\n",
              "              title=\"Convert this dataframe to an interactive table.\"\n",
              "              style=\"display:none;\">\n",
              "        \n",
              "  <svg xmlns=\"http://www.w3.org/2000/svg\" height=\"24px\"viewBox=\"0 0 24 24\"\n",
              "       width=\"24px\">\n",
              "    <path d=\"M0 0h24v24H0V0z\" fill=\"none\"/>\n",
              "    <path d=\"M18.56 5.44l.94 2.06.94-2.06 2.06-.94-2.06-.94-.94-2.06-.94 2.06-2.06.94zm-11 1L8.5 8.5l.94-2.06 2.06-.94-2.06-.94L8.5 2.5l-.94 2.06-2.06.94zm10 10l.94 2.06.94-2.06 2.06-.94-2.06-.94-.94-2.06-.94 2.06-2.06.94z\"/><path d=\"M17.41 7.96l-1.37-1.37c-.4-.4-.92-.59-1.43-.59-.52 0-1.04.2-1.43.59L10.3 9.45l-7.72 7.72c-.78.78-.78 2.05 0 2.83L4 21.41c.39.39.9.59 1.41.59.51 0 1.02-.2 1.41-.59l7.78-7.78 2.81-2.81c.8-.78.8-2.07 0-2.86zM5.41 20L4 18.59l7.72-7.72 1.47 1.35L5.41 20z\"/>\n",
              "  </svg>\n",
              "      </button>\n",
              "      \n",
              "  <style>\n",
              "    .colab-df-container {\n",
              "      display:flex;\n",
              "      flex-wrap:wrap;\n",
              "      gap: 12px;\n",
              "    }\n",
              "\n",
              "    .colab-df-convert {\n",
              "      background-color: #E8F0FE;\n",
              "      border: none;\n",
              "      border-radius: 50%;\n",
              "      cursor: pointer;\n",
              "      display: none;\n",
              "      fill: #1967D2;\n",
              "      height: 32px;\n",
              "      padding: 0 0 0 0;\n",
              "      width: 32px;\n",
              "    }\n",
              "\n",
              "    .colab-df-convert:hover {\n",
              "      background-color: #E2EBFA;\n",
              "      box-shadow: 0px 1px 2px rgba(60, 64, 67, 0.3), 0px 1px 3px 1px rgba(60, 64, 67, 0.15);\n",
              "      fill: #174EA6;\n",
              "    }\n",
              "\n",
              "    [theme=dark] .colab-df-convert {\n",
              "      background-color: #3B4455;\n",
              "      fill: #D2E3FC;\n",
              "    }\n",
              "\n",
              "    [theme=dark] .colab-df-convert:hover {\n",
              "      background-color: #434B5C;\n",
              "      box-shadow: 0px 1px 3px 1px rgba(0, 0, 0, 0.15);\n",
              "      filter: drop-shadow(0px 1px 2px rgba(0, 0, 0, 0.3));\n",
              "      fill: #FFFFFF;\n",
              "    }\n",
              "  </style>\n",
              "\n",
              "      <script>\n",
              "        const buttonEl =\n",
              "          document.querySelector('#df-2a13317a-6dbe-48de-8d73-1950d5fb416c button.colab-df-convert');\n",
              "        buttonEl.style.display =\n",
              "          google.colab.kernel.accessAllowed ? 'block' : 'none';\n",
              "\n",
              "        async function convertToInteractive(key) {\n",
              "          const element = document.querySelector('#df-2a13317a-6dbe-48de-8d73-1950d5fb416c');\n",
              "          const dataTable =\n",
              "            await google.colab.kernel.invokeFunction('convertToInteractive',\n",
              "                                                     [key], {});\n",
              "          if (!dataTable) return;\n",
              "\n",
              "          const docLinkHtml = 'Like what you see? Visit the ' +\n",
              "            '<a target=\"_blank\" href=https://colab.research.google.com/notebooks/data_table.ipynb>data table notebook</a>'\n",
              "            + ' to learn more about interactive tables.';\n",
              "          element.innerHTML = '';\n",
              "          dataTable['output_type'] = 'display_data';\n",
              "          await google.colab.output.renderOutput(dataTable, element);\n",
              "          const docLink = document.createElement('div');\n",
              "          docLink.innerHTML = docLinkHtml;\n",
              "          element.appendChild(docLink);\n",
              "        }\n",
              "      </script>\n",
              "    </div>\n",
              "  </div>\n",
              "  "
            ]
          },
          "metadata": {},
          "execution_count": 33
        }
      ]
    },
    {
      "cell_type": "markdown",
      "source": [
        "### Correlation of factors with large VIF > 4"
      ],
      "metadata": {
        "id": "86NfUtyfeCEZ"
      }
    },
    {
      "cell_type": "code",
      "source": [
        "columns_with_large_vif = vif_factors[vif_factors.VIF > 4].column\n",
        "\n",
        "## Plotting correlation matrix with VIF > 4\n",
        "\n",
        "plt.figure( figsize = (12,10) )\n",
        "sn.heatmap( X[columns_with_large_vif].corr(), annot = True );\n",
        "plt.title(\"Figure - Heatmap depicting correlation between features\")"
      ],
      "metadata": {
        "colab": {
          "base_uri": "https://localhost:8080/",
          "height": 784
        },
        "id": "Pc0tNsFleGdl",
        "outputId": "f47eb317-82dc-42c1-a1ac-696a989aa034"
      },
      "execution_count": 36,
      "outputs": [
        {
          "output_type": "execute_result",
          "data": {
            "text/plain": [
              "Text(0.5, 1.0, 'Figure - Heatmap depicting correlation between features')"
            ]
          },
          "metadata": {},
          "execution_count": 36
        },
        {
          "output_type": "display_data",
          "data": {
            "text/plain": [
              "<Figure size 864x720 with 2 Axes>"
            ],
            "image/png": "[encoded data removed]"
          },
          "metadata": {
            "needs_background": "light"
          }
        }
      ]
    },
    {
      "cell_type": "markdown",
      "source": [
        "Based on above heatmap, following could be inferred. Lets consider 0.95  above as highly correlated.\n",
        "\n",
        "1. Net Sales/Income from Operations,Consumption of Raw Materials, Employee Cost, Other Expenses, Total Income from Operations are highly correlated.\n",
        "\n",
        "2. Depreciation , P/L Before Tax,Net Profit/(Loss) For the Period and Equity Share Captial are highly correlated\n",
        "\n",
        "### Based one above observations lets consider one of factors for model run. Selected factors are ,\n",
        "\n",
        "1. Consumption of Raw Materials\n",
        "2. Depreciation\n",
        "\n",
        "**And remove other factors.**"
      ],
      "metadata": {
        "id": "7H7IoWEUfQ7_"
      }
    },
    {
      "cell_type": "code",
      "source": [
        "columns_to_remove = ['Net Sales/Income from operations','Employees Cost','Other Expenses','Total Income From Operations',' P/L Before Tax','Net Profit/(Loss) For the Period','Equity Share Capital']\n",
        "\n",
        "X_new_features = list( set(X_features) - set(columns_to_remove))\n",
        "\n",
        "get_vif_factors( X[X_new_features] )\n"
      ],
      "metadata": {
        "colab": {
          "base_uri": "https://localhost:8080/",
          "height": 269
        },
        "id": "nR3bZ4y8iyDN",
        "outputId": "a9c50df5-b966-4c7c-9b1e-7de09e0c5199"
      },
      "execution_count": 39,
      "outputs": [
        {
          "output_type": "execute_result",
          "data": {
            "text/plain": [
              "                         column        VIF\n",
              "0               GDP Growth Rate  25.090493\n",
              "1                P/L Before Tax  27.577299\n",
              "2  Consumption of Raw Materials   6.888658\n",
              "3              Gold Price (USD)  26.192505\n",
              "4                     Basic EPS   1.645716\n",
              "5                  Depreciation  14.802683\n",
              "6                           Tax   7.504594"
            ],
            "text/html": [
              "\n",
              "  <div id=\"df-7aa28171-7c4e-49fc-9a4e-4ec29c097927\">\n",
              "    <div class=\"colab-df-container\">\n",
              "      <div>\n",
              "<style scoped>\n",
              "    .dataframe tbody tr th:only-of-type {\n",
              "        vertical-align: middle;\n",
              "    }\n",
              "\n",
              "    .dataframe tbody tr th {\n",
              "        vertical-align: top;\n",
              "    }\n",
              "\n",
              "    .dataframe thead th {\n",
              "        text-align: right;\n",
              "    }\n",
              "</style>\n",
              "<table border=\"1\" class=\"dataframe\">\n",
              "  <thead>\n",
              "    <tr style=\"text-align: right;\">\n",
              "      <th></th>\n",
              "      <th>column</th>\n",
              "      <th>VIF</th>\n",
              "    </tr>\n",
              "  </thead>\n",
              "  <tbody>\n",
              "    <tr>\n",
              "      <th>0</th>\n",
              "      <td>GDP Growth Rate</td>\n",
              "      <td>25.090493</td>\n",
              "    </tr>\n",
              "    <tr>\n",
              "      <th>1</th>\n",
              "      <td>P/L Before Tax</td>\n",
              "      <td>27.577299</td>\n",
              "    </tr>\n",
              "    <tr>\n",
              "      <th>2</th>\n",
              "      <td>Consumption of Raw Materials</td>\n",
              "      <td>6.888658</td>\n",
              "    </tr>\n",
              "    <tr>\n",
              "      <th>3</th>\n",
              "      <td>Gold Price (USD)</td>\n",
              "      <td>26.192505</td>\n",
              "    </tr>\n",
              "    <tr>\n",
              "      <th>4</th>\n",
              "      <td>Basic EPS</td>\n",
              "      <td>1.645716</td>\n",
              "    </tr>\n",
              "    <tr>\n",
              "      <th>5</th>\n",
              "      <td>Depreciation</td>\n",
              "      <td>14.802683</td>\n",
              "    </tr>\n",
              "    <tr>\n",
              "      <th>6</th>\n",
              "      <td>Tax</td>\n",
              "      <td>7.504594</td>\n",
              "    </tr>\n",
              "  </tbody>\n",
              "</table>\n",
              "</div>\n",
              "      <button class=\"colab-df-convert\" onclick=\"convertToInteractive('df-7aa28171-7c4e-49fc-9a4e-4ec29c097927')\"\n",
              "              title=\"Convert this dataframe to an interactive table.\"\n",
              "              style=\"display:none;\">\n",
              "        \n",
              "  <svg xmlns=\"http://www.w3.org/2000/svg\" height=\"24px\"viewBox=\"0 0 24 24\"\n",
              "       width=\"24px\">\n",
              "    <path d=\"M0 0h24v24H0V0z\" fill=\"none\"/>\n",
              "    <path d=\"M18.56 5.44l.94 2.06.94-2.06 2.06-.94-2.06-.94-.94-2.06-.94 2.06-2.06.94zm-11 1L8.5 8.5l.94-2.06 2.06-.94-2.06-.94L8.5 2.5l-.94 2.06-2.06.94zm10 10l.94 2.06.94-2.06 2.06-.94-2.06-.94-.94-2.06-.94 2.06-2.06.94z\"/><path d=\"M17.41 7.96l-1.37-1.37c-.4-.4-.92-.59-1.43-.59-.52 0-1.04.2-1.43.59L10.3 9.45l-7.72 7.72c-.78.78-.78 2.05 0 2.83L4 21.41c.39.39.9.59 1.41.59.51 0 1.02-.2 1.41-.59l7.78-7.78 2.81-2.81c.8-.78.8-2.07 0-2.86zM5.41 20L4 18.59l7.72-7.72 1.47 1.35L5.41 20z\"/>\n",
              "  </svg>\n",
              "      </button>\n",
              "      \n",
              "  <style>\n",
              "    .colab-df-container {\n",
              "      display:flex;\n",
              "      flex-wrap:wrap;\n",
              "      gap: 12px;\n",
              "    }\n",
              "\n",
              "    .colab-df-convert {\n",
              "      background-color: #E8F0FE;\n",
              "      border: none;\n",
              "      border-radius: 50%;\n",
              "      cursor: pointer;\n",
              "      display: none;\n",
              "      fill: #1967D2;\n",
              "      height: 32px;\n",
              "      padding: 0 0 0 0;\n",
              "      width: 32px;\n",
              "    }\n",
              "\n",
              "    .colab-df-convert:hover {\n",
              "      background-color: #E2EBFA;\n",
              "      box-shadow: 0px 1px 2px rgba(60, 64, 67, 0.3), 0px 1px 3px 1px rgba(60, 64, 67, 0.15);\n",
              "      fill: #174EA6;\n",
              "    }\n",
              "\n",
              "    [theme=dark] .colab-df-convert {\n",
              "      background-color: #3B4455;\n",
              "      fill: #D2E3FC;\n",
              "    }\n",
              "\n",
              "    [theme=dark] .colab-df-convert:hover {\n",
              "      background-color: #434B5C;\n",
              "      box-shadow: 0px 1px 3px 1px rgba(0, 0, 0, 0.15);\n",
              "      filter: drop-shadow(0px 1px 2px rgba(0, 0, 0, 0.3));\n",
              "      fill: #FFFFFF;\n",
              "    }\n",
              "  </style>\n",
              "\n",
              "      <script>\n",
              "        const buttonEl =\n",
              "          document.querySelector('#df-7aa28171-7c4e-49fc-9a4e-4ec29c097927 button.colab-df-convert');\n",
              "        buttonEl.style.display =\n",
              "          google.colab.kernel.accessAllowed ? 'block' : 'none';\n",
              "\n",
              "        async function convertToInteractive(key) {\n",
              "          const element = document.querySelector('#df-7aa28171-7c4e-49fc-9a4e-4ec29c097927');\n",
              "          const dataTable =\n",
              "            await google.colab.kernel.invokeFunction('convertToInteractive',\n",
              "                                                     [key], {});\n",
              "          if (!dataTable) return;\n",
              "\n",
              "          const docLinkHtml = 'Like what you see? Visit the ' +\n",
              "            '<a target=\"_blank\" href=https://colab.research.google.com/notebooks/data_table.ipynb>data table notebook</a>'\n",
              "            + ' to learn more about interactive tables.';\n",
              "          element.innerHTML = '';\n",
              "          dataTable['output_type'] = 'display_data';\n",
              "          await google.colab.output.renderOutput(dataTable, element);\n",
              "          const docLink = document.createElement('div');\n",
              "          docLink.innerHTML = docLinkHtml;\n",
              "          element.appendChild(docLink);\n",
              "        }\n",
              "      </script>\n",
              "    </div>\n",
              "  </div>\n",
              "  "
            ]
          },
          "metadata": {},
          "execution_count": 39
        }
      ]
    },
    {
      "cell_type": "markdown",
      "source": [
        "The observations made out of above is as follows,\n",
        "\n",
        "1. The earlier factors withvery high VIF is significantly reduced such as Consumption of Raw Materials, P/L Before Tax.\n",
        "\n",
        "2. However factors with low VIF got increased many folds such as GDP Growth Rate, Gold Price (USD)"
      ],
      "metadata": {
        "id": "4H9taJK9kf5K"
      }
    },
    {
      "cell_type": "code",
      "source": [
        "### Building new model\n",
        "\n",
        "train_X_new = train_X[X_new_features]\n",
        "model_2 = sm.OLS(train_y, train_X_new).fit()\n",
        "model_2.summary2()"
      ],
      "metadata": {
        "colab": {
          "base_uri": "https://localhost:8080/",
          "height": 420
        },
        "id": "xREY97CkminU",
        "outputId": "68c1c08b-ee4a-4788-c1c5-734608ba3ca6"
      },
      "execution_count": 40,
      "outputs": [
        {
          "output_type": "execute_result",
          "data": {
            "text/plain": [
              "<class 'statsmodels.iolib.summary2.Summary'>\n",
              "\"\"\"\n",
              "                          Results: Ordinary least squares\n",
              "===================================================================================\n",
              "Model:                  OLS                  Adj. R-squared (uncentered): 0.084    \n",
              "Dependent Variable:     Next Stock Deviation AIC:                         -242.9594\n",
              "Date:                   2022-09-03 09:06     BIC:                         -215.3049\n",
              "No. Observations:       384                  Log-Likelihood:              128.48   \n",
              "Df Model:               7                    F-statistic:                 6.003    \n",
              "Df Residuals:           377                  Prob (F-statistic):          1.20e-06 \n",
              "R-squared (uncentered): 0.100                Scale:                       0.030542 \n",
              "------------------------------------------------------------------------------------\n",
              "                                  Coef.   Std.Err.     t     P>|t|    [0.025  0.975]\n",
              "------------------------------------------------------------------------------------\n",
              "GDP Growth Rate                  -0.0096    0.0068  -1.4082  0.1599  -0.0229  0.0038\n",
              "P/L Before Tax                    0.0000    0.0000   0.9044  0.3663  -0.0000  0.0001\n",
              "Consumption of Raw Materials      0.0000    0.0000   0.4226  0.6728  -0.0000  0.0001\n",
              "Gold Price (USD)                  0.0008    0.0003   2.6552  0.0083   0.0002  0.0014\n",
              "Basic EPS                         0.0002    0.0009   0.2201  0.8259  -0.0015  0.0019\n",
              "Depreciation                     -0.0008    0.0005  -1.7321  0.0841  -0.0017  0.0001\n",
              "Tax                              -0.0000    0.0001  -0.2552  0.7987  -0.0001  0.0001\n",
              "-----------------------------------------------------------------------------------\n",
              "Omnibus:                   202.704            Durbin-Watson:               1.701   \n",
              "Prob(Omnibus):             0.000              Jarque-Bera (JB):            2244.441\n",
              "Skew:                      1.971              Prob(JB):                    0.000   \n",
              "Kurtosis:                  14.169             Condition No.:               1083    \n",
              "===================================================================================\n",
              "* The condition number is large (1e+03). This might indicate             strong\n",
              "multicollinearity or other numerical problems.\n",
              "\"\"\""
            ],
            "text/html": [
              "<table class=\"simpletable\">\n",
              "<tr>\n",
              "          <td>Model:</td>                   <td>OLS</td>         <td>Adj. R-squared (uncentered):</td>   <td>0.084</td>  \n",
              "</tr>\n",
              "<tr>\n",
              "    <td>Dependent Variable:</td>   <td>Next Stock Deviation</td>             <td>AIC:</td>             <td>-242.9594</td>\n",
              "</tr>\n",
              "<tr>\n",
              "           <td>Date:</td>            <td>2022-09-03 09:06</td>               <td>BIC:</td>             <td>-215.3049</td>\n",
              "</tr>\n",
              "<tr>\n",
              "     <td>No. Observations:</td>             <td>384</td>                <td>Log-Likelihood:</td>        <td>128.48</td>  \n",
              "</tr>\n",
              "<tr>\n",
              "         <td>Df Model:</td>                  <td>7</td>                  <td>F-statistic:</td>           <td>6.003</td>  \n",
              "</tr>\n",
              "<tr>\n",
              "       <td>Df Residuals:</td>               <td>377</td>              <td>Prob (F-statistic):</td>     <td>1.20e-06</td> \n",
              "</tr>\n",
              "<tr>\n",
              "  <td>R-squared (uncentered):</td>         <td>0.100</td>                   <td>Scale:</td>            <td>0.030542</td> \n",
              "</tr>\n",
              "</table>\n",
              "<table class=\"simpletable\">\n",
              "<tr>\n",
              "                <td></td>                <th>Coef.</th>  <th>Std.Err.</th>    <th>t</th>     <th>P>|t|</th> <th>[0.025</th>  <th>0.975]</th>\n",
              "</tr>\n",
              "<tr>\n",
              "  <th>GDP Growth Rate</th>              <td>-0.0096</td>  <td>0.0068</td>  <td>-1.4082</td> <td>0.1599</td> <td>-0.0229</td> <td>0.0038</td>\n",
              "</tr>\n",
              "<tr>\n",
              "  <th>P/L Before Tax</th>               <td>0.0000</td>   <td>0.0000</td>  <td>0.9044</td>  <td>0.3663</td> <td>-0.0000</td> <td>0.0001</td>\n",
              "</tr>\n",
              "<tr>\n",
              "  <th>Consumption of Raw Materials</th> <td>0.0000</td>   <td>0.0000</td>  <td>0.4226</td>  <td>0.6728</td> <td>-0.0000</td> <td>0.0001</td>\n",
              "</tr>\n",
              "<tr>\n",
              "  <th>Gold Price (USD)</th>             <td>0.0008</td>   <td>0.0003</td>  <td>2.6552</td>  <td>0.0083</td> <td>0.0002</td>  <td>0.0014</td>\n",
              "</tr>\n",
              "<tr>\n",
              "  <th>Basic EPS</th>                    <td>0.0002</td>   <td>0.0009</td>  <td>0.2201</td>  <td>0.8259</td> <td>-0.0015</td> <td>0.0019</td>\n",
              "</tr>\n",
              "<tr>\n",
              "  <th>Depreciation</th>                 <td>-0.0008</td>  <td>0.0005</td>  <td>-1.7321</td> <td>0.0841</td> <td>-0.0017</td> <td>0.0001</td>\n",
              "</tr>\n",
              "<tr>\n",
              "  <th>Tax</th>                          <td>-0.0000</td>  <td>0.0001</td>  <td>-0.2552</td> <td>0.7987</td> <td>-0.0001</td> <td>0.0001</td>\n",
              "</tr>\n",
              "</table>\n",
              "<table class=\"simpletable\">\n",
              "<tr>\n",
              "     <td>Omnibus:</td>    <td>202.704</td>  <td>Durbin-Watson:</td>     <td>1.701</td> \n",
              "</tr>\n",
              "<tr>\n",
              "  <td>Prob(Omnibus):</td>  <td>0.000</td>  <td>Jarque-Bera (JB):</td> <td>2244.441</td>\n",
              "</tr>\n",
              "<tr>\n",
              "       <td>Skew:</td>      <td>1.971</td>      <td>Prob(JB):</td>       <td>0.000</td> \n",
              "</tr>\n",
              "<tr>\n",
              "     <td>Kurtosis:</td>   <td>14.169</td>   <td>Condition No.:</td>     <td>1083</td>  \n",
              "</tr>\n",
              "</table>"
            ]
          },
          "metadata": {},
          "execution_count": 40
        }
      ]
    },
    {
      "cell_type": "markdown",
      "source": [
        "The above model summary following could be inferred,\n",
        "\n",
        "1. Now the model is able to explain better. With R-squared value as 0.1 model is able to explain 10% variability.\n",
        "\n",
        "2. The Prob F statistics is closer to 0. Hence model is statistically significant now.\n",
        "\n",
        "3. At 10% significance level, one internal factor Depreciation and one external factor Gold Price(USD) is statistically significant.\n"
      ],
      "metadata": {
        "id": "urJ0NJUGnGpf"
      }
    },
    {
      "cell_type": "markdown",
      "source": [
        "### Building the model with only statistically significant factors"
      ],
      "metadata": {
        "id": "Ew-rGFxUnxFN"
      }
    },
    {
      "cell_type": "code",
      "source": [
        "significant_vars = ['Depreciation', 'Gold Price (USD)']\n",
        "train_X = train_X[significant_vars]\n",
        "model_3 = sm.OLS(train_y, train_X).fit() \n",
        "model_3.summary2()"
      ],
      "metadata": {
        "colab": {
          "base_uri": "https://localhost:8080/",
          "height": 315
        },
        "id": "1-fDZTaeoNfX",
        "outputId": "b606c288-8270-4d28-a6a4-edae10d66ad4"
      },
      "execution_count": 41,
      "outputs": [
        {
          "output_type": "execute_result",
          "data": {
            "text/plain": [
              "<class 'statsmodels.iolib.summary2.Summary'>\n",
              "\"\"\"\n",
              "                          Results: Ordinary least squares\n",
              "===================================================================================\n",
              "Model:                  OLS                  Adj. R-squared (uncentered): 0.086    \n",
              "Dependent Variable:     Next Stock Deviation AIC:                         -248.8225\n",
              "Date:                   2022-09-03 09:15     BIC:                         -240.9213\n",
              "No. Observations:       384                  Log-Likelihood:              126.41   \n",
              "Df Model:               2                    F-statistic:                 19.02    \n",
              "Df Residuals:           382                  Prob (F-statistic):          1.34e-08 \n",
              "R-squared (uncentered): 0.091                Scale:                       0.030469 \n",
              "---------------------------------------------------------------------------------------\n",
              "                      Coef.      Std.Err.        t        P>|t|       [0.025     0.975]\n",
              "---------------------------------------------------------------------------------------\n",
              "Depreciation         -0.0002       0.0001     -1.5130     0.1311     -0.0005     0.0001\n",
              "Gold Price (USD)      0.0004       0.0001      5.9324     0.0000      0.0003     0.0005\n",
              "-----------------------------------------------------------------------------------\n",
              "Omnibus:                   204.418            Durbin-Watson:               1.705   \n",
              "Prob(Omnibus):             0.000              Jarque-Bera (JB):            2173.901\n",
              "Skew:                      2.009              Prob(JB):                    0.000   \n",
              "Kurtosis:                  13.942             Condition No.:               3       \n",
              "===================================================================================\n",
              "\n",
              "\"\"\""
            ],
            "text/html": [
              "<table class=\"simpletable\">\n",
              "<tr>\n",
              "          <td>Model:</td>                   <td>OLS</td>         <td>Adj. R-squared (uncentered):</td>   <td>0.086</td>  \n",
              "</tr>\n",
              "<tr>\n",
              "    <td>Dependent Variable:</td>   <td>Next Stock Deviation</td>             <td>AIC:</td>             <td>-248.8225</td>\n",
              "</tr>\n",
              "<tr>\n",
              "           <td>Date:</td>            <td>2022-09-03 09:15</td>               <td>BIC:</td>             <td>-240.9213</td>\n",
              "</tr>\n",
              "<tr>\n",
              "     <td>No. Observations:</td>             <td>384</td>                <td>Log-Likelihood:</td>        <td>126.41</td>  \n",
              "</tr>\n",
              "<tr>\n",
              "         <td>Df Model:</td>                  <td>2</td>                  <td>F-statistic:</td>           <td>19.02</td>  \n",
              "</tr>\n",
              "<tr>\n",
              "       <td>Df Residuals:</td>               <td>382</td>              <td>Prob (F-statistic):</td>     <td>1.34e-08</td> \n",
              "</tr>\n",
              "<tr>\n",
              "  <td>R-squared (uncentered):</td>         <td>0.091</td>                   <td>Scale:</td>            <td>0.030469</td> \n",
              "</tr>\n",
              "</table>\n",
              "<table class=\"simpletable\">\n",
              "<tr>\n",
              "          <td></td>          <th>Coef.</th>  <th>Std.Err.</th>    <th>t</th>     <th>P>|t|</th> <th>[0.025</th>  <th>0.975]</th>\n",
              "</tr>\n",
              "<tr>\n",
              "  <th>Depreciation</th>     <td>-0.0002</td>  <td>0.0001</td>  <td>-1.5130</td> <td>0.1311</td> <td>-0.0005</td> <td>0.0001</td>\n",
              "</tr>\n",
              "<tr>\n",
              "  <th>Gold Price (USD)</th> <td>0.0004</td>   <td>0.0001</td>  <td>5.9324</td>  <td>0.0000</td> <td>0.0003</td>  <td>0.0005</td>\n",
              "</tr>\n",
              "</table>\n",
              "<table class=\"simpletable\">\n",
              "<tr>\n",
              "     <td>Omnibus:</td>    <td>204.418</td>  <td>Durbin-Watson:</td>     <td>1.705</td> \n",
              "</tr>\n",
              "<tr>\n",
              "  <td>Prob(Omnibus):</td>  <td>0.000</td>  <td>Jarque-Bera (JB):</td> <td>2173.901</td>\n",
              "</tr>\n",
              "<tr>\n",
              "       <td>Skew:</td>      <td>2.009</td>      <td>Prob(JB):</td>       <td>0.000</td> \n",
              "</tr>\n",
              "<tr>\n",
              "     <td>Kurtosis:</td>   <td>13.942</td>   <td>Condition No.:</td>       <td>3</td>   \n",
              "</tr>\n",
              "</table>"
            ]
          },
          "metadata": {},
          "execution_count": 41
        }
      ]
    },
    {
      "cell_type": "code",
      "source": [
        "model_3_resid = model_3.resid \n",
        "probplot = sm.ProbPlot(model_3_resid) \n",
        "plt.figure( figsize = (8, 6)) \n",
        "probplot.ppplot( line='45' )\n",
        "plt.title( \"Fig - Normal P-P Plot of Regression Standardized Residuals\" )\n",
        "plt.show()"
      ],
      "metadata": {
        "colab": {
          "base_uri": "https://localhost:8080/",
          "height": 312
        },
        "id": "rvh3YrQvp_8G",
        "outputId": "11a02b70-6ad6-427c-b8cf-83e0d3a80212"
      },
      "execution_count": 42,
      "outputs": [
        {
          "output_type": "display_data",
          "data": {
            "text/plain": [
              "<Figure size 576x432 with 0 Axes>"
            ]
          },
          "metadata": {}
        },
        {
          "output_type": "display_data",
          "data": {
            "text/plain": [
              "<Figure size 432x288 with 1 Axes>"
            ],
            "image/png": "[encoded data removed]"
          },
          "metadata": {
            "needs_background": "light"
          }
        }
      ]
    },
    {
      "cell_type": "markdown",
      "source": [
        "## CONCLUSION on MODEL SELECTION : \n",
        "\n",
        "No further improvement with statistically significant factors. The model f-statistics indicae that the model is significant yet its is able to explain only around 10%\n",
        "\n",
        "Also very slight improvements in residual regression.\n",
        "\n",
        "We might need to check now with **lasso optimization** to eliminate true factors.\n",
        "\n"
      ],
      "metadata": {
        "id": "JIUHhr6wouI_"
      }
    },
    {
      "cell_type": "markdown",
      "source": [
        "## Elimination by LASSO"
      ],
      "metadata": {
        "id": "As0fl2ZUpcBu"
      }
    },
    {
      "cell_type": "code",
      "source": [
        "\n",
        "# Takes a model as a parameter\n",
        "# Prints the RMSE on train and test set \n",
        "def get_train_test_rmse( model ):\n",
        "  # Predicting on training dataset\n",
        "  y_train_pred = model.predict( train_X )\n",
        "  # Compare the actual y with predicted y in the training dataset\n",
        "  rmse_train = round(np.sqrt(metrics.mean_squared_error( train_y,y_train_pred)),3)\n",
        "  # Predicting on test dataset\n",
        "  y_test_pred = model.predict( test_X )\n",
        "  # Compare the actual y with predicted y in the test dataset\n",
        "  rmse_test = round(np.sqrt(metrics.mean_squared_error(test_y,y_test_pred)),3)\n",
        "  print(\"train: \", rmse_train,\" test:\", rmse_test)"
      ],
      "metadata": {
        "id": "92ZH1IGNvPhk"
      },
      "execution_count": 50,
      "outputs": []
    },
    {
      "cell_type": "code",
      "source": [
        " # Applying alpha = 1 and running the algorithms for maximum of 500 iterations\n",
        "lasso = Lasso(alpha = 0.01, max_iter = 500) \n",
        "lasso.fit( train_X, train_y )"
      ],
      "metadata": {
        "colab": {
          "base_uri": "https://localhost:8080/"
        },
        "id": "1FjGccIOunZ8",
        "outputId": "1375c1d7-7f39-4e3b-f262-00e922f98c5e"
      },
      "execution_count": 55,
      "outputs": [
        {
          "output_type": "stream",
          "name": "stderr",
          "text": [
            "/usr/local/lib/python3.7/dist-packages/sklearn/linear_model/_coordinate_descent.py:648: ConvergenceWarning: Objective did not converge. You might want to increase the number of iterations, check the scale of the features or consider increasing regularisation. Duality gap: 5.311e+00, tolerance: 1.171e-03\n",
            "  coef_, l1_reg, l2_reg, X, y, max_iter, tol, rng, random, positive\n"
          ]
        },
        {
          "output_type": "execute_result",
          "data": {
            "text/plain": [
              "Lasso(alpha=0.01, max_iter=500)"
            ]
          },
          "metadata": {},
          "execution_count": 55
        }
      ]
    },
    {
      "cell_type": "code",
      "source": [
        "get_train_test_rmse( lasso )"
      ],
      "metadata": {
        "colab": {
          "base_uri": "https://localhost:8080/"
        },
        "id": "hlbngFABvDif",
        "outputId": "4be10b81-9552-4234-9593-37285dca00f0"
      },
      "execution_count": 56,
      "outputs": [
        {
          "output_type": "stream",
          "name": "stdout",
          "text": [
            "train:  0.172  test: 0.204\n"
          ]
        }
      ]
    },
    {
      "cell_type": "markdown",
      "source": [
        "The differene between train and test is small. The model is is not overfitting. Surprisingly the test accuracy is higher. However both train and test accuracies are collectively underfitting.\n"
      ],
      "metadata": {
        "id": "ddnj545nxLzU"
      }
    },
    {
      "cell_type": "code",
      "source": [
        "## Storing the feature names and coefficient values in the DataFrame\n",
        "\n",
        "lasso_coef_df = pd.DataFrame( { 'columns': train_X.columns ,'coef': lasso.coef_ } )\n",
        "\n",
        "## Filtering out coefficients with zeros\n",
        "lasso_coef_df[lasso_coef_df.coef == 0]"
      ],
      "metadata": {
        "colab": {
          "base_uri": "https://localhost:8080/",
          "height": 216
        },
        "id": "oLvob480xqmr",
        "outputId": "8c22f49e-fa70-4bd8-99e6-9286bedbacff"
      },
      "execution_count": 59,
      "outputs": [
        {
          "output_type": "stream",
          "name": "stdout",
          "text": [
            "Index(['const', 'Net Sales/Income from operations',\n",
            "       'Total Income From Operations', 'Consumption of Raw Materials',\n",
            "       'Employees Cost', 'Depreciation', 'Other Expenses', 'P/L Before Tax',\n",
            "       'Tax', 'Net Profit/(Loss) For the Period', 'Equity Share Capital',\n",
            "       'Basic EPS', 'GDP Growth Rate', 'Gold Price (USD)'],\n",
            "      dtype='object')\n"
          ]
        },
        {
          "output_type": "execute_result",
          "data": {
            "text/plain": [
              "             columns  coef\n",
              "0              const   0.0\n",
              "13  Gold Price (USD)  -0.0"
            ],
            "text/html": [
              "\n",
              "  <div id=\"df-f8dbb4bd-6cb6-418c-837a-b76fc6aa1782\">\n",
              "    <div class=\"colab-df-container\">\n",
              "      <div>\n",
              "<style scoped>\n",
              "    .dataframe tbody tr th:only-of-type {\n",
              "        vertical-align: middle;\n",
              "    }\n",
              "\n",
              "    .dataframe tbody tr th {\n",
              "        vertical-align: top;\n",
              "    }\n",
              "\n",
              "    .dataframe thead th {\n",
              "        text-align: right;\n",
              "    }\n",
              "</style>\n",
              "<table border=\"1\" class=\"dataframe\">\n",
              "  <thead>\n",
              "    <tr style=\"text-align: right;\">\n",
              "      <th></th>\n",
              "      <th>columns</th>\n",
              "      <th>coef</th>\n",
              "    </tr>\n",
              "  </thead>\n",
              "  <tbody>\n",
              "    <tr>\n",
              "      <th>0</th>\n",
              "      <td>const</td>\n",
              "      <td>0.0</td>\n",
              "    </tr>\n",
              "    <tr>\n",
              "      <th>13</th>\n",
              "      <td>Gold Price (USD)</td>\n",
              "      <td>-0.0</td>\n",
              "    </tr>\n",
              "  </tbody>\n",
              "</table>\n",
              "</div>\n",
              "      <button class=\"colab-df-convert\" onclick=\"convertToInteractive('df-f8dbb4bd-6cb6-418c-837a-b76fc6aa1782')\"\n",
              "              title=\"Convert this dataframe to an interactive table.\"\n",
              "              style=\"display:none;\">\n",
              "        \n",
              "  <svg xmlns=\"http://www.w3.org/2000/svg\" height=\"24px\"viewBox=\"0 0 24 24\"\n",
              "       width=\"24px\">\n",
              "    <path d=\"M0 0h24v24H0V0z\" fill=\"none\"/>\n",
              "    <path d=\"M18.56 5.44l.94 2.06.94-2.06 2.06-.94-2.06-.94-.94-2.06-.94 2.06-2.06.94zm-11 1L8.5 8.5l.94-2.06 2.06-.94-2.06-.94L8.5 2.5l-.94 2.06-2.06.94zm10 10l.94 2.06.94-2.06 2.06-.94-2.06-.94-.94-2.06-.94 2.06-2.06.94z\"/><path d=\"M17.41 7.96l-1.37-1.37c-.4-.4-.92-.59-1.43-.59-.52 0-1.04.2-1.43.59L10.3 9.45l-7.72 7.72c-.78.78-.78 2.05 0 2.83L4 21.41c.39.39.9.59 1.41.59.51 0 1.02-.2 1.41-.59l7.78-7.78 2.81-2.81c.8-.78.8-2.07 0-2.86zM5.41 20L4 18.59l7.72-7.72 1.47 1.35L5.41 20z\"/>\n",
              "  </svg>\n",
              "      </button>\n",
              "      \n",
              "  <style>\n",
              "    .colab-df-container {\n",
              "      display:flex;\n",
              "      flex-wrap:wrap;\n",
              "      gap: 12px;\n",
              "    }\n",
              "\n",
              "    .colab-df-convert {\n",
              "      background-color: #E8F0FE;\n",
              "      border: none;\n",
              "      border-radius: 50%;\n",
              "      cursor: pointer;\n",
              "      display: none;\n",
              "      fill: #1967D2;\n",
              "      height: 32px;\n",
              "      padding: 0 0 0 0;\n",
              "      width: 32px;\n",
              "    }\n",
              "\n",
              "    .colab-df-convert:hover {\n",
              "      background-color: #E2EBFA;\n",
              "      box-shadow: 0px 1px 2px rgba(60, 64, 67, 0.3), 0px 1px 3px 1px rgba(60, 64, 67, 0.15);\n",
              "      fill: #174EA6;\n",
              "    }\n",
              "\n",
              "    [theme=dark] .colab-df-convert {\n",
              "      background-color: #3B4455;\n",
              "      fill: #D2E3FC;\n",
              "    }\n",
              "\n",
              "    [theme=dark] .colab-df-convert:hover {\n",
              "      background-color: #434B5C;\n",
              "      box-shadow: 0px 1px 3px 1px rgba(0, 0, 0, 0.15);\n",
              "      filter: drop-shadow(0px 1px 2px rgba(0, 0, 0, 0.3));\n",
              "      fill: #FFFFFF;\n",
              "    }\n",
              "  </style>\n",
              "\n",
              "      <script>\n",
              "        const buttonEl =\n",
              "          document.querySelector('#df-f8dbb4bd-6cb6-418c-837a-b76fc6aa1782 button.colab-df-convert');\n",
              "        buttonEl.style.display =\n",
              "          google.colab.kernel.accessAllowed ? 'block' : 'none';\n",
              "\n",
              "        async function convertToInteractive(key) {\n",
              "          const element = document.querySelector('#df-f8dbb4bd-6cb6-418c-837a-b76fc6aa1782');\n",
              "          const dataTable =\n",
              "            await google.colab.kernel.invokeFunction('convertToInteractive',\n",
              "                                                     [key], {});\n",
              "          if (!dataTable) return;\n",
              "\n",
              "          const docLinkHtml = 'Like what you see? Visit the ' +\n",
              "            '<a target=\"_blank\" href=https://colab.research.google.com/notebooks/data_table.ipynb>data table notebook</a>'\n",
              "            + ' to learn more about interactive tables.';\n",
              "          element.innerHTML = '';\n",
              "          dataTable['output_type'] = 'display_data';\n",
              "          await google.colab.output.renderOutput(dataTable, element);\n",
              "          const docLink = document.createElement('div');\n",
              "          docLink.innerHTML = docLinkHtml;\n",
              "          element.appendChild(docLink);\n",
              "        }\n",
              "      </script>\n",
              "    </div>\n",
              "  </div>\n",
              "  "
            ]
          },
          "metadata": {},
          "execution_count": 59
        }
      ]
    },
    {
      "cell_type": "markdown",
      "source": [
        "### Generating Model basel on lasso elimination"
      ],
      "metadata": {
        "id": "IC0hWpssy9R0"
      }
    },
    {
      "cell_type": "code",
      "source": [
        "X_lasso_features = list( set(X_features) - set(lasso_coef_df[lasso_coef_df.coef == 0]['columns'].to_list()))\n",
        "\n",
        "lasso_model = sm.OLS(train_y, train_X[X_lasso_features]).fit()\n",
        "lasso_model.summary2()"
      ],
      "metadata": {
        "colab": {
          "base_uri": "https://localhost:8080/",
          "height": 562
        },
        "id": "W9_7nQrYzA_b",
        "outputId": "46c5c005-763b-433f-a3aa-07f6bf9cb7e3"
      },
      "execution_count": 67,
      "outputs": [
        {
          "output_type": "stream",
          "name": "stdout",
          "text": [
            "['Employees Cost', 'P/L Before Tax', 'Equity Share Capital', 'GDP Growth Rate', 'Net Profit/(Loss) For the Period', 'Consumption of Raw Materials', 'Total Income From Operations', 'Other Expenses', 'Basic EPS', 'Depreciation', 'Net Sales/Income from operations', 'Tax']\n"
          ]
        },
        {
          "output_type": "execute_result",
          "data": {
            "text/plain": [
              "<class 'statsmodels.iolib.summary2.Summary'>\n",
              "\"\"\"\n",
              "                          Results: Ordinary least squares\n",
              "===================================================================================\n",
              "Model:                  OLS                  Adj. R-squared (uncentered): 0.064    \n",
              "Dependent Variable:     Next Stock Deviation AIC:                         -229.8612\n",
              "Date:                   2022-09-03 10:13     BIC:                         -182.4535\n",
              "No. Observations:       384                  Log-Likelihood:              126.93   \n",
              "Df Model:               12                   F-statistic:                 3.179    \n",
              "Df Residuals:           372                  Prob (F-statistic):          0.000241 \n",
              "R-squared (uncentered): 0.093                Scale:                       0.031203 \n",
              "-----------------------------------------------------------------------------------\n",
              "                                      Coef.  Std.Err.    t    P>|t|   [0.025 0.975]\n",
              "-----------------------------------------------------------------------------------\n",
              "Employees Cost                       -0.0001   0.0003 -0.3343 0.7383 -0.0007 0.0005\n",
              "P/L Before Tax                        0.0000   0.0002  0.0457 0.9636 -0.0004 0.0004\n",
              "Equity Share Capital                  0.0003   0.0002  1.4349 0.1522 -0.0001 0.0007\n",
              "GDP Growth Rate                       0.0061   0.0024  2.5264 0.0119  0.0014 0.0109\n",
              "Net Profit/(Loss) For the Period     -0.0001   0.0002 -0.4499 0.6530 -0.0006 0.0004\n",
              "Consumption of Raw Materials          0.0000   0.0001  0.3890 0.6975 -0.0001 0.0002\n",
              "Total Income From Operations          0.0004   0.0003  1.0413 0.2984 -0.0003 0.0010\n",
              "Other Expenses                       -0.0000   0.0001 -0.1807 0.8567 -0.0003 0.0002\n",
              "Basic EPS                             0.0010   0.0010  1.0258 0.3056 -0.0009 0.0030\n",
              "Depreciation                         -0.0005   0.0006 -0.8457 0.3982 -0.0016 0.0006\n",
              "Net Sales/Income from operations     -0.0003   0.0003 -1.0012 0.3174 -0.0010 0.0003\n",
              "Tax                                  -0.0000   0.0001 -0.3023 0.7626 -0.0002 0.0001\n",
              "-----------------------------------------------------------------------------------\n",
              "Omnibus:                   192.847            Durbin-Watson:               1.734   \n",
              "Prob(Omnibus):             0.000              Jarque-Bera (JB):            1946.883\n",
              "Skew:                      1.878              Prob(JB):                    0.000   \n",
              "Kurtosis:                  13.372             Condition No.:               1260    \n",
              "===================================================================================\n",
              "* The condition number is large (1e+03). This might indicate             strong\n",
              "multicollinearity or other numerical problems.\n",
              "\"\"\""
            ],
            "text/html": [
              "<table class=\"simpletable\">\n",
              "<tr>\n",
              "          <td>Model:</td>                   <td>OLS</td>         <td>Adj. R-squared (uncentered):</td>   <td>0.064</td>  \n",
              "</tr>\n",
              "<tr>\n",
              "    <td>Dependent Variable:</td>   <td>Next Stock Deviation</td>             <td>AIC:</td>             <td>-229.8612</td>\n",
              "</tr>\n",
              "<tr>\n",
              "           <td>Date:</td>            <td>2022-09-03 10:13</td>               <td>BIC:</td>             <td>-182.4535</td>\n",
              "</tr>\n",
              "<tr>\n",
              "     <td>No. Observations:</td>             <td>384</td>                <td>Log-Likelihood:</td>        <td>126.93</td>  \n",
              "</tr>\n",
              "<tr>\n",
              "         <td>Df Model:</td>                 <td>12</td>                  <td>F-statistic:</td>           <td>3.179</td>  \n",
              "</tr>\n",
              "<tr>\n",
              "       <td>Df Residuals:</td>               <td>372</td>              <td>Prob (F-statistic):</td>     <td>0.000241</td> \n",
              "</tr>\n",
              "<tr>\n",
              "  <td>R-squared (uncentered):</td>         <td>0.093</td>                   <td>Scale:</td>            <td>0.031203</td> \n",
              "</tr>\n",
              "</table>\n",
              "<table class=\"simpletable\">\n",
              "<tr>\n",
              "                  <td></td>                  <th>Coef.</th>  <th>Std.Err.</th>    <th>t</th>     <th>P>|t|</th> <th>[0.025</th>  <th>0.975]</th>\n",
              "</tr>\n",
              "<tr>\n",
              "  <th>Employees Cost</th>                   <td>-0.0001</td>  <td>0.0003</td>  <td>-0.3343</td> <td>0.7383</td> <td>-0.0007</td> <td>0.0005</td>\n",
              "</tr>\n",
              "<tr>\n",
              "  <th>P/L Before Tax</th>                   <td>0.0000</td>   <td>0.0002</td>  <td>0.0457</td>  <td>0.9636</td> <td>-0.0004</td> <td>0.0004</td>\n",
              "</tr>\n",
              "<tr>\n",
              "  <th>Equity Share Capital</th>             <td>0.0003</td>   <td>0.0002</td>  <td>1.4349</td>  <td>0.1522</td> <td>-0.0001</td> <td>0.0007</td>\n",
              "</tr>\n",
              "<tr>\n",
              "  <th>GDP Growth Rate</th>                  <td>0.0061</td>   <td>0.0024</td>  <td>2.5264</td>  <td>0.0119</td> <td>0.0014</td>  <td>0.0109</td>\n",
              "</tr>\n",
              "<tr>\n",
              "  <th>Net Profit/(Loss) For the Period</th> <td>-0.0001</td>  <td>0.0002</td>  <td>-0.4499</td> <td>0.6530</td> <td>-0.0006</td> <td>0.0004</td>\n",
              "</tr>\n",
              "<tr>\n",
              "  <th>Consumption of Raw Materials</th>     <td>0.0000</td>   <td>0.0001</td>  <td>0.3890</td>  <td>0.6975</td> <td>-0.0001</td> <td>0.0002</td>\n",
              "</tr>\n",
              "<tr>\n",
              "  <th>Total Income From Operations</th>     <td>0.0004</td>   <td>0.0003</td>  <td>1.0413</td>  <td>0.2984</td> <td>-0.0003</td> <td>0.0010</td>\n",
              "</tr>\n",
              "<tr>\n",
              "  <th>Other Expenses</th>                   <td>-0.0000</td>  <td>0.0001</td>  <td>-0.1807</td> <td>0.8567</td> <td>-0.0003</td> <td>0.0002</td>\n",
              "</tr>\n",
              "<tr>\n",
              "  <th>Basic EPS</th>                        <td>0.0010</td>   <td>0.0010</td>  <td>1.0258</td>  <td>0.3056</td> <td>-0.0009</td> <td>0.0030</td>\n",
              "</tr>\n",
              "<tr>\n",
              "  <th>Depreciation</th>                     <td>-0.0005</td>  <td>0.0006</td>  <td>-0.8457</td> <td>0.3982</td> <td>-0.0016</td> <td>0.0006</td>\n",
              "</tr>\n",
              "<tr>\n",
              "  <th>Net Sales/Income from operations</th> <td>-0.0003</td>  <td>0.0003</td>  <td>-1.0012</td> <td>0.3174</td> <td>-0.0010</td> <td>0.0003</td>\n",
              "</tr>\n",
              "<tr>\n",
              "  <th>Tax</th>                              <td>-0.0000</td>  <td>0.0001</td>  <td>-0.3023</td> <td>0.7626</td> <td>-0.0002</td> <td>0.0001</td>\n",
              "</tr>\n",
              "</table>\n",
              "<table class=\"simpletable\">\n",
              "<tr>\n",
              "     <td>Omnibus:</td>    <td>192.847</td>  <td>Durbin-Watson:</td>     <td>1.734</td> \n",
              "</tr>\n",
              "<tr>\n",
              "  <td>Prob(Omnibus):</td>  <td>0.000</td>  <td>Jarque-Bera (JB):</td> <td>1946.883</td>\n",
              "</tr>\n",
              "<tr>\n",
              "       <td>Skew:</td>      <td>1.878</td>      <td>Prob(JB):</td>       <td>0.000</td> \n",
              "</tr>\n",
              "<tr>\n",
              "     <td>Kurtosis:</td>   <td>13.372</td>   <td>Condition No.:</td>     <td>1260</td>  \n",
              "</tr>\n",
              "</table>"
            ]
          },
          "metadata": {},
          "execution_count": 67
        }
      ]
    },
    {
      "cell_type": "markdown",
      "source": [
        "### Model based on lasso significant fields is significant. However it is able to explain nearly 10%. The factor influencing most now is GDP Growth Rate and Equity Share Capital with 15% significance level."
      ],
      "metadata": {
        "id": "SLKw-vLo2IOA"
      }
    },
    {
      "cell_type": "markdown",
      "source": [
        "## STEP 7: Validate the Model and Measure Model Accuracy"
      ],
      "metadata": {
        "id": "UI8pNq5iA2qh"
      }
    },
    {
      "cell_type": "code",
      "source": [
        "pred_y = next_stock_deviation_lm.predict( test_X )\n",
        "\n",
        "np.abs(r2_score(test_y, pred_y))"
      ],
      "metadata": {
        "colab": {
          "base_uri": "https://localhost:8080/"
        },
        "id": "ybwD65KVBJ0_",
        "outputId": "5f65d627-f5ec-49aa-c780-bd50e7431610"
      },
      "execution_count": 68,
      "outputs": [
        {
          "output_type": "execute_result",
          "data": {
            "text/plain": [
              "0.006194107265665383"
            ]
          },
          "metadata": {},
          "execution_count": 68
        }
      ]
    },
    {
      "cell_type": "code",
      "source": [
        "lasso_pred_y = lasso.predict( test_X )\n",
        "\n",
        "np.abs(r2_score(test_y, lasso_pred_y))"
      ],
      "metadata": {
        "colab": {
          "base_uri": "https://localhost:8080/"
        },
        "id": "CQTHWPiW3efA",
        "outputId": "80ad5b42-fa42-404b-a2d2-df2ea097270c"
      },
      "execution_count": 71,
      "outputs": [
        {
          "output_type": "execute_result",
          "data": {
            "text/plain": [
              "0.008040187069476623"
            ]
          },
          "metadata": {},
          "execution_count": 71
        }
      ]
    },
    {
      "cell_type": "markdown",
      "source": [
        "## STEP 8: Decide on Model Deployment"
      ],
      "metadata": {
        "id": "TSOVYdVbBKpI"
      }
    },
    {
      "cell_type": "code",
      "source": [],
      "metadata": {
        "id": "HtOuOLuGBR5H"
      },
      "execution_count": null,
      "outputs": []
    }
  ]
}