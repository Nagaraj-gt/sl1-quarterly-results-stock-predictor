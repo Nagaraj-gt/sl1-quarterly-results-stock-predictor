{
  "nbformat": 4,
  "nbformat_minor": 0,
  "metadata": {
    "colab": {
      "provenance": [],
      "collapsed_sections": [],
      "authorship_tag": "ABX9TyOPTqIzrcn5bxWwoqatu9og",
      "include_colab_link": true
    },
    "kernelspec": {
      "name": "python3",
      "display_name": "Python 3"
    },
    "language_info": {
      "name": "python"
    }
  },
  "cells": [
    {
      "cell_type": "markdown",
      "metadata": {
        "id": "view-in-github",
        "colab_type": "text"
      },
      "source": [
        "<a href=\"https://colab.research.google.com/github/Nagaraj-gt/sl1-quarterly-results-stock-predictor/blob/main/BSE_India_Company_Quarterly_Results_with_Stock_Labels.ipynb\" target=\"_parent\"><img src=\"https://colab.research.google.com/assets/colab-badge.svg\" alt=\"Open In Colab\"/></a>"
      ]
    },
    {
      "cell_type": "code",
      "execution_count": null,
      "metadata": {
        "id": "2BaGdh6XJK4f"
      },
      "outputs": [],
      "source": []
    },
    {
      "cell_type": "markdown",
      "source": [
        "# Project Details\n",
        "\n",
        "**Name** : Indian companies quarterly results extractor along with labelled data for stock price impacted in next quarter\n",
        "\n",
        "**Description** : Indian listed companies in stock exchange BSE/NSE need to publish quarterly results of their performace. This results impacts the stock price variations in next quarter. Investment companies vould leverage this tool to extract the quarterly results historically for strategic investments also. Also helps in realtime investment on company stocks based on its quarterly financial results. \n",
        "\n",
        "\n"
      ],
      "metadata": {
        "id": "LPV9lmvDJR5v"
      }
    },
    {
      "cell_type": "markdown",
      "source": [
        "\n",
        "# Problem Description\n",
        "\n",
        "The Investment Firm wants to invest in companies of a particular sector. The investment is on equities for 3 months period. Investment is based on performance metrics of the companies published in quarterly results. The Investment Company want to understand if the return on equities would bring minimum expected returns or not.\n",
        "\n",
        "\n",
        "## Sector and Industries\n",
        "\n",
        "For this problem Statement we have considered companies under FMCG Sector. \n",
        "\n",
        "As per [INDIAN INDUSTRY CLASSIFICATION](https://www.bseindia.com/Downloads1/India_Industry_Classification_Structure.pdf) by BSE and NSE to have common classification of companies, below are the basic industries under FMCG :\n",
        "\n",
        "1.\tEdible Oil\n",
        "\n",
        "2.\tSugar\n",
        "\n",
        "3.\tTea & Coffee\n",
        "\n",
        "4.\tOther Agricultural Products\n",
        "\n",
        "5.\tBreweries & Distilleries\n",
        "\n",
        "6.\tOther Beverages\n",
        "\n",
        "7.\tCigarettes & Tobacco Products\n",
        "\n",
        "8.\tAnimal Feed\n",
        "\n",
        "9.\tDairy Products\n",
        "\n",
        "10.\tOther Food Products\n",
        "\n",
        "11.\tPackaged Foods\n",
        "\n",
        "12.\tPersonal Care\n",
        "\n",
        "13.\tHousehold Products\n",
        "\n",
        "14.\tBatteries\n",
        "\n",
        "15.\tPhotographic Products\n",
        "\n",
        "16.\tStationary\n",
        "\n",
        "17.\tDiversified FMCG\n",
        "\n",
        "\n"
      ],
      "metadata": {
        "id": "o5QKRxAB6foD"
      }
    },
    {
      "cell_type": "markdown",
      "source": [
        "# Data Sources\n",
        "\n",
        "1. The quarterly financial statements published by the Indian FMCG companies. These are published in BSE and NSE websites.\n",
        "2. The external factors which uniformly impacts all the companies irrespective of operational efficiency are tax and inflation. These are collected from Government wwebites \n"
      ],
      "metadata": {
        "id": "t9PQ1Ydb6g5z"
      }
    },
    {
      "cell_type": "markdown",
      "source": [
        "# Data Extraction\n",
        "\n",
        "## Extraction of quarterly finantial statements from BSE website\n",
        "\n",
        "Common imports, defaults for formatting in Scrapping, Matplotlib, Pandas etc.\n",
        "\n",
        "Also common functions to be used.\n",
        "\n"
      ],
      "metadata": {
        "id": "mwfk-sR08o2r"
      }
    },
    {
      "cell_type": "code",
      "source": [
        "import requests\n",
        "from bs4 import BeautifulSoup\n",
        "import pandas as pd\n",
        "import re\n",
        "import datetime\n",
        "import requests\n",
        "from calendar import month_abbr\n",
        "\n",
        "def removeSpecial(special_string):\n",
        "  #special_string = special_string.replace('&nbsp;','_')\n",
        "  return \"\".join((re.findall(\"[a-zA-Z\\x20]+\",special_string)))\n",
        "\n",
        "## Common Constansts\n",
        "\n",
        "headers = {\n",
        "       'User-Agent': 'Mozilla/5.0 (Macintosh; Intel Mac OS X 10_10_1) AppleWebKit/537.36 (KHTML, like Gecko) Chrome/39.0.2171.95 Safari/537.36'\n",
        "    }"
      ],
      "metadata": {
        "id": "-b_jyUKQ-Eo1"
      },
      "execution_count": null,
      "outputs": []
    },
    {
      "cell_type": "markdown",
      "source": [
        "Extraction of collection of performance metrics data for a company listed in BSE"
      ],
      "metadata": {
        "id": "zZo0oWuO-ldU"
      }
    },
    {
      "cell_type": "code",
      "source": [
        "\n",
        "\n",
        "# Function to retrieve quarterly results of a listed company from 2014 to 2019. As per BSE, quarter 81 is Jan 2014 to March 2014.\n",
        "def getQuarter(i):\n",
        "\n",
        "  if(i<81):\n",
        "    return None\n",
        "\n",
        "  base_year = 2014\n",
        "  base_number = 81\n",
        "\n",
        "  add_years, add_quarter = divmod((i-base_number),4)\n",
        "\n",
        "  given_year = base_year + add_years\n",
        "  given_qtr = add_quarter + 1\n",
        "\n",
        "  return \"Q\"+ str(given_qtr) + \" \" + str(given_year)\n",
        "\n",
        "def getQuarterlyResults(company_scode, company_name, qtr):\n",
        " \n",
        " URL = \"https://www.bseindia.com/corporates/Results.aspx?Code=\" + company_scode + \"&Company=\"+company_name.replace(\" \",\"%20\") + \"&qtr=\"+ str(qtr) +\"&RType=\"\n",
        " \n",
        " try:\n",
        "   page = requests.get(URL, headers=headers)\n",
        "   soup = BeautifulSoup(page.content, \"lxml\") \n",
        "   #results = soup.find(id=\"ContentPlaceHolder1_tbl_typeID\")\n",
        "\n",
        "   # Getting all html tables in the page into dataframe.\n",
        "   html_tables_df = pd.read_html(page.content)\n",
        "\n",
        "   # Extracting The second HTML Table of the page which contains the company metadata like security code and name.\n",
        "   company_table = html_tables_df[1].iloc[:1,[0,1,3,4]]\n",
        "   \n",
        "   security_code_title = removeSpecial(company_table.iloc[0,0] ).strip()\n",
        "   company_name_title =  removeSpecial(company_table.iloc[0,2] ).strip()\n",
        "\n",
        "   company_dict = { security_code_title :[company_table.iloc[0,1]] , company_name_title : [company_table.iloc[0,3]]  }\n",
        "   company_df = pd.DataFrame(company_dict)\n",
        "\n",
        "   # Extracting The fourth HTML Table of the page which contains the company quarterly financial statement\n",
        "   \n",
        "   \n",
        "   quarterly_results_table =  html_tables_df[3].iloc[0:22,[0,1]]\n",
        "   quarterly_results_table.columns = ['parameter','value']\n",
        "   quarterly_results_table['parameter'] = quarterly_results_table['parameter'].transform(removeSpecial)\n",
        "\n",
        "   # Transpose the dataframe to make column 0 values as column names\n",
        "   index_ = quarterly_results_table.iloc[0:len(quarterly_results_table),[0]] \n",
        "   quarterly_results_table.index = index_\n",
        "\n",
        "   quarterly_results_df = pd.DataFrame.transpose(quarterly_results_table.iloc[0:len(quarterly_results_table),[1]])\n",
        "   \n",
        "   quarterly_results_df.columns = [removeSpecial(col_name[0]) for col_name in quarterly_results_df.columns]\n",
        "   \n",
        "   \n",
        "   if quarterly_results_df['Date Begin'] is None:\n",
        "     print(\"The \" + company_name + \" has financial results only upto \" + getQuarter(qtr+1) )\n",
        "     return None\n",
        "\n",
        "   company_df.index = quarterly_results_df.index\n",
        "\n",
        "   ## Adding company name and code details.\n",
        "   quarterly_results_df = company_df.join(quarterly_results_df)\n",
        "   \n",
        "   return quarterly_results_df\n",
        "  \n",
        " except Exception as E:\n",
        "   print(E)\n",
        "   return None\n",
        "\n",
        "\n",
        "\n",
        "\n",
        "def getAllQuarterResults(company_scode, company_name):\n",
        "  ## Getting All quarters results from 2014 to 2019. Quarter 81 relates to Q1 2014\n",
        "\n",
        "  all_quarters_results = []\n",
        "\n",
        "  for i in range(104, 80, -1):\n",
        "    quaterlyResults = getQuarterlyResults(company_scode, company_name, i)\n",
        "    \n",
        "    if(quaterlyResults is None):\n",
        "      break\n",
        "    else:\n",
        "      quaterlyResults.insert(loc = 3,\n",
        "          column = 'Quarter',\n",
        "          value = getQuarter(i))\n",
        "      \n",
        "      all_quarters_results.append(quaterlyResults)\n",
        "  \n",
        "  all_quarter_results_df = pd.concat(all_quarters_results)\n",
        "  all_quarter_results_df.reset_index(inplace=True, drop=True)\n",
        "\n",
        "  return all_quarter_results_df\n",
        "  \n",
        "\n"
      ],
      "metadata": {
        "id": "1fJeqDi3AJDW"
      },
      "execution_count": null,
      "outputs": []
    },
    {
      "cell_type": "code",
      "source": [
        "# Function to label the quarterly results of a company with next quarter stocks deviations\n",
        "\n",
        "def label_quaterly_results (quarterly_results_df):\n",
        "  bse_stock_price_api = \" https://api.bseindia.com/BseIndiaAPI/api/StockpricesearchData/w\"\n",
        "  \n",
        "  stock_price_list = [] \n",
        "  for i in range(0,len(quarterly_results_df)) :\n",
        "   \n",
        "    month = pd.to_datetime(quarterly_results_df.loc[i,'Date Begin']).strftime((\"%b\"))\n",
        "    for k, v in enumerate(month_abbr):\n",
        "      if v == month:\n",
        "          month = k\n",
        "          break\n",
        "    year = pd.to_datetime(quarterly_results_df.loc[i,'Date Begin']).strftime((\"%Y\"))\n",
        "    \n",
        "    #And +3, as we need the next quarter stocks to predict.\n",
        "    month = month + 3\n",
        "    next_quarter_begin = month if month <=12  else month%12\n",
        "\n",
        "    # The BSE stocks API expected 0 to be pre-fixed for single digit months. \n",
        "    if(len(str(next_quarter_begin)) == 1):\n",
        "      next_quarter_begin = \"0\" + str(next_quarter_begin)\n",
        "\n",
        "    params = {\n",
        "      'MonthDate': next_quarter_begin,\n",
        "      'YearDate': year,\n",
        "      'pageType':0,\n",
        "      'rbType': 'M',\n",
        "      'Scode': quarterly_results_df['Security Code']\n",
        "    }\n",
        "\n",
        "    api_result = requests.get(bse_stock_price_api, params, headers=headers)\n",
        "    api_response = api_result.json()\n",
        "    next_qtr_stocks_df = pd.DataFrame.from_dict(api_response.get('StockData'))\n",
        "  \n",
        "  \n",
        "    # Calculation the stock value growth in next quarter\n",
        "    \n",
        "    qtr_open_price = float(next_qtr_stocks_df['qe_open'].iloc[0].replace(',',''))\n",
        "    qtr_close_price = float(next_qtr_stocks_df['qe_close'].iloc[len(next_qtr_stocks_df) - 1].replace(',',''))\n",
        "\n",
        "    next_qtr_stock_growth = qtr_close_price - qtr_open_price/ qtr_open_price\n",
        "   \n",
        "    stock_price_list.append(next_qtr_stock_growth)\n",
        "  \n",
        "  quarterly_results_df['Next Stock Deviation'] = stock_price_list\n",
        "                                                                                                             "
      ],
      "metadata": {
        "id": "d3-WcfNEh1MO"
      },
      "execution_count": null,
      "outputs": []
    },
    {
      "cell_type": "code",
      "source": [
        "## Function to consolidate all the labelled quartely results of companies belonging to a industry\n",
        "\n",
        "def getAllLabelledQuaterlyResults(industry):\n",
        "\n",
        "  listed_companies_url = \"https://api.bseindia.com/BseIndiaAPI/api/ListofScripData/w\"\n",
        "\n",
        "  params = {\n",
        "      'Group': 'A',\n",
        "      'Scripcode': '',\n",
        "      'industry':industry,\n",
        "      'segment': 'Equity',\n",
        "      'status': 'Active'\n",
        "    }\n",
        "\n",
        "  try:\n",
        "    api_result = requests.get(listed_companies_url, params, headers=headers)\n",
        "    api_response = api_result.json()\n",
        "    \n",
        "    \n",
        "  \n",
        "    frames = []\n",
        "\n",
        "    for company in api_response:\n",
        "      \n",
        "      try:\n",
        "        print(\"\\n\\tGetting 2014-19 quarterly returns for company \" + company.get('Scrip_Name'))\n",
        "        # Scraping the quarterly results \n",
        "        company_quarterly_results = getAllQuarterResults(company.get('SCRIP_CD') , company.get('Scrip_Name'))\n",
        "       \n",
        "        # Inserting industry\n",
        "\n",
        "        industry_col = [industry] * len(company_quarterly_results)\n",
        "\n",
        "        company_quarterly_results.insert(loc = 2,\n",
        "            column = 'Industry',\n",
        "            value = industry_col)\n",
        "        \n",
        "        print(\"\\t\\tLabelling the quarterly results of company \" + company.get('Scrip_Name') + \" with Next Quarter Stock Prices\" )\n",
        "        label_quaterly_results(company_quarterly_results)\n",
        "        print(\"\\t\\tLabelling completed successfully\" )\n",
        "        frames.append(company_quarterly_results)\n",
        "        print(\"\\tTotal number of quarterly results received: (Expected : 24)  \" + str(len(company_quarterly_results)))\n",
        "      \n",
        "      except Exception as E:\n",
        "        print(E)\n",
        "\n",
        "    return pd.concat(frames)\n",
        "\n",
        "  except Exception as E:\n",
        "   print(E)\n",
        "   return None\n",
        "\n",
        "\n",
        "\n",
        "\n",
        "\n",
        "\n"
      ],
      "metadata": {
        "id": "OXim4sMmTqub"
      },
      "execution_count": null,
      "outputs": []
    },
    {
      "cell_type": "markdown",
      "source": [
        "## Retrieving the quarterly results for an industry"
      ],
      "metadata": {
        "id": "lUOX_dSGK1rU"
      }
    },
    {
      "cell_type": "code",
      "source": [
        "\n",
        "# The labelled quarterly results of below Industry is \n",
        "\n",
        "fmcg_industries=['Edible Oil','Sugar','Tea & Coffee','Other Agricultural Products','Breweries & Distilleries','Other Beverages','Cigarettes & Tobacco Products','Animal Feed','Dairy Products','Other Food Products','Packaged Foods','Personal Care','Household Products','Batteries','Photographic Products','Stationary','Diversified FMCG']\n",
        "\n",
        "fmcg_industries_list = []\n",
        "\n",
        "for industry in fmcg_industries:\n",
        "  print(\"\\n\\nCOLLECTING LABELLED DATA FOR  \" + industry)\n",
        "  labelled_listed_companies_df = getAllLabelledQuaterlyResults(industry)\n",
        "  if labelled_listed_companies_df is not None :\n",
        "    fmcg_industries_list.append(labelled_listed_companies_df)\n",
        "\n",
        "# Collecting the common metrics across the basic industries under FMCG Sector for quarterly results\n",
        "fmcg_companies_df = pd.concat(fmcg_industries_list,join='inner', ignore_index=True)\n",
        "\n",
        "\n",
        "fmcg_companies_df.to_csv(\"Common_FMCG_Labelled_Quarter_Results.csv\")\n",
        "print(\"Successfully exported to CSV\")\n",
        "print(fmcg_companies_df.shape)\n",
        "\n",
        "\n",
        "\n",
        "\n",
        "\n"
      ],
      "metadata": {
        "id": "cBq7FsUZK1GE"
      },
      "execution_count": null,
      "outputs": []
    },
    {
      "cell_type": "markdown",
      "source": [
        "# Exploratory Data Analysis\n",
        "\n",
        "## Analysis of FMCG Companies listed since Q1 2014 with Quarterly Data\n",
        "\n"
      ],
      "metadata": {
        "id": "-7CUrBKBTz61"
      }
    },
    {
      "cell_type": "code",
      "source": [
        "fmcg_companies_since_2014 = fmcg_companies_df[fmcg_companies_df['Quarter'] == 'Q1 2014']\n",
        "\n",
        "print(\"Number of such companies are \", len(fmcg_companies_since_2014))\n",
        "\n",
        "  "
      ],
      "metadata": {
        "id": "73NJOwIH3sps",
        "colab": {
          "base_uri": "https://localhost:8080/"
        },
        "outputId": "014bbf9b-861b-44d0-aaaf-ab03255230a7"
      },
      "execution_count": null,
      "outputs": [
        {
          "output_type": "stream",
          "name": "stdout",
          "text": [
            "Number of such companies are  19\n"
          ]
        }
      ]
    },
    {
      "cell_type": "code",
      "source": [
        "print (\"Below are list of such companies :\")\n",
        "\n",
        "print(fmcg_companies_since_2014['Company Name'])"
      ],
      "metadata": {
        "colab": {
          "base_uri": "https://localhost:8080/"
        },
        "id": "Nd1cOasKVkcx",
        "outputId": "c2f16057-008f-4f6c-b1d7-9b15a3e95d63"
      },
      "execution_count": null,
      "outputs": [
        {
          "output_type": "stream",
          "name": "stdout",
          "text": [
            "Below are list of such companies :\n",
            "31                 BALRAMPUR CHINI MILLS LTD.\n",
            "55     Dalmia Bharat Sugar and Industries Ltd\n",
            "113           DWARIKESH SUGAR INDUSTRIES LTD.\n",
            "137                  SHREE RENUKA SUGARS LTD.\n",
            "229               GUJARAT AMBUJA EXPORTS LTD.\n",
            "284                   UNITED BREWERIES LTD.-$\n",
            "308                       RADICO KHAITAN LTD.\n",
            "387                       AVANTI FEEDS LTD.-$\n",
            "421                  HATSUN AGRO PRODUCT LTD.\n",
            "445                         NESTLE INDIA LTD.\n",
            "492                  TASTY BITE EATABLES LTD.\n",
            "516                        VENKY S INDIA LTD.\n",
            "591                                   PROCTER\n",
            "615              COLGATE-PALMOLIVE INDIA LTD.\n",
            "639                       GILLETTE INDIA LTD.\n",
            "697                   Bajaj Consumer Care Ltd\n",
            "755            EVEREADY INDUSTRIES INDIA LTD.\n",
            "800                                  ITC LTD.\n",
            "824                      HINDUSTAN FOODS LTD.\n",
            "Name: Company Name, dtype: object\n"
          ]
        }
      ]
    },
    {
      "cell_type": "markdown",
      "source": [
        "The Analysis says that there are only **19** FMCG companies with data since 2014. For our model we need **20** companies. From simple excel output we understood that there is one more company which has data in 2014 but not since Q1. The company is **HINDUSTAN UNILEVER LTD.**. The first 3 quarters of 2014 has missing data due to point failures from BSEINDIA website for those requests.\n",
        "\n",
        "Lets add HINUDSTAN UNILEVER LTD. company data as well and fill the quarterly results for  HINUDSTAN UNILEVER LTD data for first 3 quarters of 2014 from moneycontrol.com"
      ],
      "metadata": {
        "id": "RPk6v8DjXeo8"
      }
    },
    {
      "cell_type": "markdown",
      "source": [
        "### Creating the DataFrame based on above listed companies for modelling\n",
        "\n"
      ],
      "metadata": {
        "id": "zdBzHJt2ZQlV"
      }
    },
    {
      "cell_type": "code",
      "source": [
        "fmcg_companies_list = (fmcg_companies_df[fmcg_companies_df['Quarter'] == 'Q4 2014']['Company Name']).to_list()\n",
        "\n",
        "mask = fmcg_companies_df['Company Name'].isin(fmcg_companies_list)\n",
        "\n",
        "fmcg_companies_labelled_results_df = fmcg_companies_df.loc[mask]\n",
        "\n",
        "display(fmcg_companies_labelled_results_df)\n",
        "\n",
        "fmcg_companies_labelled_results_df.to_csv(\"FMCG_Companies_Data_2014.csv\")"
      ],
      "metadata": {
        "id": "pbVa4QUhdePp"
      },
      "execution_count": null,
      "outputs": []
    },
    {
      "cell_type": "markdown",
      "source": [
        "## Data Cleanup\n",
        "\n"
      ],
      "metadata": {
        "id": "DT92x1pbtR73"
      }
    },
    {
      "cell_type": "code",
      "source": [
        "# Remove uncessary information columns\n",
        "fmcg_companies_labelled_results_df.reset_index(inplace=True, drop=True)\n",
        "\n",
        "if 'Description' in fmcg_companies_labelled_results_df.columns:\n",
        "  fmcg_companies_labelled_results_df.pop('Description')\n",
        "\n",
        "\n",
        "\n"
      ],
      "metadata": {
        "colab": {
          "base_uri": "https://localhost:8080/"
        },
        "id": "q3K5tCUytrNM",
        "outputId": "2a006a18-a514-4180-a264-6eccda26086f"
      },
      "execution_count": null,
      "outputs": [
        {
          "output_type": "stream",
          "name": "stdout",
          "text": [
            "<class 'pandas.core.frame.DataFrame'>\n",
            "RangeIndex: 477 entries, 0 to 476\n",
            "Data columns (total 29 columns):\n",
            " #   Column                                                                     Non-Null Count  Dtype  \n",
            "---  ------                                                                     --------------  -----  \n",
            " 0   Security Code                                                              477 non-null    int64  \n",
            " 1   Company Name                                                               477 non-null    object \n",
            " 2   Industry                                                                   477 non-null    object \n",
            " 3   Type                                                                       477 non-null    object \n",
            " 4   Quarter                                                                    477 non-null    object \n",
            " 5   Date Begin                                                                 477 non-null    object \n",
            " 6   Date End                                                                   477 non-null    object \n",
            " 7   Other Income                                                               472 non-null    object \n",
            " 8   Total Income                                                               240 non-null    object \n",
            " 9   Expenditure                                                                477 non-null    object \n",
            " 10  Cost of Materials Consumed                                                 408 non-null    object \n",
            " 11  Finance Costs                                                              231 non-null    object \n",
            " 12  Other Expenses                                                             341 non-null    object \n",
            " 13  Changes in inventories of finished goods workinprogress and stockintrade   238 non-null    object \n",
            " 14  Employee benefit expense                                                   239 non-null    object \n",
            " 15  Depreciation and amortisation expense                                      415 non-null    object \n",
            " 16  Profit  Loss  from Ordinary Activities before Tax                          451 non-null    object \n",
            " 17  Tax                                                                        359 non-null    object \n",
            " 18  Net Profit  Loss  from Ordinary Activities after Tax                       274 non-null    object \n",
            " 19  Net Profit                                                                 134 non-null    object \n",
            " 20  Profit after Interest but before Exceptional Items                         454 non-null    object \n",
            " 21  Current tax                                                                213 non-null    object \n",
            " 22  Next Stock Deviation                                                       477 non-null    float64\n",
            " 23  Deferred tax                                                               195 non-null    object \n",
            " 24  Profit from Operations before Other Income Interest and Exceptional Items  235 non-null    object \n",
            " 25  Profit before Interest and Exceptional Items                               235 non-null    object \n",
            " 26  Interest                                                                   223 non-null    object \n",
            " 27  Other Operating Income                                                     218 non-null    object \n",
            " 28  Purchases of stockintrade                                                  175 non-null    object \n",
            "dtypes: float64(1), int64(1), object(27)\n",
            "memory usage: 108.2+ KB\n"
          ]
        }
      ]
    },
    {
      "cell_type": "code",
      "source": [
        "# Checking Data\n",
        "fmcg_companies_labelled_results_df.Industry.value_counts()\n"
      ],
      "metadata": {
        "colab": {
          "base_uri": "https://localhost:8080/"
        },
        "id": "MBJPHhh1wCmu",
        "outputId": "cd11906b-3825-471f-b76a-20ce3a079d99"
      },
      "execution_count": null,
      "outputs": [
        {
          "output_type": "execute_result",
          "data": {
            "text/plain": [
              "Sugar                          96\n",
              "Personal Care                  96\n",
              "Packaged Foods                 72\n",
              "Diversified FMCG               69\n",
              "Breweries & Distilleries       48\n",
              "Other Agricultural Products    24\n",
              "Animal Feed                    24\n",
              "Dairy Products                 24\n",
              "Batteries                      24\n",
              "Name: Industry, dtype: int64"
            ]
          },
          "metadata": {},
          "execution_count": 79
        }
      ]
    },
    {
      "cell_type": "markdown",
      "source": [
        "The data records are spread across various industries under FMCG Sector as above."
      ],
      "metadata": {
        "id": "-sEfys88weNK"
      }
    },
    {
      "cell_type": "code",
      "source": [
        "fmcg_companies_labelled_results_df.Industry.value_counts(normalize=True)*100"
      ],
      "metadata": {
        "colab": {
          "base_uri": "https://localhost:8080/"
        },
        "id": "YhNnXgoMwsul",
        "outputId": "36871583-fd3b-4792-b116-96f59e5d4584"
      },
      "execution_count": null,
      "outputs": [
        {
          "output_type": "execute_result",
          "data": {
            "text/plain": [
              "Sugar                          20.125786\n",
              "Personal Care                  20.125786\n",
              "Packaged Foods                 15.094340\n",
              "Diversified FMCG               14.465409\n",
              "Breweries & Distilleries       10.062893\n",
              "Other Agricultural Products     5.031447\n",
              "Animal Feed                     5.031447\n",
              "Dairy Products                  5.031447\n",
              "Batteries                       5.031447\n",
              "Name: Industry, dtype: float64"
            ]
          },
          "metadata": {},
          "execution_count": 78
        }
      ]
    }
  ]
}